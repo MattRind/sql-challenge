{
    "metadata": {
        "kernelspec": {
            "name": "SQL",
            "display_name": "SQL",
            "language": "sql"
        },
        "language_info": {
            "name": "sql",
            "version": ""
        }
    },
    "nbformat_minor": 2,
    "nbformat": 4,
    "cells": [
        {
            "cell_type": "code",
            "source": [
                "-- 1. List the employee number, last name, first name, sex, and salary of each employee.\n",
                "SELECT e.emp_no, e.last_name, e.first_name, e.sex, cast(s.salary as money)\n",
                "FROM EmployeesT e\n",
                "JOIN SalariesT s\n",
                "ON (e.emp_no = s.emp_no)\n",
                "LIMIT 10 "
            ],
            "metadata": {
                "azdata_cell_guid": "d76cd60e-e62e-4888-9350-b295f24ccf07",
                "language": "sql"
            },
            "outputs": [
                {
                    "output_type": "display_data",
                    "data": {
                        "text/html": "(10 row(s) affected)"
                    },
                    "metadata": {}
                },
                {
                    "output_type": "display_data",
                    "data": {
                        "text/html": "Total execution time: 00:00:00.005"
                    },
                    "metadata": {}
                },
                {
                    "output_type": "execute_result",
                    "execution_count": 5,
                    "data": {
                        "application/vnd.dataresource+json": {
                            "schema": {
                                "fields": [
                                    {
                                        "name": "emp_no"
                                    },
                                    {
                                        "name": "last_name"
                                    },
                                    {
                                        "name": "first_name"
                                    },
                                    {
                                        "name": "sex"
                                    },
                                    {
                                        "name": "salary"
                                    }
                                ]
                            },
                            "data": [
                                {
                                    "emp_no": "10001",
                                    "last_name": "Facello",
                                    "first_name": "Georgi",
                                    "sex": "M",
                                    "salary": "$60,117.00"
                                },
                                {
                                    "emp_no": "10002",
                                    "last_name": "Simmel",
                                    "first_name": "Bezalel",
                                    "sex": "F",
                                    "salary": "$65,828.00"
                                },
                                {
                                    "emp_no": "10003",
                                    "last_name": "Bamford",
                                    "first_name": "Parto",
                                    "sex": "M",
                                    "salary": "$40,006.00"
                                },
                                {
                                    "emp_no": "10004",
                                    "last_name": "Koblick",
                                    "first_name": "Chirstian",
                                    "sex": "M",
                                    "salary": "$40,054.00"
                                },
                                {
                                    "emp_no": "10005",
                                    "last_name": "Maliniak",
                                    "first_name": "Kyoichi",
                                    "sex": "M",
                                    "salary": "$78,228.00"
                                },
                                {
                                    "emp_no": "10006",
                                    "last_name": "Preusig",
                                    "first_name": "Anneke",
                                    "sex": "F",
                                    "salary": "$40,000.00"
                                },
                                {
                                    "emp_no": "10007",
                                    "last_name": "Zielinski",
                                    "first_name": "Tzvetan",
                                    "sex": "F",
                                    "salary": "$56,724.00"
                                },
                                {
                                    "emp_no": "10008",
                                    "last_name": "Kalloufi",
                                    "first_name": "Saniya",
                                    "sex": "M",
                                    "salary": "$46,671.00"
                                },
                                {
                                    "emp_no": "10009",
                                    "last_name": "Peac",
                                    "first_name": "Sumant",
                                    "sex": "F",
                                    "salary": "$60,929.00"
                                },
                                {
                                    "emp_no": "10010",
                                    "last_name": "Piveteau",
                                    "first_name": "Duangkaew",
                                    "sex": "F",
                                    "salary": "$72,488.00"
                                }
                            ]
                        },
                        "text/html": "<table><tr><th>emp_no</th><th>last_name</th><th>first_name</th><th>sex</th><th>salary</th></tr><tr><td>10001</td><td>Facello</td><td>Georgi</td><td>M</td><td>$60,117.00</td></tr><tr><td>10002</td><td>Simmel</td><td>Bezalel</td><td>F</td><td>$65,828.00</td></tr><tr><td>10003</td><td>Bamford</td><td>Parto</td><td>M</td><td>$40,006.00</td></tr><tr><td>10004</td><td>Koblick</td><td>Chirstian</td><td>M</td><td>$40,054.00</td></tr><tr><td>10005</td><td>Maliniak</td><td>Kyoichi</td><td>M</td><td>$78,228.00</td></tr><tr><td>10006</td><td>Preusig</td><td>Anneke</td><td>F</td><td>$40,000.00</td></tr><tr><td>10007</td><td>Zielinski</td><td>Tzvetan</td><td>F</td><td>$56,724.00</td></tr><tr><td>10008</td><td>Kalloufi</td><td>Saniya</td><td>M</td><td>$46,671.00</td></tr><tr><td>10009</td><td>Peac</td><td>Sumant</td><td>F</td><td>$60,929.00</td></tr><tr><td>10010</td><td>Piveteau</td><td>Duangkaew</td><td>F</td><td>$72,488.00</td></tr></table>"
                    },
                    "metadata": {}
                }
            ],
            "execution_count": 5
        },
        {
            "cell_type": "code",
            "source": [
                "-- 2. List the first name, last name, and hire date for the employees who were hired in 1986.\n",
                "CREATE VIEW employees_1986 AS\n",
                "SELECT first_name, last_name, hire_date\n",
                "FROM EmployeesT \n",
                "WHERE EXTRACT(year from hire_date) = 1986;"
            ],
            "metadata": {
                "azdata_cell_guid": "8efce70d-9f21-4118-b832-8fd4e52580f4",
                "language": "sql",
                "tags": []
            },
            "outputs": [
                {
                    "output_type": "display_data",
                    "data": {
                        "text/html": "CREATE VIEW"
                    },
                    "metadata": {}
                },
                {
                    "output_type": "display_data",
                    "data": {
                        "text/html": "Total execution time: 00:00:00.002"
                    },
                    "metadata": {}
                }
            ],
            "execution_count": 24
        },
        {
            "cell_type": "code",
            "source": [
                "SELECT COUNT(*) FROM employees_1986;\n",
                "SELECT * FROM employees_1986\n",
                "LIMIT 10"
            ],
            "metadata": {
                "azdata_cell_guid": "9f0920c6-0bfb-4750-9c57-0a73a2637096",
                "language": "sql",
                "tags": []
            },
            "outputs": [
                {
                    "output_type": "display_data",
                    "data": {
                        "text/html": "(1 row(s) affected)"
                    },
                    "metadata": {}
                },
                {
                    "output_type": "display_data",
                    "data": {
                        "text/html": "(10 row(s) affected)"
                    },
                    "metadata": {}
                },
                {
                    "output_type": "display_data",
                    "data": {
                        "text/html": "Total execution time: 00:00:00.152"
                    },
                    "metadata": {}
                },
                {
                    "output_type": "execute_result",
                    "execution_count": 26,
                    "data": {
                        "application/vnd.dataresource+json": {
                            "data": [
                                {
                                    "count": "36150"
                                }
                            ],
                            "schema": {
                                "fields": [
                                    {
                                        "name": "count"
                                    }
                                ]
                            }
                        },
                        "text/html": "<table><tr><th>count</th></tr><tr><td>36150</td></tr></table>"
                    },
                    "metadata": {}
                },
                {
                    "output_type": "execute_result",
                    "execution_count": 26,
                    "data": {
                        "application/vnd.dataresource+json": {
                            "data": [
                                {
                                    "first_name": "Eran",
                                    "hire_date": "1986-11-14",
                                    "last_name": "Cusworth"
                                },
                                {
                                    "first_name": "Bojan",
                                    "hire_date": "1986-10-14",
                                    "last_name": "Zallocco"
                                },
                                {
                                    "first_name": "Nevio",
                                    "hire_date": "1986-05-18",
                                    "last_name": "Demizu"
                                },
                                {
                                    "first_name": "Ziva",
                                    "hire_date": "1986-07-03",
                                    "last_name": "Vecchi"
                                },
                                {
                                    "first_name": "Mohit",
                                    "hire_date": "1986-01-14",
                                    "last_name": "Speek"
                                },
                                {
                                    "first_name": "Qunsheng",
                                    "hire_date": "1986-02-13",
                                    "last_name": "Speer"
                                },
                                {
                                    "first_name": "Dines",
                                    "hire_date": "1986-08-02",
                                    "last_name": "Encarnacion"
                                },
                                {
                                    "first_name": "Harngdar",
                                    "hire_date": "1986-05-28",
                                    "last_name": "Swick"
                                },
                                {
                                    "first_name": "Freyja",
                                    "hire_date": "1986-12-20",
                                    "last_name": "Uhrig"
                                },
                                {
                                    "first_name": "Zhenhua",
                                    "hire_date": "1986-08-04",
                                    "last_name": "Milicic"
                                }
                            ],
                            "schema": {
                                "fields": [
                                    {
                                        "name": "first_name"
                                    },
                                    {
                                        "name": "last_name"
                                    },
                                    {
                                        "name": "hire_date"
                                    }
                                ]
                            }
                        },
                        "text/html": "<table><tr><th>first_name</th><th>last_name</th><th>hire_date</th></tr><tr><td>Eran</td><td>Cusworth</td><td>1986-11-14</td></tr><tr><td>Bojan</td><td>Zallocco</td><td>1986-10-14</td></tr><tr><td>Nevio</td><td>Demizu</td><td>1986-05-18</td></tr><tr><td>Ziva</td><td>Vecchi</td><td>1986-07-03</td></tr><tr><td>Mohit</td><td>Speek</td><td>1986-01-14</td></tr><tr><td>Qunsheng</td><td>Speer</td><td>1986-02-13</td></tr><tr><td>Dines</td><td>Encarnacion</td><td>1986-08-02</td></tr><tr><td>Harngdar</td><td>Swick</td><td>1986-05-28</td></tr><tr><td>Freyja</td><td>Uhrig</td><td>1986-12-20</td></tr><tr><td>Zhenhua</td><td>Milicic</td><td>1986-08-04</td></tr></table>"
                    },
                    "metadata": {}
                }
            ],
            "execution_count": 26
        },
        {
            "cell_type": "code",
            "source": [
                "-- 3. List the manager of each department along with their department number, department name, employee number, last name, and first name.\n",
                "SELECT  m.dept_no, d.dept_name, e.emp_no, e.last_name, e.first_name\n",
                "FROM EmployeesT e\n",
                "JOIN Dept_ManagerT m\n",
                "ON (e.emp_no = m.emp_no)\n",
                "JOIN DepartmentsT d\n",
                "ON (m.dept_no = d.dept_no)\n",
                "ORDER BY e.last_name ASC"
            ],
            "metadata": {
                "azdata_cell_guid": "9eacb22a-fc45-408f-b7a2-df6038634364",
                "language": "sql"
            },
            "outputs": [
                {
                    "output_type": "display_data",
                    "data": {
                        "text/html": "(24 row(s) affected)"
                    },
                    "metadata": {}
                },
                {
                    "output_type": "display_data",
                    "data": {
                        "text/html": "Total execution time: 00:00:00.003"
                    },
                    "metadata": {}
                },
                {
                    "output_type": "execute_result",
                    "execution_count": 33,
                    "data": {
                        "application/vnd.dataresource+json": {
                            "data": [
                                {
                                    "dept_name": "Finance",
                                    "dept_no": "d002",
                                    "emp_no": "110085",
                                    "first_name": "Ebru",
                                    "last_name": "Alpin"
                                },
                                {
                                    "dept_name": "Customer Service",
                                    "dept_no": "d009",
                                    "emp_no": "111692",
                                    "first_name": "Tonny",
                                    "last_name": "Butterworth"
                                },
                                {
                                    "dept_name": "Production",
                                    "dept_no": "d004",
                                    "emp_no": "110344",
                                    "first_name": "Rosine",
                                    "last_name": "Cools"
                                },
                                {
                                    "dept_name": "Development",
                                    "dept_no": "d005",
                                    "emp_no": "110567",
                                    "first_name": "Leon",
                                    "last_name": "DasSarma"
                                },
                                {
                                    "dept_name": "Production",
                                    "dept_no": "d004",
                                    "emp_no": "110420",
                                    "first_name": "Oscar",
                                    "last_name": "Ghazalie"
                                },
                                {
                                    "dept_name": "Customer Service",
                                    "dept_no": "d009",
                                    "emp_no": "111784",
                                    "first_name": "Marjo",
                                    "last_name": "Giarratana"
                                },
                                {
                                    "dept_name": "Development",
                                    "dept_no": "d005",
                                    "emp_no": "110511",
                                    "first_name": "DeForest",
                                    "last_name": "Hagimont"
                                },
                                {
                                    "dept_name": "Quality Management",
                                    "dept_no": "d006",
                                    "emp_no": "110765",
                                    "first_name": "Rutger",
                                    "last_name": "Hofmeyr"
                                },
                                {
                                    "dept_name": "Sales",
                                    "dept_no": "d007",
                                    "emp_no": "111035",
                                    "first_name": "Przemyslawa",
                                    "last_name": "Kaelbling"
                                },
                                {
                                    "dept_name": "Research",
                                    "dept_no": "d008",
                                    "emp_no": "111534",
                                    "first_name": "Hilary",
                                    "last_name": "Kambil"
                                },
                                {
                                    "dept_name": "Production",
                                    "dept_no": "d004",
                                    "emp_no": "110386",
                                    "first_name": "Shem",
                                    "last_name": "Kieras"
                                },
                                {
                                    "dept_name": "Finance",
                                    "dept_no": "d002",
                                    "emp_no": "110114",
                                    "first_name": "Isamu",
                                    "last_name": "Legleitner"
                                },
                                {
                                    "dept_name": "Marketing",
                                    "dept_no": "d001",
                                    "emp_no": "110022",
                                    "first_name": "Margareta",
                                    "last_name": "Markovitch"
                                },
                                {
                                    "dept_name": "Marketing",
                                    "dept_no": "d001",
                                    "emp_no": "110039",
                                    "first_name": "Vishwani",
                                    "last_name": "Minakawa"
                                },
                                {
                                    "dept_name": "Quality Management",
                                    "dept_no": "d006",
                                    "emp_no": "110725",
                                    "first_name": "Peternela",
                                    "last_name": "Onuegbe"
                                },
                                {
                                    "dept_name": "Human Resources",
                                    "dept_no": "d003",
                                    "emp_no": "110183",
                                    "first_name": "Shirish",
                                    "last_name": "Ossenbruggen"
                                },
                                {
                                    "dept_name": "Quality Management",
                                    "dept_no": "d006",
                                    "emp_no": "110854",
                                    "first_name": "Dung",
                                    "last_name": "Pesch"
                                },
                                {
                                    "dept_name": "Quality Management",
                                    "dept_no": "d006",
                                    "emp_no": "110800",
                                    "first_name": "Sanjoy",
                                    "last_name": "Quadeer"
                                },
                                {
                                    "dept_name": "Human Resources",
                                    "dept_no": "d003",
                                    "emp_no": "110228",
                                    "first_name": "Karsten",
                                    "last_name": "Sigstam"
                                },
                                {
                                    "dept_name": "Customer Service",
                                    "dept_no": "d009",
                                    "emp_no": "111877",
                                    "first_name": "Xiaobin",
                                    "last_name": "Spinelli"
                                },
                                {
                                    "dept_name": "Research",
                                    "dept_no": "d008",
                                    "emp_no": "111400",
                                    "first_name": "Arie",
                                    "last_name": "Staelin"
                                },
                                {
                                    "dept_name": "Customer Service",
                                    "dept_no": "d009",
                                    "emp_no": "111939",
                                    "first_name": "Yuchang",
                                    "last_name": "Weedman"
                                },
                                {
                                    "dept_name": "Production",
                                    "dept_no": "d004",
                                    "emp_no": "110303",
                                    "first_name": "Krassimir",
                                    "last_name": "Wegerle"
                                },
                                {
                                    "dept_name": "Sales",
                                    "dept_no": "d007",
                                    "emp_no": "111133",
                                    "first_name": "Hauke",
                                    "last_name": "Zhang"
                                }
                            ],
                            "schema": {
                                "fields": [
                                    {
                                        "name": "dept_no"
                                    },
                                    {
                                        "name": "dept_name"
                                    },
                                    {
                                        "name": "emp_no"
                                    },
                                    {
                                        "name": "last_name"
                                    },
                                    {
                                        "name": "first_name"
                                    }
                                ]
                            }
                        },
                        "text/html": "<table><tr><th>dept_no</th><th>dept_name</th><th>emp_no</th><th>last_name</th><th>first_name</th></tr><tr><td>d002</td><td>Finance</td><td>110085</td><td>Alpin</td><td>Ebru</td></tr><tr><td>d009</td><td>Customer Service</td><td>111692</td><td>Butterworth</td><td>Tonny</td></tr><tr><td>d004</td><td>Production</td><td>110344</td><td>Cools</td><td>Rosine</td></tr><tr><td>d005</td><td>Development</td><td>110567</td><td>DasSarma</td><td>Leon</td></tr><tr><td>d004</td><td>Production</td><td>110420</td><td>Ghazalie</td><td>Oscar</td></tr><tr><td>d009</td><td>Customer Service</td><td>111784</td><td>Giarratana</td><td>Marjo</td></tr><tr><td>d005</td><td>Development</td><td>110511</td><td>Hagimont</td><td>DeForest</td></tr><tr><td>d006</td><td>Quality Management</td><td>110765</td><td>Hofmeyr</td><td>Rutger</td></tr><tr><td>d007</td><td>Sales</td><td>111035</td><td>Kaelbling</td><td>Przemyslawa</td></tr><tr><td>d008</td><td>Research</td><td>111534</td><td>Kambil</td><td>Hilary</td></tr><tr><td>d004</td><td>Production</td><td>110386</td><td>Kieras</td><td>Shem</td></tr><tr><td>d002</td><td>Finance</td><td>110114</td><td>Legleitner</td><td>Isamu</td></tr><tr><td>d001</td><td>Marketing</td><td>110022</td><td>Markovitch</td><td>Margareta</td></tr><tr><td>d001</td><td>Marketing</td><td>110039</td><td>Minakawa</td><td>Vishwani</td></tr><tr><td>d006</td><td>Quality Management</td><td>110725</td><td>Onuegbe</td><td>Peternela</td></tr><tr><td>d003</td><td>Human Resources</td><td>110183</td><td>Ossenbruggen</td><td>Shirish</td></tr><tr><td>d006</td><td>Quality Management</td><td>110854</td><td>Pesch</td><td>Dung</td></tr><tr><td>d006</td><td>Quality Management</td><td>110800</td><td>Quadeer</td><td>Sanjoy</td></tr><tr><td>d003</td><td>Human Resources</td><td>110228</td><td>Sigstam</td><td>Karsten</td></tr><tr><td>d009</td><td>Customer Service</td><td>111877</td><td>Spinelli</td><td>Xiaobin</td></tr><tr><td>d008</td><td>Research</td><td>111400</td><td>Staelin</td><td>Arie</td></tr><tr><td>d009</td><td>Customer Service</td><td>111939</td><td>Weedman</td><td>Yuchang</td></tr><tr><td>d004</td><td>Production</td><td>110303</td><td>Wegerle</td><td>Krassimir</td></tr><tr><td>d007</td><td>Sales</td><td>111133</td><td>Zhang</td><td>Hauke</td></tr></table>"
                    },
                    "metadata": {}
                }
            ],
            "execution_count": 33
        },
        {
            "cell_type": "code",
            "source": [
                "-- 4. List the department number for each employee along with that employee’s employee number, last name, first name, and department name.\n",
                "CREATE VIEW employees_departments AS\n",
                "SELECT  de.dept_no, e.emp_no, e.last_name, e.first_name, d.dept_name\n",
                "FROM EmployeesT e\n",
                "JOIN  Dept_EmpT de\n",
                "ON (e.emp_no = de.emp_no)\n",
                "JOIN DepartmentsT d\n",
                "ON (de.dept_no = d.dept_no)"
            ],
            "metadata": {
                "azdata_cell_guid": "bd988f99-a5ad-4043-8290-0754e7972276",
                "language": "sql"
            },
            "outputs": [
                {
                    "output_type": "display_data",
                    "data": {
                        "text/html": "CREATE VIEW"
                    },
                    "metadata": {}
                },
                {
                    "output_type": "display_data",
                    "data": {
                        "text/html": "Total execution time: 00:00:00.002"
                    },
                    "metadata": {}
                }
            ],
            "execution_count": 36
        },
        {
            "cell_type": "code",
            "source": [
                "SELECT COUNT(*) FROM employees_departments; \n",
                "SELECT * FROM employees_departments\n",
                "LIMIT 10"
            ],
            "metadata": {
                "azdata_cell_guid": "a4f2f45a-6472-41bd-a0b0-3d331c215214",
                "language": "sql"
            },
            "outputs": [
                {
                    "output_type": "display_data",
                    "data": {
                        "text/html": "(1 row(s) affected)"
                    },
                    "metadata": {}
                },
                {
                    "output_type": "display_data",
                    "data": {
                        "text/html": "(10 row(s) affected)"
                    },
                    "metadata": {}
                },
                {
                    "output_type": "display_data",
                    "data": {
                        "text/html": "Total execution time: 00:00:00.256"
                    },
                    "metadata": {}
                },
                {
                    "output_type": "execute_result",
                    "execution_count": 1,
                    "data": {
                        "application/vnd.dataresource+json": {
                            "data": [
                                {
                                    "count": "331603"
                                }
                            ],
                            "schema": {
                                "fields": [
                                    {
                                        "name": "count"
                                    }
                                ]
                            }
                        },
                        "text/html": "<table><tr><th>count</th></tr><tr><td>331603</td></tr></table>"
                    },
                    "metadata": {}
                },
                {
                    "output_type": "execute_result",
                    "execution_count": 1,
                    "data": {
                        "application/vnd.dataresource+json": {
                            "data": [
                                {
                                    "dept_name": "Development",
                                    "dept_no": "d005",
                                    "emp_no": "10001",
                                    "first_name": "Georgi",
                                    "last_name": "Facello"
                                },
                                {
                                    "dept_name": "Sales",
                                    "dept_no": "d007",
                                    "emp_no": "10002",
                                    "first_name": "Bezalel",
                                    "last_name": "Simmel"
                                },
                                {
                                    "dept_name": "Production",
                                    "dept_no": "d004",
                                    "emp_no": "10003",
                                    "first_name": "Parto",
                                    "last_name": "Bamford"
                                },
                                {
                                    "dept_name": "Production",
                                    "dept_no": "d004",
                                    "emp_no": "10004",
                                    "first_name": "Chirstian",
                                    "last_name": "Koblick"
                                },
                                {
                                    "dept_name": "Human Resources",
                                    "dept_no": "d003",
                                    "emp_no": "10005",
                                    "first_name": "Kyoichi",
                                    "last_name": "Maliniak"
                                },
                                {
                                    "dept_name": "Development",
                                    "dept_no": "d005",
                                    "emp_no": "10006",
                                    "first_name": "Anneke",
                                    "last_name": "Preusig"
                                },
                                {
                                    "dept_name": "Research",
                                    "dept_no": "d008",
                                    "emp_no": "10007",
                                    "first_name": "Tzvetan",
                                    "last_name": "Zielinski"
                                },
                                {
                                    "dept_name": "Development",
                                    "dept_no": "d005",
                                    "emp_no": "10008",
                                    "first_name": "Saniya",
                                    "last_name": "Kalloufi"
                                },
                                {
                                    "dept_name": "Quality Management",
                                    "dept_no": "d006",
                                    "emp_no": "10009",
                                    "first_name": "Sumant",
                                    "last_name": "Peac"
                                },
                                {
                                    "dept_name": "Production",
                                    "dept_no": "d004",
                                    "emp_no": "10010",
                                    "first_name": "Duangkaew",
                                    "last_name": "Piveteau"
                                }
                            ],
                            "schema": {
                                "fields": [
                                    {
                                        "name": "dept_no"
                                    },
                                    {
                                        "name": "emp_no"
                                    },
                                    {
                                        "name": "last_name"
                                    },
                                    {
                                        "name": "first_name"
                                    },
                                    {
                                        "name": "dept_name"
                                    }
                                ]
                            }
                        },
                        "text/html": "<table><tr><th>dept_no</th><th>emp_no</th><th>last_name</th><th>first_name</th><th>dept_name</th></tr><tr><td>d005</td><td>10001</td><td>Facello</td><td>Georgi</td><td>Development</td></tr><tr><td>d007</td><td>10002</td><td>Simmel</td><td>Bezalel</td><td>Sales</td></tr><tr><td>d004</td><td>10003</td><td>Bamford</td><td>Parto</td><td>Production</td></tr><tr><td>d004</td><td>10004</td><td>Koblick</td><td>Chirstian</td><td>Production</td></tr><tr><td>d003</td><td>10005</td><td>Maliniak</td><td>Kyoichi</td><td>Human Resources</td></tr><tr><td>d005</td><td>10006</td><td>Preusig</td><td>Anneke</td><td>Development</td></tr><tr><td>d008</td><td>10007</td><td>Zielinski</td><td>Tzvetan</td><td>Research</td></tr><tr><td>d005</td><td>10008</td><td>Kalloufi</td><td>Saniya</td><td>Development</td></tr><tr><td>d006</td><td>10009</td><td>Peac</td><td>Sumant</td><td>Quality Management</td></tr><tr><td>d004</td><td>10010</td><td>Piveteau</td><td>Duangkaew</td><td>Production</td></tr></table>"
                    },
                    "metadata": {}
                }
            ],
            "execution_count": 1
        },
        {
            "cell_type": "code",
            "source": [
                "-- as a double check, determine whether the same emp.no is in more than one department:\r\n",
                "-- output is 31579 records; 31579 = 331603 (rows in dept_emp.csv) - 300024 (rows in employees.csv)\n",
                "-- therefore output verifies this.\r\n",
                "SELECT e.emp_no, e.last_name, COUNT(e.emp_no) AS \"frequency of emp no\" \r\n",
                "FROM employees_departments e\r\n",
                "GROUP BY e.emp_no, e.last_name\r\n",
                "HAVING COUNT(e.emp_no) > 1\r\n",
                "ORDER BY \"frequency of emp no\" DESC\r\n",
                "LIMIT 10"
            ],
            "metadata": {
                "language": "sql",
                "azdata_cell_guid": "ce42bd1a-239a-43d2-b373-16d7445d4fb2",
                "tags": []
            },
            "outputs": [
                {
                    "output_type": "display_data",
                    "data": {
                        "text/html": "(10 row(s) affected)"
                    },
                    "metadata": {}
                },
                {
                    "output_type": "display_data",
                    "data": {
                        "text/html": "Total execution time: 00:00:00.496"
                    },
                    "metadata": {}
                },
                {
                    "output_type": "execute_result",
                    "metadata": {},
                    "execution_count": 2,
                    "data": {
                        "application/vnd.dataresource+json": {
                            "schema": {
                                "fields": [
                                    {
                                        "name": "emp_no"
                                    },
                                    {
                                        "name": "last_name"
                                    },
                                    {
                                        "name": "frequency of emp no"
                                    }
                                ]
                            },
                            "data": [
                                {
                                    "emp_no": "10018",
                                    "last_name": "Peha",
                                    "frequency of emp no": "2"
                                },
                                {
                                    "emp_no": "10029",
                                    "last_name": "Herbst",
                                    "frequency of emp no": "2"
                                },
                                {
                                    "emp_no": "10040",
                                    "last_name": "Meriste",
                                    "frequency of emp no": "2"
                                },
                                {
                                    "emp_no": "10050",
                                    "last_name": "Dredge",
                                    "frequency of emp no": "2"
                                },
                                {
                                    "emp_no": "10060",
                                    "last_name": "Billingsley",
                                    "frequency of emp no": "2"
                                },
                                {
                                    "emp_no": "10070",
                                    "last_name": "Garigliano",
                                    "frequency of emp no": "2"
                                },
                                {
                                    "emp_no": "10080",
                                    "last_name": "Baek",
                                    "frequency of emp no": "2"
                                },
                                {
                                    "emp_no": "10088",
                                    "last_name": "Syrzycki",
                                    "frequency of emp no": "2"
                                },
                                {
                                    "emp_no": "10098",
                                    "last_name": "Servieres",
                                    "frequency of emp no": "2"
                                },
                                {
                                    "emp_no": "10010",
                                    "last_name": "Piveteau",
                                    "frequency of emp no": "2"
                                }
                            ]
                        },
                        "text/html": [
                            "<table>",
                            "<tr><th>emp_no</th><th>last_name</th><th>frequency of emp no</th></tr>",
                            "<tr><td>10018</td><td>Peha</td><td>2</td></tr>",
                            "<tr><td>10029</td><td>Herbst</td><td>2</td></tr>",
                            "<tr><td>10040</td><td>Meriste</td><td>2</td></tr>",
                            "<tr><td>10050</td><td>Dredge</td><td>2</td></tr>",
                            "<tr><td>10060</td><td>Billingsley</td><td>2</td></tr>",
                            "<tr><td>10070</td><td>Garigliano</td><td>2</td></tr>",
                            "<tr><td>10080</td><td>Baek</td><td>2</td></tr>",
                            "<tr><td>10088</td><td>Syrzycki</td><td>2</td></tr>",
                            "<tr><td>10098</td><td>Servieres</td><td>2</td></tr>",
                            "<tr><td>10010</td><td>Piveteau</td><td>2</td></tr>",
                            "</table>"
                        ]
                    }
                }
            ],
            "execution_count": 2
        },
        {
            "cell_type": "code",
            "source": [
                "-- randomly pick one emp_no to verify same employee is recorded in more than one dept. \r\n",
                "SELECT  de.dept_no, e.emp_no, e.last_name, e.first_name, e.birth_date, e.hire_date, d.dept_name\r\n",
                "FROM EmployeesT e\r\n",
                "JOIN  Dept_EmpT de\r\n",
                "ON (e.emp_no = de.emp_no)\r\n",
                "JOIN DepartmentsT d\r\n",
                "ON (de.dept_no = d.dept_no)\r\n",
                "WHERE e.emp_no = 39754"
            ],
            "metadata": {
                "language": "sql",
                "azdata_cell_guid": "471c598e-a073-4cc4-b22b-6ff33f47c3a3"
            },
            "outputs": [
                {
                    "output_type": "display_data",
                    "data": {
                        "text/html": "(2 row(s) affected)"
                    },
                    "metadata": {}
                },
                {
                    "output_type": "display_data",
                    "data": {
                        "text/html": "Total execution time: 00:00:00.004"
                    },
                    "metadata": {}
                },
                {
                    "output_type": "execute_result",
                    "metadata": {},
                    "execution_count": 3,
                    "data": {
                        "application/vnd.dataresource+json": {
                            "schema": {
                                "fields": [
                                    {
                                        "name": "dept_no"
                                    },
                                    {
                                        "name": "emp_no"
                                    },
                                    {
                                        "name": "last_name"
                                    },
                                    {
                                        "name": "first_name"
                                    },
                                    {
                                        "name": "birth_date"
                                    },
                                    {
                                        "name": "hire_date"
                                    },
                                    {
                                        "name": "dept_name"
                                    }
                                ]
                            },
                            "data": [
                                {
                                    "dept_no": "d004",
                                    "emp_no": "39754",
                                    "last_name": "Vuskovic",
                                    "first_name": "Genki",
                                    "birth_date": "1956-03-16",
                                    "hire_date": "1995-06-25",
                                    "dept_name": "Production"
                                },
                                {
                                    "dept_no": "d005",
                                    "emp_no": "39754",
                                    "last_name": "Vuskovic",
                                    "first_name": "Genki",
                                    "birth_date": "1956-03-16",
                                    "hire_date": "1995-06-25",
                                    "dept_name": "Development"
                                }
                            ]
                        },
                        "text/html": [
                            "<table>",
                            "<tr><th>dept_no</th><th>emp_no</th><th>last_name</th><th>first_name</th><th>birth_date</th><th>hire_date</th><th>dept_name</th></tr>",
                            "<tr><td>d004</td><td>39754</td><td>Vuskovic</td><td>Genki</td><td>1956-03-16</td><td>1995-06-25</td><td>Production</td></tr>",
                            "<tr><td>d005</td><td>39754</td><td>Vuskovic</td><td>Genki</td><td>1956-03-16</td><td>1995-06-25</td><td>Development</td></tr>",
                            "</table>"
                        ]
                    }
                }
            ],
            "execution_count": 3
        },
        {
            "cell_type": "code",
            "source": [
                "-- 5. List first name, last name, and sex of each employee whose first name is Hercules and whose last name begins with the letter B.\n",
                "SELECT first_name, last_name, sex\n",
                "FROM EmployeesT \n",
                "WHERE first_name = 'Hercules' AND LEFT(last_name, 1) = 'B'\n",
                "ORDER BY last_name ASC;     -- this is added to visually check if anyone has same last name"
            ],
            "metadata": {
                "azdata_cell_guid": "a6326225-e95f-4c8d-b5a6-891e5a58d12a",
                "language": "sql"
            },
            "outputs": [
                {
                    "output_type": "display_data",
                    "data": {
                        "text/html": "(20 row(s) affected)"
                    },
                    "metadata": {}
                },
                {
                    "output_type": "display_data",
                    "data": {
                        "text/html": "Total execution time: 00:00:00.106"
                    },
                    "metadata": {}
                },
                {
                    "output_type": "execute_result",
                    "execution_count": 2,
                    "data": {
                        "application/vnd.dataresource+json": {
                            "schema": {
                                "fields": [
                                    {
                                        "name": "first_name"
                                    },
                                    {
                                        "name": "last_name"
                                    },
                                    {
                                        "name": "sex"
                                    }
                                ]
                            },
                            "data": [
                                {
                                    "first_name": "Hercules",
                                    "last_name": "Baak",
                                    "sex": "M"
                                },
                                {
                                    "first_name": "Hercules",
                                    "last_name": "Baer",
                                    "sex": "M"
                                },
                                {
                                    "first_name": "Hercules",
                                    "last_name": "Bahr",
                                    "sex": "M"
                                },
                                {
                                    "first_name": "Hercules",
                                    "last_name": "Bail",
                                    "sex": "F"
                                },
                                {
                                    "first_name": "Hercules",
                                    "last_name": "Bain",
                                    "sex": "F"
                                },
                                {
                                    "first_name": "Hercules",
                                    "last_name": "Baranowski",
                                    "sex": "M"
                                },
                                {
                                    "first_name": "Hercules",
                                    "last_name": "Barreiro",
                                    "sex": "M"
                                },
                                {
                                    "first_name": "Hercules",
                                    "last_name": "Basagni",
                                    "sex": "M"
                                },
                                {
                                    "first_name": "Hercules",
                                    "last_name": "Benantar",
                                    "sex": "F"
                                },
                                {
                                    "first_name": "Hercules",
                                    "last_name": "Benzmuller",
                                    "sex": "M"
                                },
                                {
                                    "first_name": "Hercules",
                                    "last_name": "Bernardinello",
                                    "sex": "F"
                                },
                                {
                                    "first_name": "Hercules",
                                    "last_name": "Bernatsky",
                                    "sex": "M"
                                },
                                {
                                    "first_name": "Hercules",
                                    "last_name": "Berstel",
                                    "sex": "F"
                                },
                                {
                                    "first_name": "Hercules",
                                    "last_name": "Biran",
                                    "sex": "F"
                                },
                                {
                                    "first_name": "Hercules",
                                    "last_name": "Birge",
                                    "sex": "F"
                                },
                                {
                                    "first_name": "Hercules",
                                    "last_name": "Biron",
                                    "sex": "F"
                                },
                                {
                                    "first_name": "Hercules",
                                    "last_name": "Bisiani",
                                    "sex": "F"
                                },
                                {
                                    "first_name": "Hercules",
                                    "last_name": "Bodoff",
                                    "sex": "M"
                                },
                                {
                                    "first_name": "Hercules",
                                    "last_name": "Brendel",
                                    "sex": "F"
                                },
                                {
                                    "first_name": "Hercules",
                                    "last_name": "Buchter",
                                    "sex": "M"
                                }
                            ]
                        },
                        "text/html": "<table><tr><th>first_name</th><th>last_name</th><th>sex</th></tr><tr><td>Hercules</td><td>Baak</td><td>M</td></tr><tr><td>Hercules</td><td>Baer</td><td>M</td></tr><tr><td>Hercules</td><td>Bahr</td><td>M</td></tr><tr><td>Hercules</td><td>Bail</td><td>F</td></tr><tr><td>Hercules</td><td>Bain</td><td>F</td></tr><tr><td>Hercules</td><td>Baranowski</td><td>M</td></tr><tr><td>Hercules</td><td>Barreiro</td><td>M</td></tr><tr><td>Hercules</td><td>Basagni</td><td>M</td></tr><tr><td>Hercules</td><td>Benantar</td><td>F</td></tr><tr><td>Hercules</td><td>Benzmuller</td><td>M</td></tr><tr><td>Hercules</td><td>Bernardinello</td><td>F</td></tr><tr><td>Hercules</td><td>Bernatsky</td><td>M</td></tr><tr><td>Hercules</td><td>Berstel</td><td>F</td></tr><tr><td>Hercules</td><td>Biran</td><td>F</td></tr><tr><td>Hercules</td><td>Birge</td><td>F</td></tr><tr><td>Hercules</td><td>Biron</td><td>F</td></tr><tr><td>Hercules</td><td>Bisiani</td><td>F</td></tr><tr><td>Hercules</td><td>Bodoff</td><td>M</td></tr><tr><td>Hercules</td><td>Brendel</td><td>F</td></tr><tr><td>Hercules</td><td>Buchter</td><td>M</td></tr></table>"
                    },
                    "metadata": {}
                }
            ],
            "execution_count": 2
        },
        {
            "cell_type": "code",
            "source": [
                "-- 6. List each employee in the Sales department, including their employee number, last name, and first name.\n",
                "CREATE VIEW sales_dept AS\n",
                "SELECT emp_no, last_name, first_name, dept_name  -- query will work w/o selecting dept_name, but decide to show anyway\n",
                "FROM employees_departments\n",
                "WHERE dept_name = 'Sales'   -- alternatively, WHERE dept_no = \"d007\""
            ],
            "metadata": {
                "azdata_cell_guid": "95aaa791-0278-4e45-8ba5-f5cbd70fe548",
                "language": "sql",
                "tags": []
            },
            "outputs": [
                {
                    "output_type": "display_data",
                    "data": {
                        "text/html": "CREATE VIEW"
                    },
                    "metadata": {}
                },
                {
                    "output_type": "display_data",
                    "data": {
                        "text/html": "Total execution time: 00:00:00.002"
                    },
                    "metadata": {}
                }
            ],
            "execution_count": 53
        },
        {
            "cell_type": "code",
            "source": [
                "SELECT COUNT(*) FROM sales_dept; \n",
                "SELECT * FROM sales_dept\n",
                "LIMIT 10"
            ],
            "metadata": {
                "azdata_cell_guid": "5cb357f9-6ef2-4ec6-9091-3e82120d7343",
                "language": "sql"
            },
            "outputs": [
                {
                    "output_type": "display_data",
                    "data": {
                        "text/html": "(1 row(s) affected)"
                    },
                    "metadata": {}
                },
                {
                    "output_type": "display_data",
                    "data": {
                        "text/html": "(10 row(s) affected)"
                    },
                    "metadata": {}
                },
                {
                    "output_type": "display_data",
                    "data": {
                        "text/html": "Total execution time: 00:00:00.111"
                    },
                    "metadata": {}
                },
                {
                    "output_type": "execute_result",
                    "execution_count": 54,
                    "data": {
                        "application/vnd.dataresource+json": {
                            "data": [
                                {
                                    "count": "52245"
                                }
                            ],
                            "schema": {
                                "fields": [
                                    {
                                        "name": "count"
                                    }
                                ]
                            }
                        },
                        "text/html": "<table><tr><th>count</th></tr><tr><td>52245</td></tr></table>"
                    },
                    "metadata": {}
                },
                {
                    "output_type": "execute_result",
                    "execution_count": 54,
                    "data": {
                        "application/vnd.dataresource+json": {
                            "data": [
                                {
                                    "dept_name": "Sales",
                                    "emp_no": "10002",
                                    "first_name": "Bezalel",
                                    "last_name": "Simmel"
                                },
                                {
                                    "dept_name": "Sales",
                                    "emp_no": "10016",
                                    "first_name": "Kazuhito",
                                    "last_name": "Cappelletti"
                                },
                                {
                                    "dept_name": "Sales",
                                    "emp_no": "10034",
                                    "first_name": "Bader",
                                    "last_name": "Swan"
                                },
                                {
                                    "dept_name": "Sales",
                                    "emp_no": "10041",
                                    "first_name": "Uri",
                                    "last_name": "Lenart"
                                },
                                {
                                    "dept_name": "Sales",
                                    "emp_no": "10050",
                                    "first_name": "Yinghua",
                                    "last_name": "Dredge"
                                },
                                {
                                    "dept_name": "Sales",
                                    "emp_no": "10053",
                                    "first_name": "Sanjiv",
                                    "last_name": "Zschoche"
                                },
                                {
                                    "dept_name": "Sales",
                                    "emp_no": "10060",
                                    "first_name": "Breannda",
                                    "last_name": "Billingsley"
                                },
                                {
                                    "dept_name": "Sales",
                                    "emp_no": "10061",
                                    "first_name": "Tse",
                                    "last_name": "Herber"
                                },
                                {
                                    "dept_name": "Sales",
                                    "emp_no": "10068",
                                    "first_name": "Charlene",
                                    "last_name": "Brattka"
                                },
                                {
                                    "dept_name": "Sales",
                                    "emp_no": "10087",
                                    "first_name": "Xinglin",
                                    "last_name": "Eugenio"
                                }
                            ],
                            "schema": {
                                "fields": [
                                    {
                                        "name": "emp_no"
                                    },
                                    {
                                        "name": "last_name"
                                    },
                                    {
                                        "name": "first_name"
                                    },
                                    {
                                        "name": "dept_name"
                                    }
                                ]
                            }
                        },
                        "text/html": "<table><tr><th>emp_no</th><th>last_name</th><th>first_name</th><th>dept_name</th></tr><tr><td>10002</td><td>Simmel</td><td>Bezalel</td><td>Sales</td></tr><tr><td>10016</td><td>Cappelletti</td><td>Kazuhito</td><td>Sales</td></tr><tr><td>10034</td><td>Swan</td><td>Bader</td><td>Sales</td></tr><tr><td>10041</td><td>Lenart</td><td>Uri</td><td>Sales</td></tr><tr><td>10050</td><td>Dredge</td><td>Yinghua</td><td>Sales</td></tr><tr><td>10053</td><td>Zschoche</td><td>Sanjiv</td><td>Sales</td></tr><tr><td>10060</td><td>Billingsley</td><td>Breannda</td><td>Sales</td></tr><tr><td>10061</td><td>Herber</td><td>Tse</td><td>Sales</td></tr><tr><td>10068</td><td>Brattka</td><td>Charlene</td><td>Sales</td></tr><tr><td>10087</td><td>Eugenio</td><td>Xinglin</td><td>Sales</td></tr></table>"
                    },
                    "metadata": {}
                }
            ],
            "execution_count": 54
        },
        {
            "cell_type": "code",
            "source": [
                "-- 7. List each employee in the Sales and Development departments, including their employee number, last name, first name, and department name.\n",
                "CREATE VIEW sales_devs_dept AS\n",
                "SELECT emp_no, last_name, first_name, dept_name  \n",
                "FROM employees_departments\n",
                "WHERE dept_name = 'Sales' OR dept_name = 'Development'"
            ],
            "metadata": {
                "azdata_cell_guid": "b3f46a9e-683b-4f87-bba9-f6b15f6ba198",
                "language": "sql"
            },
            "outputs": [
                {
                    "output_type": "display_data",
                    "data": {
                        "text/html": "CREATE VIEW"
                    },
                    "metadata": {}
                },
                {
                    "output_type": "display_data",
                    "data": {
                        "text/html": "Total execution time: 00:00:00.002"
                    },
                    "metadata": {}
                }
            ],
            "execution_count": 70
        },
        {
            "cell_type": "code",
            "source": [
                "SELECT COUNT(*) FROM sales_devs_dept; \n",
                "SELECT * FROM sales_devs_dept\n",
                "LIMIT 10"
            ],
            "metadata": {
                "azdata_cell_guid": "2ae9bd21-2aa2-4d72-967e-8357e332b69e",
                "language": "sql"
            },
            "outputs": [
                {
                    "output_type": "display_data",
                    "data": {
                        "text/html": "(1 row(s) affected)"
                    },
                    "metadata": {}
                },
                {
                    "output_type": "display_data",
                    "data": {
                        "text/html": "(10 row(s) affected)"
                    },
                    "metadata": {}
                },
                {
                    "output_type": "display_data",
                    "data": {
                        "text/html": "Total execution time: 00:00:00.160"
                    },
                    "metadata": {}
                },
                {
                    "output_type": "execute_result",
                    "execution_count": 71,
                    "data": {
                        "application/vnd.dataresource+json": {
                            "data": [
                                {
                                    "count": "137952"
                                }
                            ],
                            "schema": {
                                "fields": [
                                    {
                                        "name": "count"
                                    }
                                ]
                            }
                        },
                        "text/html": "<table><tr><th>count</th></tr><tr><td>137952</td></tr></table>"
                    },
                    "metadata": {}
                },
                {
                    "output_type": "execute_result",
                    "execution_count": 71,
                    "data": {
                        "application/vnd.dataresource+json": {
                            "data": [
                                {
                                    "dept_name": "Development",
                                    "emp_no": "10001",
                                    "first_name": "Georgi",
                                    "last_name": "Facello"
                                },
                                {
                                    "dept_name": "Sales",
                                    "emp_no": "10002",
                                    "first_name": "Bezalel",
                                    "last_name": "Simmel"
                                },
                                {
                                    "dept_name": "Development",
                                    "emp_no": "10006",
                                    "first_name": "Anneke",
                                    "last_name": "Preusig"
                                },
                                {
                                    "dept_name": "Development",
                                    "emp_no": "10008",
                                    "first_name": "Saniya",
                                    "last_name": "Kalloufi"
                                },
                                {
                                    "dept_name": "Development",
                                    "emp_no": "10012",
                                    "first_name": "Patricio",
                                    "last_name": "Bridgland"
                                },
                                {
                                    "dept_name": "Development",
                                    "emp_no": "10014",
                                    "first_name": "Berni",
                                    "last_name": "Genin"
                                },
                                {
                                    "dept_name": "Sales",
                                    "emp_no": "10016",
                                    "first_name": "Kazuhito",
                                    "last_name": "Cappelletti"
                                },
                                {
                                    "dept_name": "Development",
                                    "emp_no": "10018",
                                    "first_name": "Kazuhide",
                                    "last_name": "Peha"
                                },
                                {
                                    "dept_name": "Development",
                                    "emp_no": "10021",
                                    "first_name": "Ramzi",
                                    "last_name": "Erde"
                                },
                                {
                                    "dept_name": "Development",
                                    "emp_no": "10022",
                                    "first_name": "Shahaf",
                                    "last_name": "Famili"
                                }
                            ],
                            "schema": {
                                "fields": [
                                    {
                                        "name": "emp_no"
                                    },
                                    {
                                        "name": "last_name"
                                    },
                                    {
                                        "name": "first_name"
                                    },
                                    {
                                        "name": "dept_name"
                                    }
                                ]
                            }
                        },
                        "text/html": "<table><tr><th>emp_no</th><th>last_name</th><th>first_name</th><th>dept_name</th></tr><tr><td>10001</td><td>Facello</td><td>Georgi</td><td>Development</td></tr><tr><td>10002</td><td>Simmel</td><td>Bezalel</td><td>Sales</td></tr><tr><td>10006</td><td>Preusig</td><td>Anneke</td><td>Development</td></tr><tr><td>10008</td><td>Kalloufi</td><td>Saniya</td><td>Development</td></tr><tr><td>10012</td><td>Bridgland</td><td>Patricio</td><td>Development</td></tr><tr><td>10014</td><td>Genin</td><td>Berni</td><td>Development</td></tr><tr><td>10016</td><td>Cappelletti</td><td>Kazuhito</td><td>Sales</td></tr><tr><td>10018</td><td>Peha</td><td>Kazuhide</td><td>Development</td></tr><tr><td>10021</td><td>Erde</td><td>Ramzi</td><td>Development</td></tr><tr><td>10022</td><td>Famili</td><td>Shahaf</td><td>Development</td></tr></table>"
                    },
                    "metadata": {}
                }
            ],
            "execution_count": 71
        },
        {
            "cell_type": "code",
            "source": [
                "-- 8. List the frequency counts, in descending order, of all the employee last names (that is, how many employees share each last name)\n",
                "SELECT last_name, COUNT(emp_no) AS \"frequency of same last name\"\n",
                "FROM EmployeesT\n",
                "GROUP BY last_name\n",
                "ORDER BY \"frequency of same last name\" DESC"
            ],
            "metadata": {
                "azdata_cell_guid": "89c3d355-bc3f-4d4a-94d2-a0fec4aeb8ee",
                "language": "sql",
                "tags": []
            },
            "outputs": [
                {
                    "output_type": "display_data",
                    "data": {
                        "text/html": "(1638 row(s) affected)"
                    },
                    "metadata": {}
                },
                {
                    "output_type": "display_data",
                    "data": {
                        "text/html": "Total execution time: 00:00:00.113"
                    },
                    "metadata": {}
                },
                {
                    "output_type": "execute_result",
                    "execution_count": 1,
                    "data": {
                        "application/vnd.dataresource+json": {
                            "data": [
                                {
                                    "frequency of same last name": "226",
                                    "last_name": "Baba"
                                },
                                {
                                    "frequency of same last name": "223",
                                    "last_name": "Gelosh"
                                },
                                {
                                    "frequency of same last name": "223",
                                    "last_name": "Coorg"
                                },
                                {
                                    "frequency of same last name": "222",
                                    "last_name": "Farris"
                                },
                                {
                                    "frequency of same last name": "222",
                                    "last_name": "Sudbeck"
                                },
                                {
                                    "frequency of same last name": "221",
                                    "last_name": "Adachi"
                                },
                                {
                                    "frequency of same last name": "220",
                                    "last_name": "Osgood"
                                },
                                {
                                    "frequency of same last name": "218",
                                    "last_name": "Neiman"
                                },
                                {
                                    "frequency of same last name": "218",
                                    "last_name": "Masada"
                                },
                                {
                                    "frequency of same last name": "218",
                                    "last_name": "Mandell"
                                },
                                {
                                    "frequency of same last name": "217",
                                    "last_name": "Wendorf"
                                },
                                {
                                    "frequency of same last name": "217",
                                    "last_name": "Boudaillier"
                                },
                                {
                                    "frequency of same last name": "216",
                                    "last_name": "Solares"
                                },
                                {
                                    "frequency of same last name": "216",
                                    "last_name": "Pettis"
                                },
                                {
                                    "frequency of same last name": "216",
                                    "last_name": "Mahnke"
                                },
                                {
                                    "frequency of same last name": "216",
                                    "last_name": "Cummings"
                                },
                                {
                                    "frequency of same last name": "215",
                                    "last_name": "Maksimenko"
                                },
                                {
                                    "frequency of same last name": "215",
                                    "last_name": "Kulisch"
                                },
                                {
                                    "frequency of same last name": "215",
                                    "last_name": "Birjandi"
                                },
                                {
                                    "frequency of same last name": "215",
                                    "last_name": "Emmart"
                                },
                                {
                                    "frequency of same last name": "215",
                                    "last_name": "Collette"
                                },
                                {
                                    "frequency of same last name": "214",
                                    "last_name": "Pokrovskii"
                                },
                                {
                                    "frequency of same last name": "214",
                                    "last_name": "Scallan"
                                },
                                {
                                    "frequency of same last name": "214",
                                    "last_name": "Boguraev"
                                },
                                {
                                    "frequency of same last name": "214",
                                    "last_name": "Rosaz"
                                },
                                {
                                    "frequency of same last name": "213",
                                    "last_name": "Wolniewicz"
                                },
                                {
                                    "frequency of same last name": "213",
                                    "last_name": "Siksek"
                                },
                                {
                                    "frequency of same last name": "213",
                                    "last_name": "Morrey"
                                },
                                {
                                    "frequency of same last name": "213",
                                    "last_name": "Stifter"
                                },
                                {
                                    "frequency of same last name": "212",
                                    "last_name": "Swen"
                                },
                                {
                                    "frequency of same last name": "212",
                                    "last_name": "Rajcani"
                                },
                                {
                                    "frequency of same last name": "212",
                                    "last_name": "Garrabrants"
                                },
                                {
                                    "frequency of same last name": "212",
                                    "last_name": "Herber"
                                },
                                {
                                    "frequency of same last name": "212",
                                    "last_name": "Peek"
                                },
                                {
                                    "frequency of same last name": "212",
                                    "last_name": "Siepmann"
                                },
                                {
                                    "frequency of same last name": "212",
                                    "last_name": "Rabehasaina"
                                },
                                {
                                    "frequency of same last name": "212",
                                    "last_name": "Pramanik"
                                },
                                {
                                    "frequency of same last name": "212",
                                    "last_name": "Taubman"
                                },
                                {
                                    "frequency of same last name": "211",
                                    "last_name": "Gente"
                                },
                                {
                                    "frequency of same last name": "211",
                                    "last_name": "Kitsuregawa"
                                },
                                {
                                    "frequency of same last name": "211",
                                    "last_name": "Ventosa"
                                },
                                {
                                    "frequency of same last name": "211",
                                    "last_name": "Ghemri"
                                },
                                {
                                    "frequency of same last name": "211",
                                    "last_name": "Barriga"
                                },
                                {
                                    "frequency of same last name": "211",
                                    "last_name": "Kamber"
                                },
                                {
                                    "frequency of same last name": "211",
                                    "last_name": "Cangellaris"
                                },
                                {
                                    "frequency of same last name": "211",
                                    "last_name": "Asser"
                                },
                                {
                                    "frequency of same last name": "210",
                                    "last_name": "Redmiles"
                                },
                                {
                                    "frequency of same last name": "210",
                                    "last_name": "Bolsens"
                                },
                                {
                                    "frequency of same last name": "210",
                                    "last_name": "Schaaf"
                                },
                                {
                                    "frequency of same last name": "210",
                                    "last_name": "Luce"
                                },
                                {
                                    "frequency of same last name": "210",
                                    "last_name": "Driscoll"
                                },
                                {
                                    "frequency of same last name": "209",
                                    "last_name": "Zuberek"
                                },
                                {
                                    "frequency of same last name": "209",
                                    "last_name": "Khasidashvili"
                                },
                                {
                                    "frequency of same last name": "209",
                                    "last_name": "Serra"
                                },
                                {
                                    "frequency of same last name": "209",
                                    "last_name": "Gerlach"
                                },
                                {
                                    "frequency of same last name": "209",
                                    "last_name": "Malabarba"
                                },
                                {
                                    "frequency of same last name": "209",
                                    "last_name": "Chenney"
                                },
                                {
                                    "frequency of same last name": "209",
                                    "last_name": "Gewali"
                                },
                                {
                                    "frequency of same last name": "209",
                                    "last_name": "Flowers"
                                },
                                {
                                    "frequency of same last name": "209",
                                    "last_name": "Lamparter"
                                },
                                {
                                    "frequency of same last name": "209",
                                    "last_name": "Lunt"
                                },
                                {
                                    "frequency of same last name": "208",
                                    "last_name": "Gecsei"
                                },
                                {
                                    "frequency of same last name": "208",
                                    "last_name": "Aloia"
                                },
                                {
                                    "frequency of same last name": "208",
                                    "last_name": "Jenevein"
                                },
                                {
                                    "frequency of same last name": "208",
                                    "last_name": "Cesareni"
                                },
                                {
                                    "frequency of same last name": "208",
                                    "last_name": "Lowrie"
                                },
                                {
                                    "frequency of same last name": "208",
                                    "last_name": "Panienski"
                                },
                                {
                                    "frequency of same last name": "207",
                                    "last_name": "Akazan"
                                },
                                {
                                    "frequency of same last name": "207",
                                    "last_name": "Garnier"
                                },
                                {
                                    "frequency of same last name": "207",
                                    "last_name": "Angelopoulos"
                                },
                                {
                                    "frequency of same last name": "207",
                                    "last_name": "Lamba"
                                },
                                {
                                    "frequency of same last name": "206",
                                    "last_name": "Duclos"
                                },
                                {
                                    "frequency of same last name": "206",
                                    "last_name": "Foote"
                                },
                                {
                                    "frequency of same last name": "206",
                                    "last_name": "Perng"
                                },
                                {
                                    "frequency of same last name": "206",
                                    "last_name": "Gaughan"
                                },
                                {
                                    "frequency of same last name": "206",
                                    "last_name": "Braunmuhl"
                                },
                                {
                                    "frequency of same last name": "206",
                                    "last_name": "Hebert"
                                },
                                {
                                    "frequency of same last name": "206",
                                    "last_name": "Chimia"
                                },
                                {
                                    "frequency of same last name": "206",
                                    "last_name": "Bondorf"
                                },
                                {
                                    "frequency of same last name": "205",
                                    "last_name": "Siprelle"
                                },
                                {
                                    "frequency of same last name": "205",
                                    "last_name": "Garnham"
                                },
                                {
                                    "frequency of same last name": "205",
                                    "last_name": "Emden"
                                },
                                {
                                    "frequency of same last name": "205",
                                    "last_name": "Ecklund"
                                },
                                {
                                    "frequency of same last name": "205",
                                    "last_name": "DeMori"
                                },
                                {
                                    "frequency of same last name": "205",
                                    "last_name": "Bennet"
                                },
                                {
                                    "frequency of same last name": "205",
                                    "last_name": "Aamodt"
                                },
                                {
                                    "frequency of same last name": "205",
                                    "last_name": "Shimshoni"
                                },
                                {
                                    "frequency of same last name": "205",
                                    "last_name": "Ponthieu"
                                },
                                {
                                    "frequency of same last name": "205",
                                    "last_name": "Encarnacion"
                                },
                                {
                                    "frequency of same last name": "205",
                                    "last_name": "Matzov"
                                },
                                {
                                    "frequency of same last name": "205",
                                    "last_name": "Lanphier"
                                },
                                {
                                    "frequency of same last name": "205",
                                    "last_name": "Geffroy"
                                },
                                {
                                    "frequency of same last name": "205",
                                    "last_name": "Onuegbe"
                                },
                                {
                                    "frequency of same last name": "205",
                                    "last_name": "Panangaden"
                                },
                                {
                                    "frequency of same last name": "205",
                                    "last_name": "Marakhovsky"
                                },
                                {
                                    "frequency of same last name": "204",
                                    "last_name": "Swick"
                                },
                                {
                                    "frequency of same last name": "204",
                                    "last_name": "Coors"
                                },
                                {
                                    "frequency of same last name": "204",
                                    "last_name": "Riexinger"
                                },
                                {
                                    "frequency of same last name": "204",
                                    "last_name": "Luders"
                                },
                                {
                                    "frequency of same last name": "204",
                                    "last_name": "Shiratori"
                                },
                                {
                                    "frequency of same last name": "204",
                                    "last_name": "Linares"
                                },
                                {
                                    "frequency of same last name": "204",
                                    "last_name": "Argence"
                                },
                                {
                                    "frequency of same last name": "204",
                                    "last_name": "Shrader"
                                },
                                {
                                    "frequency of same last name": "204",
                                    "last_name": "Alpin"
                                },
                                {
                                    "frequency of same last name": "204",
                                    "last_name": "Desikan"
                                },
                                {
                                    "frequency of same last name": "204",
                                    "last_name": "Legleitner"
                                },
                                {
                                    "frequency of same last name": "204",
                                    "last_name": "Whitcomb"
                                },
                                {
                                    "frequency of same last name": "204",
                                    "last_name": "Malinowski"
                                },
                                {
                                    "frequency of same last name": "203",
                                    "last_name": "Herbst"
                                },
                                {
                                    "frequency of same last name": "203",
                                    "last_name": "Champarnaud"
                                },
                                {
                                    "frequency of same last name": "203",
                                    "last_name": "Feinberg"
                                },
                                {
                                    "frequency of same last name": "203",
                                    "last_name": "Ishibashi"
                                },
                                {
                                    "frequency of same last name": "203",
                                    "last_name": "Doering"
                                },
                                {
                                    "frequency of same last name": "203",
                                    "last_name": "Tramer"
                                },
                                {
                                    "frequency of same last name": "203",
                                    "last_name": "Lorho"
                                },
                                {
                                    "frequency of same last name": "203",
                                    "last_name": "Kirkerud"
                                },
                                {
                                    "frequency of same last name": "203",
                                    "last_name": "Penttonen"
                                },
                                {
                                    "frequency of same last name": "203",
                                    "last_name": "Conta"
                                },
                                {
                                    "frequency of same last name": "203",
                                    "last_name": "Ramsay"
                                },
                                {
                                    "frequency of same last name": "203",
                                    "last_name": "Tetzlaff"
                                },
                                {
                                    "frequency of same last name": "203",
                                    "last_name": "Ghandeharizadeh"
                                },
                                {
                                    "frequency of same last name": "202",
                                    "last_name": "Lubachevsky"
                                },
                                {
                                    "frequency of same last name": "202",
                                    "last_name": "Soicher"
                                },
                                {
                                    "frequency of same last name": "202",
                                    "last_name": "Kilgour"
                                },
                                {
                                    "frequency of same last name": "202",
                                    "last_name": "Schapire"
                                },
                                {
                                    "frequency of same last name": "202",
                                    "last_name": "Karnin"
                                },
                                {
                                    "frequency of same last name": "202",
                                    "last_name": "Thummel"
                                },
                                {
                                    "frequency of same last name": "202",
                                    "last_name": "Yurek"
                                },
                                {
                                    "frequency of same last name": "202",
                                    "last_name": "Schlegelmilch"
                                },
                                {
                                    "frequency of same last name": "202",
                                    "last_name": "Biran"
                                },
                                {
                                    "frequency of same last name": "202",
                                    "last_name": "Pews"
                                },
                                {
                                    "frequency of same last name": "202",
                                    "last_name": "Kornyak"
                                },
                                {
                                    "frequency of same last name": "202",
                                    "last_name": "Gihr"
                                },
                                {
                                    "frequency of same last name": "201",
                                    "last_name": "Krybus"
                                },
                                {
                                    "frequency of same last name": "201",
                                    "last_name": "Kalorkoti"
                                },
                                {
                                    "frequency of same last name": "201",
                                    "last_name": "Bahl"
                                },
                                {
                                    "frequency of same last name": "201",
                                    "last_name": "Perez"
                                },
                                {
                                    "frequency of same last name": "201",
                                    "last_name": "Kavanagh"
                                },
                                {
                                    "frequency of same last name": "201",
                                    "last_name": "Bernardeschi"
                                },
                                {
                                    "frequency of same last name": "201",
                                    "last_name": "McConalogue"
                                },
                                {
                                    "frequency of same last name": "201",
                                    "last_name": "Taneja"
                                },
                                {
                                    "frequency of same last name": "201",
                                    "last_name": "Albarhamtoshy"
                                },
                                {
                                    "frequency of same last name": "201",
                                    "last_name": "Wynblatt"
                                },
                                {
                                    "frequency of same last name": "201",
                                    "last_name": "Rouquie"
                                },
                                {
                                    "frequency of same last name": "201",
                                    "last_name": "Schusler"
                                },
                                {
                                    "frequency of same last name": "201",
                                    "last_name": "Pelc"
                                },
                                {
                                    "frequency of same last name": "201",
                                    "last_name": "Morrow"
                                },
                                {
                                    "frequency of same last name": "201",
                                    "last_name": "Mukaidono"
                                },
                                {
                                    "frequency of same last name": "201",
                                    "last_name": "Clouatre"
                                },
                                {
                                    "frequency of same last name": "201",
                                    "last_name": "Rusterholz"
                                },
                                {
                                    "frequency of same last name": "201",
                                    "last_name": "Erdi"
                                },
                                {
                                    "frequency of same last name": "201",
                                    "last_name": "Genther"
                                },
                                {
                                    "frequency of same last name": "201",
                                    "last_name": "Brodie"
                                },
                                {
                                    "frequency of same last name": "201",
                                    "last_name": "Stanfel"
                                },
                                {
                                    "frequency of same last name": "201",
                                    "last_name": "Cooke"
                                },
                                {
                                    "frequency of same last name": "200",
                                    "last_name": "Pocchiola"
                                },
                                {
                                    "frequency of same last name": "200",
                                    "last_name": "Lindenbaum"
                                },
                                {
                                    "frequency of same last name": "200",
                                    "last_name": "Hiroyama"
                                },
                                {
                                    "frequency of same last name": "200",
                                    "last_name": "Pfau"
                                },
                                {
                                    "frequency of same last name": "200",
                                    "last_name": "McClurg"
                                },
                                {
                                    "frequency of same last name": "200",
                                    "last_name": "Heystek"
                                },
                                {
                                    "frequency of same last name": "200",
                                    "last_name": "Taubenfeld"
                                },
                                {
                                    "frequency of same last name": "200",
                                    "last_name": "Domenig"
                                },
                                {
                                    "frequency of same last name": "200",
                                    "last_name": "Norsworthy"
                                },
                                {
                                    "frequency of same last name": "200",
                                    "last_name": "Radivojevic"
                                },
                                {
                                    "frequency of same last name": "200",
                                    "last_name": "Hoppenstand"
                                },
                                {
                                    "frequency of same last name": "200",
                                    "last_name": "Kaelbling"
                                },
                                {
                                    "frequency of same last name": "200",
                                    "last_name": "Iwayama"
                                },
                                {
                                    "frequency of same last name": "200",
                                    "last_name": "Dredge"
                                },
                                {
                                    "frequency of same last name": "200",
                                    "last_name": "Nannarelli"
                                },
                                {
                                    "frequency of same last name": "200",
                                    "last_name": "Rosch"
                                },
                                {
                                    "frequency of same last name": "200",
                                    "last_name": "Hammerschmidt"
                                },
                                {
                                    "frequency of same last name": "200",
                                    "last_name": "Otillio"
                                },
                                {
                                    "frequency of same last name": "200",
                                    "last_name": "Maraist"
                                },
                                {
                                    "frequency of same last name": "200",
                                    "last_name": "Mitzlaff"
                                },
                                {
                                    "frequency of same last name": "200",
                                    "last_name": "Gimbel"
                                },
                                {
                                    "frequency of same last name": "200",
                                    "last_name": "Speek"
                                },
                                {
                                    "frequency of same last name": "200",
                                    "last_name": "Auyong"
                                },
                                {
                                    "frequency of same last name": "200",
                                    "last_name": "Beetstra"
                                },
                                {
                                    "frequency of same last name": "200",
                                    "last_name": "Fargier"
                                },
                                {
                                    "frequency of same last name": "200",
                                    "last_name": "Snedden"
                                },
                                {
                                    "frequency of same last name": "200",
                                    "last_name": "Gulik"
                                },
                                {
                                    "frequency of same last name": "200",
                                    "last_name": "Schreiter"
                                },
                                {
                                    "frequency of same last name": "200",
                                    "last_name": "Imataki"
                                },
                                {
                                    "frequency of same last name": "200",
                                    "last_name": "Shumilov"
                                },
                                {
                                    "frequency of same last name": "200",
                                    "last_name": "Lamma"
                                },
                                {
                                    "frequency of same last name": "200",
                                    "last_name": "Itzigehl"
                                },
                                {
                                    "frequency of same last name": "200",
                                    "last_name": "Bugrara"
                                },
                                {
                                    "frequency of same last name": "200",
                                    "last_name": "Sgarro"
                                },
                                {
                                    "frequency of same last name": "199",
                                    "last_name": "Muchinsky"
                                },
                                {
                                    "frequency of same last name": "199",
                                    "last_name": "Michaels"
                                },
                                {
                                    "frequency of same last name": "199",
                                    "last_name": "Skafidas"
                                },
                                {
                                    "frequency of same last name": "199",
                                    "last_name": "Hitomi"
                                },
                                {
                                    "frequency of same last name": "199",
                                    "last_name": "Curless"
                                },
                                {
                                    "frequency of same last name": "199",
                                    "last_name": "Zaumen"
                                },
                                {
                                    "frequency of same last name": "199",
                                    "last_name": "Merks"
                                },
                                {
                                    "frequency of same last name": "199",
                                    "last_name": "Warwick"
                                },
                                {
                                    "frequency of same last name": "199",
                                    "last_name": "Sridhar"
                                },
                                {
                                    "frequency of same last name": "199",
                                    "last_name": "Speckmann"
                                },
                                {
                                    "frequency of same last name": "199",
                                    "last_name": "Neimat"
                                },
                                {
                                    "frequency of same last name": "199",
                                    "last_name": "Brookner"
                                },
                                {
                                    "frequency of same last name": "199",
                                    "last_name": "Munawer"
                                },
                                {
                                    "frequency of same last name": "199",
                                    "last_name": "Mawatari"
                                },
                                {
                                    "frequency of same last name": "199",
                                    "last_name": "Slobodova"
                                },
                                {
                                    "frequency of same last name": "199",
                                    "last_name": "Tiemann"
                                },
                                {
                                    "frequency of same last name": "199",
                                    "last_name": "Akaboshi"
                                },
                                {
                                    "frequency of same last name": "199",
                                    "last_name": "Rassart"
                                },
                                {
                                    "frequency of same last name": "199",
                                    "last_name": "Servieres"
                                },
                                {
                                    "frequency of same last name": "199",
                                    "last_name": "Hofman"
                                },
                                {
                                    "frequency of same last name": "199",
                                    "last_name": "Hettesheimer"
                                },
                                {
                                    "frequency of same last name": "199",
                                    "last_name": "Maierhofer"
                                },
                                {
                                    "frequency of same last name": "199",
                                    "last_name": "Gammage"
                                },
                                {
                                    "frequency of same last name": "199",
                                    "last_name": "Kawashima"
                                },
                                {
                                    "frequency of same last name": "199",
                                    "last_name": "Karner"
                                },
                                {
                                    "frequency of same last name": "199",
                                    "last_name": "Fortenbacher"
                                },
                                {
                                    "frequency of same last name": "198",
                                    "last_name": "Matzen"
                                },
                                {
                                    "frequency of same last name": "198",
                                    "last_name": "Zallocco"
                                },
                                {
                                    "frequency of same last name": "198",
                                    "last_name": "Parveen"
                                },
                                {
                                    "frequency of same last name": "198",
                                    "last_name": "Khamsi"
                                },
                                {
                                    "frequency of same last name": "198",
                                    "last_name": "Chinin"
                                },
                                {
                                    "frequency of same last name": "198",
                                    "last_name": "Schiper"
                                },
                                {
                                    "frequency of same last name": "198",
                                    "last_name": "Picco"
                                },
                                {
                                    "frequency of same last name": "198",
                                    "last_name": "Bednarek"
                                },
                                {
                                    "frequency of same last name": "198",
                                    "last_name": "McFarlin"
                                },
                                {
                                    "frequency of same last name": "198",
                                    "last_name": "Bhattacharjee"
                                },
                                {
                                    "frequency of same last name": "198",
                                    "last_name": "Stanger"
                                },
                                {
                                    "frequency of same last name": "198",
                                    "last_name": "Ghazalie"
                                },
                                {
                                    "frequency of same last name": "198",
                                    "last_name": "Landherr"
                                },
                                {
                                    "frequency of same last name": "198",
                                    "last_name": "Pashtan"
                                },
                                {
                                    "frequency of same last name": "198",
                                    "last_name": "Vigier"
                                },
                                {
                                    "frequency of same last name": "198",
                                    "last_name": "Vernadat"
                                },
                                {
                                    "frequency of same last name": "198",
                                    "last_name": "Poupard"
                                },
                                {
                                    "frequency of same last name": "198",
                                    "last_name": "Lalonde"
                                },
                                {
                                    "frequency of same last name": "198",
                                    "last_name": "Katiyar"
                                },
                                {
                                    "frequency of same last name": "198",
                                    "last_name": "Piveteau"
                                },
                                {
                                    "frequency of same last name": "198",
                                    "last_name": "Hiyoshi"
                                },
                                {
                                    "frequency of same last name": "197",
                                    "last_name": "Luca"
                                },
                                {
                                    "frequency of same last name": "197",
                                    "last_name": "Suomi"
                                },
                                {
                                    "frequency of same last name": "197",
                                    "last_name": "Baby"
                                },
                                {
                                    "frequency of same last name": "197",
                                    "last_name": "Antonakopoulos"
                                },
                                {
                                    "frequency of same last name": "197",
                                    "last_name": "Erdmenger"
                                },
                                {
                                    "frequency of same last name": "197",
                                    "last_name": "Weisert"
                                },
                                {
                                    "frequency of same last name": "197",
                                    "last_name": "Rajaraman"
                                },
                                {
                                    "frequency of same last name": "197",
                                    "last_name": "Granlund"
                                },
                                {
                                    "frequency of same last name": "197",
                                    "last_name": "Spelt"
                                },
                                {
                                    "frequency of same last name": "197",
                                    "last_name": "Szilard"
                                },
                                {
                                    "frequency of same last name": "197",
                                    "last_name": "Srimani"
                                },
                                {
                                    "frequency of same last name": "197",
                                    "last_name": "Gornas"
                                },
                                {
                                    "frequency of same last name": "197",
                                    "last_name": "Nishimukai"
                                },
                                {
                                    "frequency of same last name": "197",
                                    "last_name": "Ohori"
                                },
                                {
                                    "frequency of same last name": "197",
                                    "last_name": "Miara"
                                },
                                {
                                    "frequency of same last name": "197",
                                    "last_name": "Deville"
                                },
                                {
                                    "frequency of same last name": "197",
                                    "last_name": "Avouris"
                                },
                                {
                                    "frequency of same last name": "197",
                                    "last_name": "Boyle"
                                },
                                {
                                    "frequency of same last name": "197",
                                    "last_name": "Mikschl"
                                },
                                {
                                    "frequency of same last name": "197",
                                    "last_name": "Jiang"
                                },
                                {
                                    "frequency of same last name": "197",
                                    "last_name": "Karcich"
                                },
                                {
                                    "frequency of same last name": "197",
                                    "last_name": "Pelz"
                                },
                                {
                                    "frequency of same last name": "197",
                                    "last_name": "Ranta"
                                },
                                {
                                    "frequency of same last name": "197",
                                    "last_name": "Braccini"
                                },
                                {
                                    "frequency of same last name": "197",
                                    "last_name": "Merel"
                                },
                                {
                                    "frequency of same last name": "197",
                                    "last_name": "Guting"
                                },
                                {
                                    "frequency of same last name": "197",
                                    "last_name": "Jonsson"
                                },
                                {
                                    "frequency of same last name": "197",
                                    "last_name": "Kampfer"
                                },
                                {
                                    "frequency of same last name": "197",
                                    "last_name": "Ciolek"
                                },
                                {
                                    "frequency of same last name": "197",
                                    "last_name": "Ranum"
                                },
                                {
                                    "frequency of same last name": "197",
                                    "last_name": "Schmiedel"
                                },
                                {
                                    "frequency of same last name": "197",
                                    "last_name": "Viele"
                                },
                                {
                                    "frequency of same last name": "197",
                                    "last_name": "Oppitz"
                                },
                                {
                                    "frequency of same last name": "197",
                                    "last_name": "Weedman"
                                },
                                {
                                    "frequency of same last name": "196",
                                    "last_name": "Rosenbaum"
                                },
                                {
                                    "frequency of same last name": "196",
                                    "last_name": "Borstler"
                                },
                                {
                                    "frequency of same last name": "196",
                                    "last_name": "Hofstetter"
                                },
                                {
                                    "frequency of same last name": "196",
                                    "last_name": "Chepyzhov"
                                },
                                {
                                    "frequency of same last name": "196",
                                    "last_name": "Hartvigsen"
                                },
                                {
                                    "frequency of same last name": "196",
                                    "last_name": "Servi"
                                },
                                {
                                    "frequency of same last name": "196",
                                    "last_name": "Sadowski"
                                },
                                {
                                    "frequency of same last name": "196",
                                    "last_name": "Antonisse"
                                },
                                {
                                    "frequency of same last name": "196",
                                    "last_name": "Meriste"
                                },
                                {
                                    "frequency of same last name": "196",
                                    "last_name": "Gajiwala"
                                },
                                {
                                    "frequency of same last name": "196",
                                    "last_name": "Monarch"
                                },
                                {
                                    "frequency of same last name": "196",
                                    "last_name": "Kakkar"
                                },
                                {
                                    "frequency of same last name": "196",
                                    "last_name": "Papadias"
                                },
                                {
                                    "frequency of same last name": "196",
                                    "last_name": "Schaap"
                                },
                                {
                                    "frequency of same last name": "196",
                                    "last_name": "Syang"
                                },
                                {
                                    "frequency of same last name": "196",
                                    "last_name": "Swan"
                                },
                                {
                                    "frequency of same last name": "196",
                                    "last_name": "Quadeer"
                                },
                                {
                                    "frequency of same last name": "196",
                                    "last_name": "Merey"
                                },
                                {
                                    "frequency of same last name": "196",
                                    "last_name": "Brender"
                                },
                                {
                                    "frequency of same last name": "196",
                                    "last_name": "Grospietsch"
                                },
                                {
                                    "frequency of same last name": "196",
                                    "last_name": "Schach"
                                },
                                {
                                    "frequency of same last name": "196",
                                    "last_name": "Simkin"
                                },
                                {
                                    "frequency of same last name": "196",
                                    "last_name": "Llado"
                                },
                                {
                                    "frequency of same last name": "196",
                                    "last_name": "Gustavson"
                                },
                                {
                                    "frequency of same last name": "196",
                                    "last_name": "Masand"
                                },
                                {
                                    "frequency of same last name": "196",
                                    "last_name": "Setia"
                                },
                                {
                                    "frequency of same last name": "196",
                                    "last_name": "Leaver"
                                },
                                {
                                    "frequency of same last name": "196",
                                    "last_name": "Heuser"
                                },
                                {
                                    "frequency of same last name": "196",
                                    "last_name": "Conia"
                                },
                                {
                                    "frequency of same last name": "196",
                                    "last_name": "Sichman"
                                },
                                {
                                    "frequency of same last name": "196",
                                    "last_name": "Michaeli"
                                },
                                {
                                    "frequency of same last name": "196",
                                    "last_name": "Carrere"
                                },
                                {
                                    "frequency of same last name": "195",
                                    "last_name": "Kumaresan"
                                },
                                {
                                    "frequency of same last name": "195",
                                    "last_name": "Manders"
                                },
                                {
                                    "frequency of same last name": "195",
                                    "last_name": "Alameldin"
                                },
                                {
                                    "frequency of same last name": "195",
                                    "last_name": "Ermel"
                                },
                                {
                                    "frequency of same last name": "195",
                                    "last_name": "Ouhyoung"
                                },
                                {
                                    "frequency of same last name": "195",
                                    "last_name": "Swift"
                                },
                                {
                                    "frequency of same last name": "195",
                                    "last_name": "Rosin"
                                },
                                {
                                    "frequency of same last name": "195",
                                    "last_name": "Cools"
                                },
                                {
                                    "frequency of same last name": "195",
                                    "last_name": "Camurati"
                                },
                                {
                                    "frequency of same last name": "195",
                                    "last_name": "Mellouli"
                                },
                                {
                                    "frequency of same last name": "195",
                                    "last_name": "Engberts"
                                },
                                {
                                    "frequency of same last name": "195",
                                    "last_name": "Bouloucos"
                                },
                                {
                                    "frequency of same last name": "195",
                                    "last_name": "Kalloufi"
                                },
                                {
                                    "frequency of same last name": "195",
                                    "last_name": "Rindone"
                                },
                                {
                                    "frequency of same last name": "195",
                                    "last_name": "Muntz"
                                },
                                {
                                    "frequency of same last name": "195",
                                    "last_name": "Vilarrasa"
                                },
                                {
                                    "frequency of same last name": "195",
                                    "last_name": "Keustermans"
                                },
                                {
                                    "frequency of same last name": "195",
                                    "last_name": "Papsdorf"
                                },
                                {
                                    "frequency of same last name": "195",
                                    "last_name": "Conde"
                                },
                                {
                                    "frequency of same last name": "195",
                                    "last_name": "Kuhnemann"
                                },
                                {
                                    "frequency of same last name": "195",
                                    "last_name": "Langford"
                                },
                                {
                                    "frequency of same last name": "195",
                                    "last_name": "Daescu"
                                },
                                {
                                    "frequency of same last name": "195",
                                    "last_name": "Picel"
                                },
                                {
                                    "frequency of same last name": "195",
                                    "last_name": "Rikino"
                                },
                                {
                                    "frequency of same last name": "195",
                                    "last_name": "Wrigley"
                                },
                                {
                                    "frequency of same last name": "195",
                                    "last_name": "Birta"
                                },
                                {
                                    "frequency of same last name": "195",
                                    "last_name": "Zumaque"
                                },
                                {
                                    "frequency of same last name": "195",
                                    "last_name": "Munke"
                                },
                                {
                                    "frequency of same last name": "195",
                                    "last_name": "Luft"
                                },
                                {
                                    "frequency of same last name": "195",
                                    "last_name": "Hardjono"
                                },
                                {
                                    "frequency of same last name": "195",
                                    "last_name": "Marrakchi"
                                },
                                {
                                    "frequency of same last name": "195",
                                    "last_name": "Gronowski"
                                },
                                {
                                    "frequency of same last name": "195",
                                    "last_name": "Segond"
                                },
                                {
                                    "frequency of same last name": "195",
                                    "last_name": "Serna"
                                },
                                {
                                    "frequency of same last name": "195",
                                    "last_name": "Matheson"
                                },
                                {
                                    "frequency of same last name": "194",
                                    "last_name": "Schaad"
                                },
                                {
                                    "frequency of same last name": "194",
                                    "last_name": "Birge"
                                },
                                {
                                    "frequency of same last name": "194",
                                    "last_name": "Irland"
                                },
                                {
                                    "frequency of same last name": "194",
                                    "last_name": "Melski"
                                },
                                {
                                    "frequency of same last name": "194",
                                    "last_name": "Constantine"
                                },
                                {
                                    "frequency of same last name": "194",
                                    "last_name": "Fujisaki"
                                },
                                {
                                    "frequency of same last name": "194",
                                    "last_name": "Kusakabe"
                                },
                                {
                                    "frequency of same last name": "194",
                                    "last_name": "Vickson"
                                },
                                {
                                    "frequency of same last name": "194",
                                    "last_name": "Frolund"
                                },
                                {
                                    "frequency of same last name": "194",
                                    "last_name": "Haumacher"
                                },
                                {
                                    "frequency of same last name": "194",
                                    "last_name": "Unno"
                                },
                                {
                                    "frequency of same last name": "194",
                                    "last_name": "Basagni"
                                },
                                {
                                    "frequency of same last name": "194",
                                    "last_name": "Hiraishi"
                                },
                                {
                                    "frequency of same last name": "194",
                                    "last_name": "Kobara"
                                },
                                {
                                    "frequency of same last name": "194",
                                    "last_name": "Docker"
                                },
                                {
                                    "frequency of same last name": "194",
                                    "last_name": "Salvesen"
                                },
                                {
                                    "frequency of same last name": "194",
                                    "last_name": "Remmele"
                                },
                                {
                                    "frequency of same last name": "194",
                                    "last_name": "Brobst"
                                },
                                {
                                    "frequency of same last name": "194",
                                    "last_name": "Peltason"
                                },
                                {
                                    "frequency of same last name": "194",
                                    "last_name": "Shanbhogue"
                                },
                                {
                                    "frequency of same last name": "194",
                                    "last_name": "Schaar"
                                },
                                {
                                    "frequency of same last name": "194",
                                    "last_name": "Schwaller"
                                },
                                {
                                    "frequency of same last name": "194",
                                    "last_name": "Stentiford"
                                },
                                {
                                    "frequency of same last name": "194",
                                    "last_name": "Juneja"
                                },
                                {
                                    "frequency of same last name": "194",
                                    "last_name": "Iivonen"
                                },
                                {
                                    "frequency of same last name": "194",
                                    "last_name": "Erez"
                                },
                                {
                                    "frequency of same last name": "194",
                                    "last_name": "Hofting"
                                },
                                {
                                    "frequency of same last name": "194",
                                    "last_name": "Kuszyk"
                                },
                                {
                                    "frequency of same last name": "194",
                                    "last_name": "Nanard"
                                },
                                {
                                    "frequency of same last name": "194",
                                    "last_name": "Tagansky"
                                },
                                {
                                    "frequency of same last name": "193",
                                    "last_name": "Serre"
                                },
                                {
                                    "frequency of same last name": "193",
                                    "last_name": "Crelier"
                                },
                                {
                                    "frequency of same last name": "193",
                                    "last_name": "Melton"
                                },
                                {
                                    "frequency of same last name": "193",
                                    "last_name": "Chvatal"
                                },
                                {
                                    "frequency of same last name": "193",
                                    "last_name": "Bernatsky"
                                },
                                {
                                    "frequency of same last name": "193",
                                    "last_name": "Radhakrishnan"
                                },
                                {
                                    "frequency of same last name": "193",
                                    "last_name": "Thebaut"
                                },
                                {
                                    "frequency of same last name": "193",
                                    "last_name": "Junet"
                                },
                                {
                                    "frequency of same last name": "193",
                                    "last_name": "Christ"
                                },
                                {
                                    "frequency of same last name": "193",
                                    "last_name": "Butner"
                                },
                                {
                                    "frequency of same last name": "193",
                                    "last_name": "Kleiser"
                                },
                                {
                                    "frequency of same last name": "193",
                                    "last_name": "Morrin"
                                },
                                {
                                    "frequency of same last name": "193",
                                    "last_name": "Rosis"
                                },
                                {
                                    "frequency of same last name": "193",
                                    "last_name": "Sifakis"
                                },
                                {
                                    "frequency of same last name": "193",
                                    "last_name": "Alblas"
                                },
                                {
                                    "frequency of same last name": "193",
                                    "last_name": "Jakobus"
                                },
                                {
                                    "frequency of same last name": "193",
                                    "last_name": "Gist"
                                },
                                {
                                    "frequency of same last name": "193",
                                    "last_name": "Sundgren"
                                },
                                {
                                    "frequency of same last name": "193",
                                    "last_name": "Stassinopoulos"
                                },
                                {
                                    "frequency of same last name": "193",
                                    "last_name": "Candan"
                                },
                                {
                                    "frequency of same last name": "193",
                                    "last_name": "Cochrane"
                                },
                                {
                                    "frequency of same last name": "193",
                                    "last_name": "Wursthorn"
                                },
                                {
                                    "frequency of same last name": "193",
                                    "last_name": "Camarinopoulos"
                                },
                                {
                                    "frequency of same last name": "193",
                                    "last_name": "Worfolk"
                                },
                                {
                                    "frequency of same last name": "193",
                                    "last_name": "Linnainmaa"
                                },
                                {
                                    "frequency of same last name": "193",
                                    "last_name": "Melichar"
                                },
                                {
                                    "frequency of same last name": "193",
                                    "last_name": "Colorni"
                                },
                                {
                                    "frequency of same last name": "193",
                                    "last_name": "Hertweck"
                                },
                                {
                                    "frequency of same last name": "192",
                                    "last_name": "Ducloy"
                                },
                                {
                                    "frequency of same last name": "192",
                                    "last_name": "Bahk"
                                },
                                {
                                    "frequency of same last name": "192",
                                    "last_name": "Maliniak"
                                },
                                {
                                    "frequency of same last name": "192",
                                    "last_name": "Wroclawski"
                                },
                                {
                                    "frequency of same last name": "192",
                                    "last_name": "Rosiles"
                                },
                                {
                                    "frequency of same last name": "192",
                                    "last_name": "Apsitis"
                                },
                                {
                                    "frequency of same last name": "192",
                                    "last_name": "Thimonier"
                                },
                                {
                                    "frequency of same last name": "192",
                                    "last_name": "Simmen"
                                },
                                {
                                    "frequency of same last name": "192",
                                    "last_name": "Speel"
                                },
                                {
                                    "frequency of same last name": "192",
                                    "last_name": "Baer"
                                },
                                {
                                    "frequency of same last name": "192",
                                    "last_name": "Ertl"
                                },
                                {
                                    "frequency of same last name": "192",
                                    "last_name": "Remmers"
                                },
                                {
                                    "frequency of same last name": "192",
                                    "last_name": "Woycyznski"
                                },
                                {
                                    "frequency of same last name": "192",
                                    "last_name": "Heyers"
                                },
                                {
                                    "frequency of same last name": "192",
                                    "last_name": "Heuter"
                                },
                                {
                                    "frequency of same last name": "192",
                                    "last_name": "Hutton"
                                },
                                {
                                    "frequency of same last name": "192",
                                    "last_name": "Rajala"
                                },
                                {
                                    "frequency of same last name": "192",
                                    "last_name": "Senzako"
                                },
                                {
                                    "frequency of same last name": "192",
                                    "last_name": "Luby"
                                },
                                {
                                    "frequency of same last name": "192",
                                    "last_name": "Tomescu"
                                },
                                {
                                    "frequency of same last name": "192",
                                    "last_name": "Kisuki"
                                },
                                {
                                    "frequency of same last name": "192",
                                    "last_name": "Wossner"
                                },
                                {
                                    "frequency of same last name": "192",
                                    "last_name": "Randi"
                                },
                                {
                                    "frequency of same last name": "192",
                                    "last_name": "Pehl"
                                },
                                {
                                    "frequency of same last name": "192",
                                    "last_name": "Fontan"
                                },
                                {
                                    "frequency of same last name": "192",
                                    "last_name": "Eiter"
                                },
                                {
                                    "frequency of same last name": "192",
                                    "last_name": "Menhoudj"
                                },
                                {
                                    "frequency of same last name": "192",
                                    "last_name": "Zongker"
                                },
                                {
                                    "frequency of same last name": "192",
                                    "last_name": "Dulin"
                                },
                                {
                                    "frequency of same last name": "192",
                                    "last_name": "Cherinka"
                                },
                                {
                                    "frequency of same last name": "192",
                                    "last_name": "Kemmerer"
                                },
                                {
                                    "frequency of same last name": "192",
                                    "last_name": "Eickenmeyer"
                                },
                                {
                                    "frequency of same last name": "192",
                                    "last_name": "Baaz"
                                },
                                {
                                    "frequency of same last name": "192",
                                    "last_name": "Parascandalo"
                                },
                                {
                                    "frequency of same last name": "192",
                                    "last_name": "Barbanera"
                                },
                                {
                                    "frequency of same last name": "191",
                                    "last_name": "Brandsma"
                                },
                                {
                                    "frequency of same last name": "191",
                                    "last_name": "Salinas"
                                },
                                {
                                    "frequency of same last name": "191",
                                    "last_name": "Pusterhofer"
                                },
                                {
                                    "frequency of same last name": "191",
                                    "last_name": "Rothenberg"
                                },
                                {
                                    "frequency of same last name": "191",
                                    "last_name": "Khalid"
                                },
                                {
                                    "frequency of same last name": "191",
                                    "last_name": "Trystram"
                                },
                                {
                                    "frequency of same last name": "191",
                                    "last_name": "Bahr"
                                },
                                {
                                    "frequency of same last name": "191",
                                    "last_name": "Mapelli"
                                },
                                {
                                    "frequency of same last name": "191",
                                    "last_name": "Gomatam"
                                },
                                {
                                    "frequency of same last name": "191",
                                    "last_name": "Krohm"
                                },
                                {
                                    "frequency of same last name": "191",
                                    "last_name": "Fairtlough"
                                },
                                {
                                    "frequency of same last name": "191",
                                    "last_name": "Plessier"
                                },
                                {
                                    "frequency of same last name": "191",
                                    "last_name": "Marquardt"
                                },
                                {
                                    "frequency of same last name": "191",
                                    "last_name": "Ghelli"
                                },
                                {
                                    "frequency of same last name": "191",
                                    "last_name": "Kaminger"
                                },
                                {
                                    "frequency of same last name": "191",
                                    "last_name": "Vecchi"
                                },
                                {
                                    "frequency of same last name": "191",
                                    "last_name": "Bach"
                                },
                                {
                                    "frequency of same last name": "191",
                                    "last_name": "Peron"
                                },
                                {
                                    "frequency of same last name": "191",
                                    "last_name": "Bruckman"
                                },
                                {
                                    "frequency of same last name": "191",
                                    "last_name": "Noriega"
                                },
                                {
                                    "frequency of same last name": "191",
                                    "last_name": "Kambil"
                                },
                                {
                                    "frequency of same last name": "191",
                                    "last_name": "Byoun"
                                },
                                {
                                    "frequency of same last name": "191",
                                    "last_name": "Larfeldt"
                                },
                                {
                                    "frequency of same last name": "191",
                                    "last_name": "Hoogerwoord"
                                },
                                {
                                    "frequency of same last name": "191",
                                    "last_name": "Parfitt"
                                },
                                {
                                    "frequency of same last name": "191",
                                    "last_name": "Weiland"
                                },
                                {
                                    "frequency of same last name": "191",
                                    "last_name": "Selvestrel"
                                },
                                {
                                    "frequency of same last name": "191",
                                    "last_name": "Anick"
                                },
                                {
                                    "frequency of same last name": "191",
                                    "last_name": "Thiran"
                                },
                                {
                                    "frequency of same last name": "191",
                                    "last_name": "Azumi"
                                },
                                {
                                    "frequency of same last name": "191",
                                    "last_name": "Roisin"
                                },
                                {
                                    "frequency of same last name": "191",
                                    "last_name": "Plesums"
                                },
                                {
                                    "frequency of same last name": "191",
                                    "last_name": "Khalil"
                                },
                                {
                                    "frequency of same last name": "191",
                                    "last_name": "Vecchio"
                                },
                                {
                                    "frequency of same last name": "191",
                                    "last_name": "Furedi"
                                },
                                {
                                    "frequency of same last name": "191",
                                    "last_name": "Bodoff"
                                },
                                {
                                    "frequency of same last name": "191",
                                    "last_name": "Hasham"
                                },
                                {
                                    "frequency of same last name": "191",
                                    "last_name": "Sidou"
                                },
                                {
                                    "frequency of same last name": "191",
                                    "last_name": "Miake"
                                },
                                {
                                    "frequency of same last name": "191",
                                    "last_name": "Kushner"
                                },
                                {
                                    "frequency of same last name": "191",
                                    "last_name": "Kilgore"
                                },
                                {
                                    "frequency of same last name": "191",
                                    "last_name": "Haddadi"
                                },
                                {
                                    "frequency of same last name": "191",
                                    "last_name": "Peak"
                                },
                                {
                                    "frequency of same last name": "190",
                                    "last_name": "Kohling"
                                },
                                {
                                    "frequency of same last name": "190",
                                    "last_name": "Anger"
                                },
                                {
                                    "frequency of same last name": "190",
                                    "last_name": "Ramaiah"
                                },
                                {
                                    "frequency of same last name": "190",
                                    "last_name": "Birsak"
                                },
                                {
                                    "frequency of same last name": "190",
                                    "last_name": "Strandh"
                                },
                                {
                                    "frequency of same last name": "190",
                                    "last_name": "Baezner"
                                },
                                {
                                    "frequency of same last name": "190",
                                    "last_name": "Goodrum"
                                },
                                {
                                    "frequency of same last name": "190",
                                    "last_name": "Suppi"
                                },
                                {
                                    "frequency of same last name": "190",
                                    "last_name": "Seghrouchni"
                                },
                                {
                                    "frequency of same last name": "190",
                                    "last_name": "Madeira"
                                },
                                {
                                    "frequency of same last name": "190",
                                    "last_name": "Vingron"
                                },
                                {
                                    "frequency of same last name": "190",
                                    "last_name": "Anandan"
                                },
                                {
                                    "frequency of same last name": "190",
                                    "last_name": "Czap"
                                },
                                {
                                    "frequency of same last name": "190",
                                    "last_name": "Hanratty"
                                },
                                {
                                    "frequency of same last name": "190",
                                    "last_name": "Itzfeldt"
                                },
                                {
                                    "frequency of same last name": "190",
                                    "last_name": "Liesche"
                                },
                                {
                                    "frequency of same last name": "190",
                                    "last_name": "Jullig"
                                },
                                {
                                    "frequency of same last name": "190",
                                    "last_name": "Leslie"
                                },
                                {
                                    "frequency of same last name": "190",
                                    "last_name": "Suri"
                                },
                                {
                                    "frequency of same last name": "190",
                                    "last_name": "Lorin"
                                },
                                {
                                    "frequency of same last name": "190",
                                    "last_name": "Klassen"
                                },
                                {
                                    "frequency of same last name": "190",
                                    "last_name": "Lindqvist"
                                },
                                {
                                    "frequency of same last name": "190",
                                    "last_name": "Underwood"
                                },
                                {
                                    "frequency of same last name": "190",
                                    "last_name": "Moffat"
                                },
                                {
                                    "frequency of same last name": "190",
                                    "last_name": "Hellwagner"
                                },
                                {
                                    "frequency of same last name": "190",
                                    "last_name": "Cardazo"
                                },
                                {
                                    "frequency of same last name": "190",
                                    "last_name": "Diderrich"
                                },
                                {
                                    "frequency of same last name": "190",
                                    "last_name": "Staylopatis"
                                },
                                {
                                    "frequency of same last name": "190",
                                    "last_name": "Haraldson"
                                },
                                {
                                    "frequency of same last name": "190",
                                    "last_name": "Reeken"
                                },
                                {
                                    "frequency of same last name": "190",
                                    "last_name": "Peyn"
                                },
                                {
                                    "frequency of same last name": "190",
                                    "last_name": "Emiris"
                                },
                                {
                                    "frequency of same last name": "190",
                                    "last_name": "Steenbeek"
                                },
                                {
                                    "frequency of same last name": "190",
                                    "last_name": "Callaway"
                                },
                                {
                                    "frequency of same last name": "190",
                                    "last_name": "Ashish"
                                },
                                {
                                    "frequency of same last name": "190",
                                    "last_name": "Keohane"
                                },
                                {
                                    "frequency of same last name": "190",
                                    "last_name": "Munch"
                                },
                                {
                                    "frequency of same last name": "190",
                                    "last_name": "Merkl"
                                },
                                {
                                    "frequency of same last name": "190",
                                    "last_name": "Birnbaum"
                                },
                                {
                                    "frequency of same last name": "190",
                                    "last_name": "Swiss"
                                },
                                {
                                    "frequency of same last name": "190",
                                    "last_name": "Conte"
                                },
                                {
                                    "frequency of same last name": "190",
                                    "last_name": "Riesenhuber"
                                },
                                {
                                    "frequency of same last name": "190",
                                    "last_name": "Jervis"
                                },
                                {
                                    "frequency of same last name": "190",
                                    "last_name": "Ranft"
                                },
                                {
                                    "frequency of same last name": "190",
                                    "last_name": "Salverda"
                                },
                                {
                                    "frequency of same last name": "189",
                                    "last_name": "Rousseau"
                                },
                                {
                                    "frequency of same last name": "189",
                                    "last_name": "Leuchs"
                                },
                                {
                                    "frequency of same last name": "189",
                                    "last_name": "Fiebach"
                                },
                                {
                                    "frequency of same last name": "189",
                                    "last_name": "Huttel"
                                },
                                {
                                    "frequency of same last name": "189",
                                    "last_name": "Orsini"
                                },
                                {
                                    "frequency of same last name": "189",
                                    "last_name": "Budinsky"
                                },
                                {
                                    "frequency of same last name": "189",
                                    "last_name": "Maquelin"
                                },
                                {
                                    "frequency of same last name": "189",
                                    "last_name": "Highland"
                                },
                                {
                                    "frequency of same last name": "189",
                                    "last_name": "Petersohn"
                                },
                                {
                                    "frequency of same last name": "189",
                                    "last_name": "Bala"
                                },
                                {
                                    "frequency of same last name": "189",
                                    "last_name": "Acton"
                                },
                                {
                                    "frequency of same last name": "189",
                                    "last_name": "Gargeya"
                                },
                                {
                                    "frequency of same last name": "189",
                                    "last_name": "Pargas"
                                },
                                {
                                    "frequency of same last name": "189",
                                    "last_name": "Billawala"
                                },
                                {
                                    "frequency of same last name": "189",
                                    "last_name": "Picht"
                                },
                                {
                                    "frequency of same last name": "189",
                                    "last_name": "Farrar"
                                },
                                {
                                    "frequency of same last name": "189",
                                    "last_name": "Chleq"
                                },
                                {
                                    "frequency of same last name": "189",
                                    "last_name": "Dulay"
                                },
                                {
                                    "frequency of same last name": "189",
                                    "last_name": "Plump"
                                },
                                {
                                    "frequency of same last name": "189",
                                    "last_name": "Millington"
                                },
                                {
                                    "frequency of same last name": "189",
                                    "last_name": "Baar"
                                },
                                {
                                    "frequency of same last name": "189",
                                    "last_name": "Lanzelotte"
                                },
                                {
                                    "frequency of same last name": "189",
                                    "last_name": "Lorys"
                                },
                                {
                                    "frequency of same last name": "189",
                                    "last_name": "Uehara"
                                },
                                {
                                    "frequency of same last name": "189",
                                    "last_name": "Zaccaria"
                                },
                                {
                                    "frequency of same last name": "189",
                                    "last_name": "Manderick"
                                },
                                {
                                    "frequency of same last name": "189",
                                    "last_name": "Perly"
                                },
                                {
                                    "frequency of same last name": "189",
                                    "last_name": "Backhouse"
                                },
                                {
                                    "frequency of same last name": "189",
                                    "last_name": "Jahnichen"
                                },
                                {
                                    "frequency of same last name": "189",
                                    "last_name": "Litecky"
                                },
                                {
                                    "frequency of same last name": "189",
                                    "last_name": "Scharstein"
                                },
                                {
                                    "frequency of same last name": "189",
                                    "last_name": "Valette"
                                },
                                {
                                    "frequency of same last name": "189",
                                    "last_name": "Shackel"
                                },
                                {
                                    "frequency of same last name": "189",
                                    "last_name": "Bonifati"
                                },
                                {
                                    "frequency of same last name": "189",
                                    "last_name": "Marshall"
                                },
                                {
                                    "frequency of same last name": "189",
                                    "last_name": "Parhami"
                                },
                                {
                                    "frequency of same last name": "189",
                                    "last_name": "Przulj"
                                },
                                {
                                    "frequency of same last name": "189",
                                    "last_name": "Bultermann"
                                },
                                {
                                    "frequency of same last name": "189",
                                    "last_name": "Bellmore"
                                },
                                {
                                    "frequency of same last name": "189",
                                    "last_name": "Rahimi"
                                },
                                {
                                    "frequency of same last name": "189",
                                    "last_name": "Hanabata"
                                },
                                {
                                    "frequency of same last name": "189",
                                    "last_name": "Ellozy"
                                },
                                {
                                    "frequency of same last name": "189",
                                    "last_name": "Molenkamp"
                                },
                                {
                                    "frequency of same last name": "189",
                                    "last_name": "Ferretti"
                                },
                                {
                                    "frequency of same last name": "189",
                                    "last_name": "Perfilyeva"
                                },
                                {
                                    "frequency of same last name": "189",
                                    "last_name": "Laventhal"
                                },
                                {
                                    "frequency of same last name": "189",
                                    "last_name": "Smailagic"
                                },
                                {
                                    "frequency of same last name": "189",
                                    "last_name": "Siochi"
                                },
                                {
                                    "frequency of same last name": "189",
                                    "last_name": "Boreale"
                                },
                                {
                                    "frequency of same last name": "189",
                                    "last_name": "Kriebel"
                                },
                                {
                                    "frequency of same last name": "189",
                                    "last_name": "Spinelli"
                                },
                                {
                                    "frequency of same last name": "189",
                                    "last_name": "Francisci"
                                },
                                {
                                    "frequency of same last name": "189",
                                    "last_name": "Horswill"
                                },
                                {
                                    "frequency of same last name": "189",
                                    "last_name": "Gils"
                                },
                                {
                                    "frequency of same last name": "188",
                                    "last_name": "Joslin"
                                },
                                {
                                    "frequency of same last name": "188",
                                    "last_name": "Penz"
                                },
                                {
                                    "frequency of same last name": "188",
                                    "last_name": "Bolotov"
                                },
                                {
                                    "frequency of same last name": "188",
                                    "last_name": "Oberman"
                                },
                                {
                                    "frequency of same last name": "188",
                                    "last_name": "Impagliazzo"
                                },
                                {
                                    "frequency of same last name": "188",
                                    "last_name": "Besselaar"
                                },
                                {
                                    "frequency of same last name": "188",
                                    "last_name": "Decleir"
                                },
                                {
                                    "frequency of same last name": "188",
                                    "last_name": "Garnick"
                                },
                                {
                                    "frequency of same last name": "188",
                                    "last_name": "Jansen"
                                },
                                {
                                    "frequency of same last name": "188",
                                    "last_name": "Delgrossi"
                                },
                                {
                                    "frequency of same last name": "188",
                                    "last_name": "Bressoud"
                                },
                                {
                                    "frequency of same last name": "188",
                                    "last_name": "Bazzichi"
                                },
                                {
                                    "frequency of same last name": "188",
                                    "last_name": "Mitina"
                                },
                                {
                                    "frequency of same last name": "188",
                                    "last_name": "Stroustrup"
                                },
                                {
                                    "frequency of same last name": "188",
                                    "last_name": "Murtha"
                                },
                                {
                                    "frequency of same last name": "188",
                                    "last_name": "Yoshizawa"
                                },
                                {
                                    "frequency of same last name": "188",
                                    "last_name": "Tyugu"
                                },
                                {
                                    "frequency of same last name": "188",
                                    "last_name": "Kamble"
                                },
                                {
                                    "frequency of same last name": "188",
                                    "last_name": "Kawashimo"
                                },
                                {
                                    "frequency of same last name": "188",
                                    "last_name": "Perry"
                                },
                                {
                                    "frequency of same last name": "188",
                                    "last_name": "Demos"
                                },
                                {
                                    "frequency of same last name": "188",
                                    "last_name": "Rissland"
                                },
                                {
                                    "frequency of same last name": "188",
                                    "last_name": "Reutenauer"
                                },
                                {
                                    "frequency of same last name": "188",
                                    "last_name": "Ressouche"
                                },
                                {
                                    "frequency of same last name": "188",
                                    "last_name": "Denti"
                                },
                                {
                                    "frequency of same last name": "188",
                                    "last_name": "Tchuente"
                                },
                                {
                                    "frequency of same last name": "188",
                                    "last_name": "Heering"
                                },
                                {
                                    "frequency of same last name": "188",
                                    "last_name": "Narwekar"
                                },
                                {
                                    "frequency of same last name": "188",
                                    "last_name": "Baek"
                                },
                                {
                                    "frequency of same last name": "188",
                                    "last_name": "Sudkamp"
                                },
                                {
                                    "frequency of same last name": "188",
                                    "last_name": "Makrucki"
                                },
                                {
                                    "frequency of same last name": "188",
                                    "last_name": "Zirintsis"
                                },
                                {
                                    "frequency of same last name": "188",
                                    "last_name": "Puppo"
                                },
                                {
                                    "frequency of same last name": "188",
                                    "last_name": "Delgrande"
                                },
                                {
                                    "frequency of same last name": "188",
                                    "last_name": "Majewski"
                                },
                                {
                                    "frequency of same last name": "188",
                                    "last_name": "Begiun"
                                },
                                {
                                    "frequency of same last name": "188",
                                    "last_name": "Waymire"
                                },
                                {
                                    "frequency of same last name": "188",
                                    "last_name": "Luan"
                                },
                                {
                                    "frequency of same last name": "188",
                                    "last_name": "Katzenelson"
                                },
                                {
                                    "frequency of same last name": "187",
                                    "last_name": "Felcyn"
                                },
                                {
                                    "frequency of same last name": "187",
                                    "last_name": "Bierman"
                                },
                                {
                                    "frequency of same last name": "187",
                                    "last_name": "Pavlopoulou"
                                },
                                {
                                    "frequency of same last name": "187",
                                    "last_name": "Zeidenstein"
                                },
                                {
                                    "frequency of same last name": "187",
                                    "last_name": "Crooks"
                                },
                                {
                                    "frequency of same last name": "187",
                                    "last_name": "Vanwelkenhuysen"
                                },
                                {
                                    "frequency of same last name": "187",
                                    "last_name": "Siegrist"
                                },
                                {
                                    "frequency of same last name": "187",
                                    "last_name": "Beznosov"
                                },
                                {
                                    "frequency of same last name": "187",
                                    "last_name": "Lipner"
                                },
                                {
                                    "frequency of same last name": "187",
                                    "last_name": "Velasco"
                                },
                                {
                                    "frequency of same last name": "187",
                                    "last_name": "Kaiser"
                                },
                                {
                                    "frequency of same last name": "187",
                                    "last_name": "Chachaty"
                                },
                                {
                                    "frequency of same last name": "187",
                                    "last_name": "Bratten"
                                },
                                {
                                    "frequency of same last name": "187",
                                    "last_name": "Leivant"
                                },
                                {
                                    "frequency of same last name": "187",
                                    "last_name": "Eiron"
                                },
                                {
                                    "frequency of same last name": "187",
                                    "last_name": "Yeung"
                                },
                                {
                                    "frequency of same last name": "187",
                                    "last_name": "Awdeh"
                                },
                                {
                                    "frequency of same last name": "187",
                                    "last_name": "Bridgland"
                                },
                                {
                                    "frequency of same last name": "187",
                                    "last_name": "Middleton"
                                },
                                {
                                    "frequency of same last name": "187",
                                    "last_name": "Milicic"
                                },
                                {
                                    "frequency of same last name": "187",
                                    "last_name": "Rodham"
                                },
                                {
                                    "frequency of same last name": "187",
                                    "last_name": "Kornatzky"
                                },
                                {
                                    "frequency of same last name": "187",
                                    "last_name": "Buescher"
                                },
                                {
                                    "frequency of same last name": "187",
                                    "last_name": "Eugenio"
                                },
                                {
                                    "frequency of same last name": "187",
                                    "last_name": "Bojadziev"
                                },
                                {
                                    "frequency of same last name": "187",
                                    "last_name": "Lenart"
                                },
                                {
                                    "frequency of same last name": "187",
                                    "last_name": "Danley"
                                },
                                {
                                    "frequency of same last name": "187",
                                    "last_name": "Preusig"
                                },
                                {
                                    "frequency of same last name": "187",
                                    "last_name": "Billingsley"
                                },
                                {
                                    "frequency of same last name": "187",
                                    "last_name": "Nyanchama"
                                },
                                {
                                    "frequency of same last name": "187",
                                    "last_name": "Godskesen"
                                },
                                {
                                    "frequency of same last name": "187",
                                    "last_name": "Strehl"
                                },
                                {
                                    "frequency of same last name": "187",
                                    "last_name": "Isard"
                                },
                                {
                                    "frequency of same last name": "187",
                                    "last_name": "Xiaoshan"
                                },
                                {
                                    "frequency of same last name": "187",
                                    "last_name": "Garigliano"
                                },
                                {
                                    "frequency of same last name": "187",
                                    "last_name": "Belinskaya"
                                },
                                {
                                    "frequency of same last name": "187",
                                    "last_name": "Benzmuller"
                                },
                                {
                                    "frequency of same last name": "187",
                                    "last_name": "Hiltgen"
                                },
                                {
                                    "frequency of same last name": "187",
                                    "last_name": "Famili"
                                },
                                {
                                    "frequency of same last name": "187",
                                    "last_name": "Muhling"
                                },
                                {
                                    "frequency of same last name": "187",
                                    "last_name": "Hinsberger"
                                },
                                {
                                    "frequency of same last name": "187",
                                    "last_name": "Versino"
                                },
                                {
                                    "frequency of same last name": "187",
                                    "last_name": "Demian"
                                },
                                {
                                    "frequency of same last name": "187",
                                    "last_name": "Kusalik"
                                },
                                {
                                    "frequency of same last name": "187",
                                    "last_name": "Shihab"
                                },
                                {
                                    "frequency of same last name": "186",
                                    "last_name": "Poulakidas"
                                },
                                {
                                    "frequency of same last name": "186",
                                    "last_name": "Bain"
                                },
                                {
                                    "frequency of same last name": "186",
                                    "last_name": "Peir"
                                },
                                {
                                    "frequency of same last name": "186",
                                    "last_name": "Takkinen"
                                },
                                {
                                    "frequency of same last name": "186",
                                    "last_name": "Giveon"
                                },
                                {
                                    "frequency of same last name": "186",
                                    "last_name": "Iacovou"
                                },
                                {
                                    "frequency of same last name": "186",
                                    "last_name": "McDermid"
                                },
                                {
                                    "frequency of same last name": "186",
                                    "last_name": "Talmor"
                                },
                                {
                                    "frequency of same last name": "186",
                                    "last_name": "Facello"
                                },
                                {
                                    "frequency of same last name": "186",
                                    "last_name": "Kavvadias"
                                },
                                {
                                    "frequency of same last name": "186",
                                    "last_name": "Danecki"
                                },
                                {
                                    "frequency of same last name": "186",
                                    "last_name": "Goldhammer"
                                },
                                {
                                    "frequency of same last name": "186",
                                    "last_name": "Berendt"
                                },
                                {
                                    "frequency of same last name": "186",
                                    "last_name": "Koshino"
                                },
                                {
                                    "frequency of same last name": "186",
                                    "last_name": "Krzyzanowski"
                                },
                                {
                                    "frequency of same last name": "186",
                                    "last_name": "Rosen"
                                },
                                {
                                    "frequency of same last name": "186",
                                    "last_name": "Erbe"
                                },
                                {
                                    "frequency of same last name": "186",
                                    "last_name": "Pulkowski"
                                },
                                {
                                    "frequency of same last name": "186",
                                    "last_name": "Hedayat"
                                },
                                {
                                    "frequency of same last name": "186",
                                    "last_name": "Rijckaert"
                                },
                                {
                                    "frequency of same last name": "186",
                                    "last_name": "Benantar"
                                },
                                {
                                    "frequency of same last name": "186",
                                    "last_name": "Liedekerke"
                                },
                                {
                                    "frequency of same last name": "186",
                                    "last_name": "Cannard"
                                },
                                {
                                    "frequency of same last name": "186",
                                    "last_name": "Kranzdorf"
                                },
                                {
                                    "frequency of same last name": "186",
                                    "last_name": "Merli"
                                },
                                {
                                    "frequency of same last name": "186",
                                    "last_name": "Silva"
                                },
                                {
                                    "frequency of same last name": "186",
                                    "last_name": "Meszaros"
                                },
                                {
                                    "frequency of same last name": "186",
                                    "last_name": "Gyimothy"
                                },
                                {
                                    "frequency of same last name": "186",
                                    "last_name": "Sethi"
                                },
                                {
                                    "frequency of same last name": "186",
                                    "last_name": "Walstra"
                                },
                                {
                                    "frequency of same last name": "186",
                                    "last_name": "Gulak"
                                },
                                {
                                    "frequency of same last name": "186",
                                    "last_name": "Mitchem"
                                },
                                {
                                    "frequency of same last name": "186",
                                    "last_name": "Ratnakar"
                                },
                                {
                                    "frequency of same last name": "186",
                                    "last_name": "Vesel"
                                },
                                {
                                    "frequency of same last name": "186",
                                    "last_name": "Lundstrom"
                                },
                                {
                                    "frequency of same last name": "185",
                                    "last_name": "Fraisse"
                                },
                                {
                                    "frequency of same last name": "185",
                                    "last_name": "Chandrasekhar"
                                },
                                {
                                    "frequency of same last name": "185",
                                    "last_name": "Erde"
                                },
                                {
                                    "frequency of same last name": "185",
                                    "last_name": "Lorch"
                                },
                                {
                                    "frequency of same last name": "185",
                                    "last_name": "Brattka"
                                },
                                {
                                    "frequency of same last name": "185",
                                    "last_name": "Zucker"
                                },
                                {
                                    "frequency of same last name": "185",
                                    "last_name": "Reghbati"
                                },
                                {
                                    "frequency of same last name": "185",
                                    "last_name": "Kakkad"
                                },
                                {
                                    "frequency of same last name": "185",
                                    "last_name": "Kropp"
                                },
                                {
                                    "frequency of same last name": "185",
                                    "last_name": "Schieder"
                                },
                                {
                                    "frequency of same last name": "185",
                                    "last_name": "Petereit"
                                },
                                {
                                    "frequency of same last name": "185",
                                    "last_name": "Gerteisen"
                                },
                                {
                                    "frequency of same last name": "185",
                                    "last_name": "Openshaw"
                                },
                                {
                                    "frequency of same last name": "185",
                                    "last_name": "Lally"
                                },
                                {
                                    "frequency of same last name": "185",
                                    "last_name": "Sooriamurthi"
                                },
                                {
                                    "frequency of same last name": "185",
                                    "last_name": "Walston"
                                },
                                {
                                    "frequency of same last name": "185",
                                    "last_name": "Orlowski"
                                },
                                {
                                    "frequency of same last name": "185",
                                    "last_name": "Kitai"
                                },
                                {
                                    "frequency of same last name": "185",
                                    "last_name": "Rahier"
                                },
                                {
                                    "frequency of same last name": "185",
                                    "last_name": "Dusink"
                                },
                                {
                                    "frequency of same last name": "185",
                                    "last_name": "Crouzet"
                                },
                                {
                                    "frequency of same last name": "185",
                                    "last_name": "Paciorek"
                                },
                                {
                                    "frequency of same last name": "185",
                                    "last_name": "Danlos"
                                },
                                {
                                    "frequency of same last name": "185",
                                    "last_name": "Terekhov"
                                },
                                {
                                    "frequency of same last name": "185",
                                    "last_name": "Braunschweig"
                                },
                                {
                                    "frequency of same last name": "185",
                                    "last_name": "Rosay"
                                },
                                {
                                    "frequency of same last name": "185",
                                    "last_name": "Plavsic"
                                },
                                {
                                    "frequency of same last name": "185",
                                    "last_name": "Gruenwald"
                                },
                                {
                                    "frequency of same last name": "185",
                                    "last_name": "Ghalwash"
                                },
                                {
                                    "frequency of same last name": "185",
                                    "last_name": "Gurbaxani"
                                },
                                {
                                    "frequency of same last name": "185",
                                    "last_name": "Schwartzburd"
                                },
                                {
                                    "frequency of same last name": "185",
                                    "last_name": "DasSarma"
                                },
                                {
                                    "frequency of same last name": "185",
                                    "last_name": "Valtorta"
                                },
                                {
                                    "frequency of same last name": "185",
                                    "last_name": "Nastansky"
                                },
                                {
                                    "frequency of same last name": "185",
                                    "last_name": "Muhlberg"
                                },
                                {
                                    "frequency of same last name": "185",
                                    "last_name": "Brendel"
                                },
                                {
                                    "frequency of same last name": "185",
                                    "last_name": "Krichel"
                                },
                                {
                                    "frequency of same last name": "185",
                                    "last_name": "Tsukuda"
                                },
                                {
                                    "frequency of same last name": "185",
                                    "last_name": "Willoner"
                                },
                                {
                                    "frequency of same last name": "185",
                                    "last_name": "Borovoy"
                                },
                                {
                                    "frequency of same last name": "185",
                                    "last_name": "Pollacia"
                                },
                                {
                                    "frequency of same last name": "185",
                                    "last_name": "Cappelli"
                                },
                                {
                                    "frequency of same last name": "185",
                                    "last_name": "Marrevee"
                                },
                                {
                                    "frequency of same last name": "185",
                                    "last_name": "Veevers"
                                },
                                {
                                    "frequency of same last name": "185",
                                    "last_name": "Ranai"
                                },
                                {
                                    "frequency of same last name": "185",
                                    "last_name": "Barvinok"
                                },
                                {
                                    "frequency of same last name": "185",
                                    "last_name": "Narahara"
                                },
                                {
                                    "frequency of same last name": "185",
                                    "last_name": "Riefers"
                                },
                                {
                                    "frequency of same last name": "185",
                                    "last_name": "Decaestecker"
                                },
                                {
                                    "frequency of same last name": "184",
                                    "last_name": "Karunanithi"
                                },
                                {
                                    "frequency of same last name": "184",
                                    "last_name": "Jeansoulin"
                                },
                                {
                                    "frequency of same last name": "184",
                                    "last_name": "Holburn"
                                },
                                {
                                    "frequency of same last name": "184",
                                    "last_name": "Babu"
                                },
                                {
                                    "frequency of same last name": "184",
                                    "last_name": "Hambrick"
                                },
                                {
                                    "frequency of same last name": "184",
                                    "last_name": "Szmurlo"
                                },
                                {
                                    "frequency of same last name": "184",
                                    "last_name": "Koblitz"
                                },
                                {
                                    "frequency of same last name": "184",
                                    "last_name": "Ozeki"
                                },
                                {
                                    "frequency of same last name": "184",
                                    "last_name": "Conti"
                                },
                                {
                                    "frequency of same last name": "184",
                                    "last_name": "Panwar"
                                },
                                {
                                    "frequency of same last name": "184",
                                    "last_name": "Schade"
                                },
                                {
                                    "frequency of same last name": "184",
                                    "last_name": "Denna"
                                },
                                {
                                    "frequency of same last name": "184",
                                    "last_name": "Stamatiou"
                                },
                                {
                                    "frequency of same last name": "184",
                                    "last_name": "Dratva"
                                },
                                {
                                    "frequency of same last name": "184",
                                    "last_name": "Litvinov"
                                },
                                {
                                    "frequency of same last name": "184",
                                    "last_name": "Heiserman"
                                },
                                {
                                    "frequency of same last name": "184",
                                    "last_name": "Schiettecatte"
                                },
                                {
                                    "frequency of same last name": "184",
                                    "last_name": "Kusakari"
                                },
                                {
                                    "frequency of same last name": "184",
                                    "last_name": "Gien"
                                },
                                {
                                    "frequency of same last name": "184",
                                    "last_name": "Lorcy"
                                },
                                {
                                    "frequency of same last name": "184",
                                    "last_name": "Narlikar"
                                },
                                {
                                    "frequency of same last name": "184",
                                    "last_name": "Kaltofen"
                                },
                                {
                                    "frequency of same last name": "184",
                                    "last_name": "Massonet"
                                },
                                {
                                    "frequency of same last name": "184",
                                    "last_name": "Brodal"
                                },
                                {
                                    "frequency of same last name": "184",
                                    "last_name": "Ibel"
                                },
                                {
                                    "frequency of same last name": "184",
                                    "last_name": "Codenie"
                                },
                                {
                                    "frequency of same last name": "184",
                                    "last_name": "Chaudhury"
                                },
                                {
                                    "frequency of same last name": "184",
                                    "last_name": "Harllee"
                                },
                                {
                                    "frequency of same last name": "184",
                                    "last_name": "Rodier"
                                },
                                {
                                    "frequency of same last name": "184",
                                    "last_name": "Welham"
                                },
                                {
                                    "frequency of same last name": "184",
                                    "last_name": "Weedon"
                                },
                                {
                                    "frequency of same last name": "184",
                                    "last_name": "Heemskerk"
                                },
                                {
                                    "frequency of same last name": "184",
                                    "last_name": "Asrin"
                                },
                                {
                                    "frequency of same last name": "184",
                                    "last_name": "Compeau"
                                },
                                {
                                    "frequency of same last name": "184",
                                    "last_name": "Feldmann"
                                },
                                {
                                    "frequency of same last name": "184",
                                    "last_name": "Kobuchi"
                                },
                                {
                                    "frequency of same last name": "184",
                                    "last_name": "Schlumberger"
                                },
                                {
                                    "frequency of same last name": "184",
                                    "last_name": "Montemayor"
                                },
                                {
                                    "frequency of same last name": "184",
                                    "last_name": "Isaac"
                                },
                                {
                                    "frequency of same last name": "184",
                                    "last_name": "Usery"
                                },
                                {
                                    "frequency of same last name": "184",
                                    "last_name": "Dichev"
                                },
                                {
                                    "frequency of same last name": "184",
                                    "last_name": "Masaki"
                                },
                                {
                                    "frequency of same last name": "184",
                                    "last_name": "Crabtree"
                                },
                                {
                                    "frequency of same last name": "184",
                                    "last_name": "Furudate"
                                },
                                {
                                    "frequency of same last name": "184",
                                    "last_name": "Gill"
                                },
                                {
                                    "frequency of same last name": "184",
                                    "last_name": "Honglei"
                                },
                                {
                                    "frequency of same last name": "184",
                                    "last_name": "Esposito"
                                },
                                {
                                    "frequency of same last name": "184",
                                    "last_name": "Rosca"
                                },
                                {
                                    "frequency of same last name": "183",
                                    "last_name": "Bellone"
                                },
                                {
                                    "frequency of same last name": "183",
                                    "last_name": "Klerer"
                                },
                                {
                                    "frequency of same last name": "183",
                                    "last_name": "Randt"
                                },
                                {
                                    "frequency of same last name": "183",
                                    "last_name": "Mansanne"
                                },
                                {
                                    "frequency of same last name": "183",
                                    "last_name": "Lovengreen"
                                },
                                {
                                    "frequency of same last name": "183",
                                    "last_name": "Perl"
                                },
                                {
                                    "frequency of same last name": "183",
                                    "last_name": "Sankaranarayanan"
                                },
                                {
                                    "frequency of same last name": "183",
                                    "last_name": "Schaft"
                                },
                                {
                                    "frequency of same last name": "183",
                                    "last_name": "Debuse"
                                },
                                {
                                    "frequency of same last name": "183",
                                    "last_name": "Peot"
                                },
                                {
                                    "frequency of same last name": "183",
                                    "last_name": "Cappelletti"
                                },
                                {
                                    "frequency of same last name": "183",
                                    "last_name": "Luff"
                                },
                                {
                                    "frequency of same last name": "183",
                                    "last_name": "Wegerle"
                                },
                                {
                                    "frequency of same last name": "183",
                                    "last_name": "Stenning"
                                },
                                {
                                    "frequency of same last name": "183",
                                    "last_name": "Menhardt"
                                },
                                {
                                    "frequency of same last name": "183",
                                    "last_name": "Terlouw"
                                },
                                {
                                    "frequency of same last name": "183",
                                    "last_name": "Peac"
                                },
                                {
                                    "frequency of same last name": "183",
                                    "last_name": "Lichtman"
                                },
                                {
                                    "frequency of same last name": "183",
                                    "last_name": "Waterhouse"
                                },
                                {
                                    "frequency of same last name": "183",
                                    "last_name": "Rettelbach"
                                },
                                {
                                    "frequency of same last name": "183",
                                    "last_name": "Paludetto"
                                },
                                {
                                    "frequency of same last name": "183",
                                    "last_name": "Dehkordi"
                                },
                                {
                                    "frequency of same last name": "183",
                                    "last_name": "Vasanthakumar"
                                },
                                {
                                    "frequency of same last name": "183",
                                    "last_name": "Reistad"
                                },
                                {
                                    "frequency of same last name": "183",
                                    "last_name": "Haldar"
                                },
                                {
                                    "frequency of same last name": "183",
                                    "last_name": "Koyama"
                                },
                                {
                                    "frequency of same last name": "183",
                                    "last_name": "Cmelik"
                                },
                                {
                                    "frequency of same last name": "183",
                                    "last_name": "Rodite"
                                },
                                {
                                    "frequency of same last name": "183",
                                    "last_name": "Waeselynck"
                                },
                                {
                                    "frequency of same last name": "183",
                                    "last_name": "Alpay"
                                },
                                {
                                    "frequency of same last name": "183",
                                    "last_name": "Passino"
                                },
                                {
                                    "frequency of same last name": "183",
                                    "last_name": "Straney"
                                },
                                {
                                    "frequency of same last name": "183",
                                    "last_name": "Pollock"
                                },
                                {
                                    "frequency of same last name": "183",
                                    "last_name": "Naudin"
                                },
                                {
                                    "frequency of same last name": "183",
                                    "last_name": "Stavenow"
                                },
                                {
                                    "frequency of same last name": "183",
                                    "last_name": "Rothe"
                                },
                                {
                                    "frequency of same last name": "183",
                                    "last_name": "Raney"
                                },
                                {
                                    "frequency of same last name": "183",
                                    "last_name": "Koshiba"
                                },
                                {
                                    "frequency of same last name": "183",
                                    "last_name": "Bottner"
                                },
                                {
                                    "frequency of same last name": "183",
                                    "last_name": "Zolotykh"
                                },
                                {
                                    "frequency of same last name": "183",
                                    "last_name": "Stasinski"
                                },
                                {
                                    "frequency of same last name": "183",
                                    "last_name": "Krone"
                                },
                                {
                                    "frequency of same last name": "183",
                                    "last_name": "Molberg"
                                },
                                {
                                    "frequency of same last name": "183",
                                    "last_name": "Escriba"
                                },
                                {
                                    "frequency of same last name": "183",
                                    "last_name": "Munoz"
                                },
                                {
                                    "frequency of same last name": "183",
                                    "last_name": "Cheshire"
                                },
                                {
                                    "frequency of same last name": "183",
                                    "last_name": "Pietrzykowski"
                                },
                                {
                                    "frequency of same last name": "183",
                                    "last_name": "Businaro"
                                },
                                {
                                    "frequency of same last name": "183",
                                    "last_name": "Hooghiemstra"
                                },
                                {
                                    "frequency of same last name": "183",
                                    "last_name": "Henders"
                                },
                                {
                                    "frequency of same last name": "183",
                                    "last_name": "Fadgyas"
                                },
                                {
                                    "frequency of same last name": "183",
                                    "last_name": "Birdsall"
                                },
                                {
                                    "frequency of same last name": "183",
                                    "last_name": "Veeraraghavan"
                                },
                                {
                                    "frequency of same last name": "183",
                                    "last_name": "Oxenboll"
                                },
                                {
                                    "frequency of same last name": "183",
                                    "last_name": "Olano"
                                },
                                {
                                    "frequency of same last name": "183",
                                    "last_name": "Hofmeyr"
                                },
                                {
                                    "frequency of same last name": "182",
                                    "last_name": "Ushiama"
                                },
                                {
                                    "frequency of same last name": "182",
                                    "last_name": "Jumpertz"
                                },
                                {
                                    "frequency of same last name": "182",
                                    "last_name": "Kavraki"
                                },
                                {
                                    "frequency of same last name": "182",
                                    "last_name": "Baez"
                                },
                                {
                                    "frequency of same last name": "182",
                                    "last_name": "Grandbois"
                                },
                                {
                                    "frequency of same last name": "182",
                                    "last_name": "Msuda"
                                },
                                {
                                    "frequency of same last name": "182",
                                    "last_name": "Anily"
                                },
                                {
                                    "frequency of same last name": "182",
                                    "last_name": "Ariola"
                                },
                                {
                                    "frequency of same last name": "182",
                                    "last_name": "Gluchowski"
                                },
                                {
                                    "frequency of same last name": "182",
                                    "last_name": "Kroll"
                                },
                                {
                                    "frequency of same last name": "182",
                                    "last_name": "Raczkowsky"
                                },
                                {
                                    "frequency of same last name": "182",
                                    "last_name": "Auria"
                                },
                                {
                                    "frequency of same last name": "182",
                                    "last_name": "Rohrbach"
                                },
                                {
                                    "frequency of same last name": "182",
                                    "last_name": "Poehlman"
                                },
                                {
                                    "frequency of same last name": "182",
                                    "last_name": "Matzat"
                                },
                                {
                                    "frequency of same last name": "182",
                                    "last_name": "Poujol"
                                },
                                {
                                    "frequency of same last name": "182",
                                    "last_name": "Vuskovic"
                                },
                                {
                                    "frequency of same last name": "182",
                                    "last_name": "Back"
                                },
                                {
                                    "frequency of same last name": "182",
                                    "last_name": "Uhrik"
                                },
                                {
                                    "frequency of same last name": "182",
                                    "last_name": "Lortz"
                                },
                                {
                                    "frequency of same last name": "182",
                                    "last_name": "Guenter"
                                },
                                {
                                    "frequency of same last name": "182",
                                    "last_name": "Besancenot"
                                },
                                {
                                    "frequency of same last name": "182",
                                    "last_name": "Suermann"
                                },
                                {
                                    "frequency of same last name": "182",
                                    "last_name": "Eterovic"
                                },
                                {
                                    "frequency of same last name": "182",
                                    "last_name": "Lammel"
                                },
                                {
                                    "frequency of same last name": "182",
                                    "last_name": "Naumovich"
                                },
                                {
                                    "frequency of same last name": "182",
                                    "last_name": "Murillo"
                                },
                                {
                                    "frequency of same last name": "182",
                                    "last_name": "Setlzner"
                                },
                                {
                                    "frequency of same last name": "182",
                                    "last_name": "Krogh"
                                },
                                {
                                    "frequency of same last name": "182",
                                    "last_name": "Claffy"
                                },
                                {
                                    "frequency of same last name": "182",
                                    "last_name": "Buchter"
                                },
                                {
                                    "frequency of same last name": "182",
                                    "last_name": "Verhaegen"
                                },
                                {
                                    "frequency of same last name": "182",
                                    "last_name": "Einsfeld"
                                },
                                {
                                    "frequency of same last name": "182",
                                    "last_name": "Luck"
                                },
                                {
                                    "frequency of same last name": "182",
                                    "last_name": "Trelles"
                                },
                                {
                                    "frequency of same last name": "182",
                                    "last_name": "Ratzlaff"
                                },
                                {
                                    "frequency of same last name": "182",
                                    "last_name": "Birke"
                                },
                                {
                                    "frequency of same last name": "182",
                                    "last_name": "Busillo"
                                },
                                {
                                    "frequency of same last name": "182",
                                    "last_name": "Zlotek"
                                },
                                {
                                    "frequency of same last name": "182",
                                    "last_name": "Azadmanesh"
                                },
                                {
                                    "frequency of same last name": "182",
                                    "last_name": "England"
                                },
                                {
                                    "frequency of same last name": "182",
                                    "last_name": "Percebois"
                                },
                                {
                                    "frequency of same last name": "182",
                                    "last_name": "Pettit"
                                },
                                {
                                    "frequency of same last name": "182",
                                    "last_name": "Baak"
                                },
                                {
                                    "frequency of same last name": "182",
                                    "last_name": "Spieker"
                                },
                                {
                                    "frequency of same last name": "182",
                                    "last_name": "Speer"
                                },
                                {
                                    "frequency of same last name": "182",
                                    "last_name": "Uludag"
                                },
                                {
                                    "frequency of same last name": "182",
                                    "last_name": "Talmon"
                                },
                                {
                                    "frequency of same last name": "182",
                                    "last_name": "Bale"
                                },
                                {
                                    "frequency of same last name": "182",
                                    "last_name": "Basawa"
                                },
                                {
                                    "frequency of same last name": "182",
                                    "last_name": "Koblick"
                                },
                                {
                                    "frequency of same last name": "182",
                                    "last_name": "Peng"
                                },
                                {
                                    "frequency of same last name": "182",
                                    "last_name": "Renear"
                                },
                                {
                                    "frequency of same last name": "182",
                                    "last_name": "Varman"
                                },
                                {
                                    "frequency of same last name": "181",
                                    "last_name": "Fetvedt"
                                },
                                {
                                    "frequency of same last name": "181",
                                    "last_name": "Munos"
                                },
                                {
                                    "frequency of same last name": "181",
                                    "last_name": "Trachtenberg"
                                },
                                {
                                    "frequency of same last name": "181",
                                    "last_name": "Dahlbom"
                                },
                                {
                                    "frequency of same last name": "181",
                                    "last_name": "Iisaka"
                                },
                                {
                                    "frequency of same last name": "181",
                                    "last_name": "Ranon"
                                },
                                {
                                    "frequency of same last name": "181",
                                    "last_name": "Staudhammer"
                                },
                                {
                                    "frequency of same last name": "181",
                                    "last_name": "Huxford"
                                },
                                {
                                    "frequency of same last name": "181",
                                    "last_name": "Kuzuoka"
                                },
                                {
                                    "frequency of same last name": "181",
                                    "last_name": "Quittner"
                                },
                                {
                                    "frequency of same last name": "181",
                                    "last_name": "Atchley"
                                },
                                {
                                    "frequency of same last name": "181",
                                    "last_name": "Markovitch"
                                },
                                {
                                    "frequency of same last name": "181",
                                    "last_name": "Reinhart"
                                },
                                {
                                    "frequency of same last name": "181",
                                    "last_name": "Ossenbruggen"
                                },
                                {
                                    "frequency of same last name": "181",
                                    "last_name": "Chaudhuri"
                                },
                                {
                                    "frequency of same last name": "181",
                                    "last_name": "Flasterstein"
                                },
                                {
                                    "frequency of same last name": "181",
                                    "last_name": "Uhrig"
                                },
                                {
                                    "frequency of same last name": "181",
                                    "last_name": "Cronau"
                                },
                                {
                                    "frequency of same last name": "181",
                                    "last_name": "Lichtner"
                                },
                                {
                                    "frequency of same last name": "181",
                                    "last_name": "Schwabacher"
                                },
                                {
                                    "frequency of same last name": "181",
                                    "last_name": "Spataro"
                                },
                                {
                                    "frequency of same last name": "181",
                                    "last_name": "Gunderson"
                                },
                                {
                                    "frequency of same last name": "181",
                                    "last_name": "Smeets"
                                },
                                {
                                    "frequency of same last name": "181",
                                    "last_name": "Bashian"
                                },
                                {
                                    "frequency of same last name": "181",
                                    "last_name": "Broder"
                                },
                                {
                                    "frequency of same last name": "181",
                                    "last_name": "Cronan"
                                },
                                {
                                    "frequency of same last name": "181",
                                    "last_name": "Mayerwieser"
                                },
                                {
                                    "frequency of same last name": "181",
                                    "last_name": "Takanami"
                                },
                                {
                                    "frequency of same last name": "181",
                                    "last_name": "Savasere"
                                },
                                {
                                    "frequency of same last name": "181",
                                    "last_name": "Demri"
                                },
                                {
                                    "frequency of same last name": "181",
                                    "last_name": "Peroz"
                                },
                                {
                                    "frequency of same last name": "181",
                                    "last_name": "Fujisawa"
                                },
                                {
                                    "frequency of same last name": "181",
                                    "last_name": "Szemeredi"
                                },
                                {
                                    "frequency of same last name": "181",
                                    "last_name": "Nooteboom"
                                },
                                {
                                    "frequency of same last name": "181",
                                    "last_name": "Dengi"
                                },
                                {
                                    "frequency of same last name": "181",
                                    "last_name": "Schapiro"
                                },
                                {
                                    "frequency of same last name": "181",
                                    "last_name": "Cyne"
                                },
                                {
                                    "frequency of same last name": "181",
                                    "last_name": "Swist"
                                },
                                {
                                    "frequency of same last name": "181",
                                    "last_name": "Schmittgen"
                                },
                                {
                                    "frequency of same last name": "181",
                                    "last_name": "Kroft"
                                },
                                {
                                    "frequency of same last name": "181",
                                    "last_name": "Zyda"
                                },
                                {
                                    "frequency of same last name": "181",
                                    "last_name": "Varley"
                                },
                                {
                                    "frequency of same last name": "181",
                                    "last_name": "Ratnaker"
                                },
                                {
                                    "frequency of same last name": "181",
                                    "last_name": "Heusch"
                                },
                                {
                                    "frequency of same last name": "181",
                                    "last_name": "Gilg"
                                },
                                {
                                    "frequency of same last name": "181",
                                    "last_name": "Angel"
                                },
                                {
                                    "frequency of same last name": "181",
                                    "last_name": "Dalphin"
                                },
                                {
                                    "frequency of same last name": "181",
                                    "last_name": "Harbusch"
                                },
                                {
                                    "frequency of same last name": "181",
                                    "last_name": "Dayang"
                                },
                                {
                                    "frequency of same last name": "181",
                                    "last_name": "Luit"
                                },
                                {
                                    "frequency of same last name": "181",
                                    "last_name": "Chiodo"
                                },
                                {
                                    "frequency of same last name": "181",
                                    "last_name": "Chelton"
                                },
                                {
                                    "frequency of same last name": "181",
                                    "last_name": "Yemenis"
                                },
                                {
                                    "frequency of same last name": "181",
                                    "last_name": "Giaccio"
                                },
                                {
                                    "frequency of same last name": "181",
                                    "last_name": "Comellas"
                                },
                                {
                                    "frequency of same last name": "181",
                                    "last_name": "Mahmud"
                                },
                                {
                                    "frequency of same last name": "181",
                                    "last_name": "Vendrig"
                                },
                                {
                                    "frequency of same last name": "181",
                                    "last_name": "Asmuth"
                                },
                                {
                                    "frequency of same last name": "181",
                                    "last_name": "Waschkowski"
                                },
                                {
                                    "frequency of same last name": "180",
                                    "last_name": "Griswold"
                                },
                                {
                                    "frequency of same last name": "180",
                                    "last_name": "Winter"
                                },
                                {
                                    "frequency of same last name": "180",
                                    "last_name": "Fasbender"
                                },
                                {
                                    "frequency of same last name": "180",
                                    "last_name": "Sullins"
                                },
                                {
                                    "frequency of same last name": "180",
                                    "last_name": "Zweizig"
                                },
                                {
                                    "frequency of same last name": "180",
                                    "last_name": "DuBourdieux"
                                },
                                {
                                    "frequency of same last name": "180",
                                    "last_name": "Birrer"
                                },
                                {
                                    "frequency of same last name": "180",
                                    "last_name": "Bennis"
                                },
                                {
                                    "frequency of same last name": "180",
                                    "last_name": "Christianini"
                                },
                                {
                                    "frequency of same last name": "180",
                                    "last_name": "Erie"
                                },
                                {
                                    "frequency of same last name": "180",
                                    "last_name": "Vakili"
                                },
                                {
                                    "frequency of same last name": "180",
                                    "last_name": "Cincotta"
                                },
                                {
                                    "frequency of same last name": "180",
                                    "last_name": "Fioravanti"
                                },
                                {
                                    "frequency of same last name": "180",
                                    "last_name": "Beutelspacher"
                                },
                                {
                                    "frequency of same last name": "180",
                                    "last_name": "Toyoshima"
                                },
                                {
                                    "frequency of same last name": "180",
                                    "last_name": "Terkki"
                                },
                                {
                                    "frequency of same last name": "180",
                                    "last_name": "Cooman"
                                },
                                {
                                    "frequency of same last name": "180",
                                    "last_name": "Bail"
                                },
                                {
                                    "frequency of same last name": "180",
                                    "last_name": "Baalen"
                                },
                                {
                                    "frequency of same last name": "180",
                                    "last_name": "Ballarin"
                                },
                                {
                                    "frequency of same last name": "180",
                                    "last_name": "Ruther"
                                },
                                {
                                    "frequency of same last name": "180",
                                    "last_name": "Mondadori"
                                },
                                {
                                    "frequency of same last name": "180",
                                    "last_name": "Ligten"
                                },
                                {
                                    "frequency of same last name": "180",
                                    "last_name": "McAffer"
                                },
                                {
                                    "frequency of same last name": "180",
                                    "last_name": "Rissanen"
                                },
                                {
                                    "frequency of same last name": "180",
                                    "last_name": "Munck"
                                },
                                {
                                    "frequency of same last name": "180",
                                    "last_name": "Covnot"
                                },
                                {
                                    "frequency of same last name": "180",
                                    "last_name": "Zizka"
                                },
                                {
                                    "frequency of same last name": "180",
                                    "last_name": "Prochazka"
                                },
                                {
                                    "frequency of same last name": "180",
                                    "last_name": "Vitiello"
                                },
                                {
                                    "frequency of same last name": "180",
                                    "last_name": "Tsukune"
                                },
                                {
                                    "frequency of same last name": "180",
                                    "last_name": "Mattern"
                                },
                                {
                                    "frequency of same last name": "180",
                                    "last_name": "Makinen"
                                },
                                {
                                    "frequency of same last name": "180",
                                    "last_name": "Binding"
                                },
                                {
                                    "frequency of same last name": "180",
                                    "last_name": "Nitta"
                                },
                                {
                                    "frequency of same last name": "180",
                                    "last_name": "Cronin"
                                },
                                {
                                    "frequency of same last name": "180",
                                    "last_name": "Erol"
                                },
                                {
                                    "frequency of same last name": "180",
                                    "last_name": "Chorvat"
                                },
                                {
                                    "frequency of same last name": "180",
                                    "last_name": "Fabrizio"
                                },
                                {
                                    "frequency of same last name": "180",
                                    "last_name": "Kalafatis"
                                },
                                {
                                    "frequency of same last name": "180",
                                    "last_name": "Sherertz"
                                },
                                {
                                    "frequency of same last name": "180",
                                    "last_name": "Sidhu"
                                },
                                {
                                    "frequency of same last name": "180",
                                    "last_name": "Stellhorn"
                                },
                                {
                                    "frequency of same last name": "180",
                                    "last_name": "Bahi"
                                },
                                {
                                    "frequency of same last name": "180",
                                    "last_name": "Kowalchuk"
                                },
                                {
                                    "frequency of same last name": "180",
                                    "last_name": "Bael"
                                },
                                {
                                    "frequency of same last name": "179",
                                    "last_name": "Hockney"
                                },
                                {
                                    "frequency of same last name": "179",
                                    "last_name": "Ramamoorthy"
                                },
                                {
                                    "frequency of same last name": "179",
                                    "last_name": "Delgrange"
                                },
                                {
                                    "frequency of same last name": "179",
                                    "last_name": "Bazelow"
                                },
                                {
                                    "frequency of same last name": "179",
                                    "last_name": "Yurov"
                                },
                                {
                                    "frequency of same last name": "179",
                                    "last_name": "Deverell"
                                },
                                {
                                    "frequency of same last name": "179",
                                    "last_name": "Falco"
                                },
                                {
                                    "frequency of same last name": "179",
                                    "last_name": "Marchesini"
                                },
                                {
                                    "frequency of same last name": "179",
                                    "last_name": "McClure"
                                },
                                {
                                    "frequency of same last name": "179",
                                    "last_name": "Ladret"
                                },
                                {
                                    "frequency of same last name": "179",
                                    "last_name": "Ozeri"
                                },
                                {
                                    "frequency of same last name": "179",
                                    "last_name": "Azulay"
                                },
                                {
                                    "frequency of same last name": "179",
                                    "last_name": "Luon"
                                },
                                {
                                    "frequency of same last name": "179",
                                    "last_name": "Streng"
                                },
                                {
                                    "frequency of same last name": "179",
                                    "last_name": "Turnbull"
                                },
                                {
                                    "frequency of same last name": "179",
                                    "last_name": "Steinauer"
                                },
                                {
                                    "frequency of same last name": "179",
                                    "last_name": "Trogemann"
                                },
                                {
                                    "frequency of same last name": "179",
                                    "last_name": "Rodiger"
                                },
                                {
                                    "frequency of same last name": "179",
                                    "last_name": "Lieblein"
                                },
                                {
                                    "frequency of same last name": "179",
                                    "last_name": "Beilner"
                                },
                                {
                                    "frequency of same last name": "179",
                                    "last_name": "Pepe"
                                },
                                {
                                    "frequency of same last name": "179",
                                    "last_name": "Shokrollahi"
                                },
                                {
                                    "frequency of same last name": "179",
                                    "last_name": "Wilfing"
                                },
                                {
                                    "frequency of same last name": "179",
                                    "last_name": "Puppe"
                                },
                                {
                                    "frequency of same last name": "179",
                                    "last_name": "Lupu"
                                },
                                {
                                    "frequency of same last name": "179",
                                    "last_name": "Broomell"
                                },
                                {
                                    "frequency of same last name": "179",
                                    "last_name": "Werthner"
                                },
                                {
                                    "frequency of same last name": "179",
                                    "last_name": "Snyers"
                                },
                                {
                                    "frequency of same last name": "179",
                                    "last_name": "Katalagarianos"
                                },
                                {
                                    "frequency of same last name": "179",
                                    "last_name": "Luga"
                                },
                                {
                                    "frequency of same last name": "179",
                                    "last_name": "Berztiss"
                                },
                                {
                                    "frequency of same last name": "179",
                                    "last_name": "Schneeberger"
                                },
                                {
                                    "frequency of same last name": "179",
                                    "last_name": "Farrag"
                                },
                                {
                                    "frequency of same last name": "179",
                                    "last_name": "Motley"
                                },
                                {
                                    "frequency of same last name": "179",
                                    "last_name": "Hatcliff"
                                },
                                {
                                    "frequency of same last name": "179",
                                    "last_name": "Prenel"
                                },
                                {
                                    "frequency of same last name": "179",
                                    "last_name": "Dymetman"
                                },
                                {
                                    "frequency of same last name": "179",
                                    "last_name": "Pagter"
                                },
                                {
                                    "frequency of same last name": "179",
                                    "last_name": "Klyachko"
                                },
                                {
                                    "frequency of same last name": "179",
                                    "last_name": "Kolinko"
                                },
                                {
                                    "frequency of same last name": "179",
                                    "last_name": "Foong"
                                },
                                {
                                    "frequency of same last name": "179",
                                    "last_name": "Gecseg"
                                },
                                {
                                    "frequency of same last name": "179",
                                    "last_name": "Negoita"
                                },
                                {
                                    "frequency of same last name": "179",
                                    "last_name": "Krychniak"
                                },
                                {
                                    "frequency of same last name": "179",
                                    "last_name": "Chiola"
                                },
                                {
                                    "frequency of same last name": "179",
                                    "last_name": "Hebden"
                                },
                                {
                                    "frequency of same last name": "179",
                                    "last_name": "Ulupinar"
                                },
                                {
                                    "frequency of same last name": "179",
                                    "last_name": "Roccetti"
                                },
                                {
                                    "frequency of same last name": "179",
                                    "last_name": "Birch"
                                },
                                {
                                    "frequency of same last name": "178",
                                    "last_name": "Solovay"
                                },
                                {
                                    "frequency of same last name": "178",
                                    "last_name": "Brickell"
                                },
                                {
                                    "frequency of same last name": "178",
                                    "last_name": "Murtafg"
                                },
                                {
                                    "frequency of same last name": "178",
                                    "last_name": "Ramsey"
                                },
                                {
                                    "frequency of same last name": "178",
                                    "last_name": "Kermarrec"
                                },
                                {
                                    "frequency of same last name": "178",
                                    "last_name": "Falby"
                                },
                                {
                                    "frequency of same last name": "178",
                                    "last_name": "Capobianchi"
                                },
                                {
                                    "frequency of same last name": "178",
                                    "last_name": "Benveniste"
                                },
                                {
                                    "frequency of same last name": "178",
                                    "last_name": "Ernst"
                                },
                                {
                                    "frequency of same last name": "178",
                                    "last_name": "Peres"
                                },
                                {
                                    "frequency of same last name": "178",
                                    "last_name": "Samarati"
                                },
                                {
                                    "frequency of same last name": "178",
                                    "last_name": "Angot"
                                },
                                {
                                    "frequency of same last name": "178",
                                    "last_name": "Binkley"
                                },
                                {
                                    "frequency of same last name": "178",
                                    "last_name": "Rathonyi"
                                },
                                {
                                    "frequency of same last name": "178",
                                    "last_name": "Kossowski"
                                },
                                {
                                    "frequency of same last name": "178",
                                    "last_name": "Seuren"
                                },
                                {
                                    "frequency of same last name": "178",
                                    "last_name": "Eastman"
                                },
                                {
                                    "frequency of same last name": "178",
                                    "last_name": "Felder"
                                },
                                {
                                    "frequency of same last name": "178",
                                    "last_name": "Detkin"
                                },
                                {
                                    "frequency of same last name": "178",
                                    "last_name": "Restivo"
                                },
                                {
                                    "frequency of same last name": "178",
                                    "last_name": "Strooper"
                                },
                                {
                                    "frequency of same last name": "178",
                                    "last_name": "Magliocco"
                                },
                                {
                                    "frequency of same last name": "178",
                                    "last_name": "Jarecki"
                                },
                                {
                                    "frequency of same last name": "178",
                                    "last_name": "Verspoor"
                                },
                                {
                                    "frequency of same last name": "178",
                                    "last_name": "Botman"
                                },
                                {
                                    "frequency of same last name": "178",
                                    "last_name": "Bernini"
                                },
                                {
                                    "frequency of same last name": "178",
                                    "last_name": "Radwan"
                                },
                                {
                                    "frequency of same last name": "178",
                                    "last_name": "Chenoweth"
                                },
                                {
                                    "frequency of same last name": "178",
                                    "last_name": "Ginneken"
                                },
                                {
                                    "frequency of same last name": "178",
                                    "last_name": "Bakhtari"
                                },
                                {
                                    "frequency of same last name": "178",
                                    "last_name": "Improta"
                                },
                                {
                                    "frequency of same last name": "178",
                                    "last_name": "Chartres"
                                },
                                {
                                    "frequency of same last name": "178",
                                    "last_name": "Tasistro"
                                },
                                {
                                    "frequency of same last name": "178",
                                    "last_name": "Attimonelli"
                                },
                                {
                                    "frequency of same last name": "178",
                                    "last_name": "Bamford"
                                },
                                {
                                    "frequency of same last name": "178",
                                    "last_name": "Figueira"
                                },
                                {
                                    "frequency of same last name": "178",
                                    "last_name": "Casley"
                                },
                                {
                                    "frequency of same last name": "178",
                                    "last_name": "Brlek"
                                },
                                {
                                    "frequency of same last name": "178",
                                    "last_name": "Demir"
                                },
                                {
                                    "frequency of same last name": "178",
                                    "last_name": "Levasseur"
                                },
                                {
                                    "frequency of same last name": "178",
                                    "last_name": "Sewelson"
                                },
                                {
                                    "frequency of same last name": "178",
                                    "last_name": "Rebaine"
                                },
                                {
                                    "frequency of same last name": "178",
                                    "last_name": "Sinitsyn"
                                },
                                {
                                    "frequency of same last name": "178",
                                    "last_name": "Lagarias"
                                },
                                {
                                    "frequency of same last name": "177",
                                    "last_name": "Trumbly"
                                },
                                {
                                    "frequency of same last name": "177",
                                    "last_name": "Zeilberger"
                                },
                                {
                                    "frequency of same last name": "177",
                                    "last_name": "Templeman"
                                },
                                {
                                    "frequency of same last name": "177",
                                    "last_name": "Nourani"
                                },
                                {
                                    "frequency of same last name": "177",
                                    "last_name": "Rando"
                                },
                                {
                                    "frequency of same last name": "177",
                                    "last_name": "Magalhaes"
                                },
                                {
                                    "frequency of same last name": "177",
                                    "last_name": "Zeleznik"
                                },
                                {
                                    "frequency of same last name": "177",
                                    "last_name": "Cunliffe"
                                },
                                {
                                    "frequency of same last name": "177",
                                    "last_name": "Matzke"
                                },
                                {
                                    "frequency of same last name": "177",
                                    "last_name": "Monkewich"
                                },
                                {
                                    "frequency of same last name": "177",
                                    "last_name": "Merlo"
                                },
                                {
                                    "frequency of same last name": "177",
                                    "last_name": "Aseltine"
                                },
                                {
                                    "frequency of same last name": "177",
                                    "last_name": "Jayawardene"
                                },
                                {
                                    "frequency of same last name": "177",
                                    "last_name": "Feldhoffer"
                                },
                                {
                                    "frequency of same last name": "177",
                                    "last_name": "Mullainathan"
                                },
                                {
                                    "frequency of same last name": "177",
                                    "last_name": "Czaja"
                                },
                                {
                                    "frequency of same last name": "177",
                                    "last_name": "Frezza"
                                },
                                {
                                    "frequency of same last name": "177",
                                    "last_name": "Krupka"
                                },
                                {
                                    "frequency of same last name": "177",
                                    "last_name": "Perri"
                                },
                                {
                                    "frequency of same last name": "177",
                                    "last_name": "Thorensen"
                                },
                                {
                                    "frequency of same last name": "177",
                                    "last_name": "Pouyioutas"
                                },
                                {
                                    "frequency of same last name": "177",
                                    "last_name": "Ruemmler"
                                },
                                {
                                    "frequency of same last name": "177",
                                    "last_name": "Zultner"
                                },
                                {
                                    "frequency of same last name": "177",
                                    "last_name": "Peck"
                                },
                                {
                                    "frequency of same last name": "177",
                                    "last_name": "Vandervoorde"
                                },
                                {
                                    "frequency of same last name": "177",
                                    "last_name": "Cairo"
                                },
                                {
                                    "frequency of same last name": "177",
                                    "last_name": "Anido"
                                },
                                {
                                    "frequency of same last name": "177",
                                    "last_name": "Kieras"
                                },
                                {
                                    "frequency of same last name": "177",
                                    "last_name": "Uchoa"
                                },
                                {
                                    "frequency of same last name": "177",
                                    "last_name": "Zhiwei"
                                },
                                {
                                    "frequency of same last name": "177",
                                    "last_name": "Bardell"
                                },
                                {
                                    "frequency of same last name": "177",
                                    "last_name": "Angiulli"
                                },
                                {
                                    "frequency of same last name": "177",
                                    "last_name": "DuCasse"
                                },
                                {
                                    "frequency of same last name": "177",
                                    "last_name": "Nitsche"
                                },
                                {
                                    "frequency of same last name": "177",
                                    "last_name": "DiGiano"
                                },
                                {
                                    "frequency of same last name": "177",
                                    "last_name": "Undy"
                                },
                                {
                                    "frequency of same last name": "177",
                                    "last_name": "Thiria"
                                },
                                {
                                    "frequency of same last name": "177",
                                    "last_name": "Knightly"
                                },
                                {
                                    "frequency of same last name": "177",
                                    "last_name": "Herath"
                                },
                                {
                                    "frequency of same last name": "177",
                                    "last_name": "Peral"
                                },
                                {
                                    "frequency of same last name": "177",
                                    "last_name": "Peris"
                                },
                                {
                                    "frequency of same last name": "177",
                                    "last_name": "Chinen"
                                },
                                {
                                    "frequency of same last name": "177",
                                    "last_name": "Caine"
                                },
                                {
                                    "frequency of same last name": "176",
                                    "last_name": "Lieberherr"
                                },
                                {
                                    "frequency of same last name": "176",
                                    "last_name": "Greibach"
                                },
                                {
                                    "frequency of same last name": "176",
                                    "last_name": "Falck"
                                },
                                {
                                    "frequency of same last name": "176",
                                    "last_name": "Olivero"
                                },
                                {
                                    "frequency of same last name": "176",
                                    "last_name": "Halloran"
                                },
                                {
                                    "frequency of same last name": "176",
                                    "last_name": "Luke"
                                },
                                {
                                    "frequency of same last name": "176",
                                    "last_name": "Pleszkun"
                                },
                                {
                                    "frequency of same last name": "176",
                                    "last_name": "Miyakawa"
                                },
                                {
                                    "frequency of same last name": "176",
                                    "last_name": "Cullers"
                                },
                                {
                                    "frequency of same last name": "176",
                                    "last_name": "Rossi"
                                },
                                {
                                    "frequency of same last name": "176",
                                    "last_name": "Ullian"
                                },
                                {
                                    "frequency of same last name": "176",
                                    "last_name": "Schahn"
                                },
                                {
                                    "frequency of same last name": "176",
                                    "last_name": "Hasenauer"
                                },
                                {
                                    "frequency of same last name": "176",
                                    "last_name": "Kugler"
                                },
                                {
                                    "frequency of same last name": "176",
                                    "last_name": "Menyhert"
                                },
                                {
                                    "frequency of same last name": "176",
                                    "last_name": "Picaronny"
                                },
                                {
                                    "frequency of same last name": "176",
                                    "last_name": "Lukaszewicz"
                                },
                                {
                                    "frequency of same last name": "176",
                                    "last_name": "Reinhard"
                                },
                                {
                                    "frequency of same last name": "176",
                                    "last_name": "Gopalakrishnan"
                                },
                                {
                                    "frequency of same last name": "176",
                                    "last_name": "Pardalos"
                                },
                                {
                                    "frequency of same last name": "176",
                                    "last_name": "Danner"
                                },
                                {
                                    "frequency of same last name": "176",
                                    "last_name": "Loncour"
                                },
                                {
                                    "frequency of same last name": "176",
                                    "last_name": "Baca"
                                },
                                {
                                    "frequency of same last name": "176",
                                    "last_name": "Beerel"
                                },
                                {
                                    "frequency of same last name": "176",
                                    "last_name": "Baja"
                                },
                                {
                                    "frequency of same last name": "176",
                                    "last_name": "Armand"
                                },
                                {
                                    "frequency of same last name": "176",
                                    "last_name": "Jording"
                                },
                                {
                                    "frequency of same last name": "176",
                                    "last_name": "Sinicrope"
                                },
                                {
                                    "frequency of same last name": "176",
                                    "last_name": "Zwicker"
                                },
                                {
                                    "frequency of same last name": "176",
                                    "last_name": "Sommer"
                                },
                                {
                                    "frequency of same last name": "176",
                                    "last_name": "Hainaut"
                                },
                                {
                                    "frequency of same last name": "176",
                                    "last_name": "Selenyi"
                                },
                                {
                                    "frequency of same last name": "176",
                                    "last_name": "Passafiume"
                                },
                                {
                                    "frequency of same last name": "176",
                                    "last_name": "Egerstedt"
                                },
                                {
                                    "frequency of same last name": "176",
                                    "last_name": "Chappelet"
                                },
                                {
                                    "frequency of same last name": "176",
                                    "last_name": "Saoudi"
                                },
                                {
                                    "frequency of same last name": "176",
                                    "last_name": "Demizu"
                                },
                                {
                                    "frequency of same last name": "176",
                                    "last_name": "Heping"
                                },
                                {
                                    "frequency of same last name": "176",
                                    "last_name": "Coombs"
                                },
                                {
                                    "frequency of same last name": "175",
                                    "last_name": "Cappello"
                                },
                                {
                                    "frequency of same last name": "175",
                                    "last_name": "Murtagh"
                                },
                                {
                                    "frequency of same last name": "175",
                                    "last_name": "Krohn"
                                },
                                {
                                    "frequency of same last name": "175",
                                    "last_name": "Fendler"
                                },
                                {
                                    "frequency of same last name": "175",
                                    "last_name": "Barreiro"
                                },
                                {
                                    "frequency of same last name": "175",
                                    "last_name": "Porenta"
                                },
                                {
                                    "frequency of same last name": "175",
                                    "last_name": "Flexer"
                                },
                                {
                                    "frequency of same last name": "175",
                                    "last_name": "Chinal"
                                },
                                {
                                    "frequency of same last name": "175",
                                    "last_name": "Kalsbeek"
                                },
                                {
                                    "frequency of same last name": "175",
                                    "last_name": "Vural"
                                },
                                {
                                    "frequency of same last name": "175",
                                    "last_name": "Alvarado"
                                },
                                {
                                    "frequency of same last name": "175",
                                    "last_name": "Wissmann"
                                },
                                {
                                    "frequency of same last name": "175",
                                    "last_name": "Lienhardt"
                                },
                                {
                                    "frequency of same last name": "175",
                                    "last_name": "Lores"
                                },
                                {
                                    "frequency of same last name": "175",
                                    "last_name": "Engelmann"
                                },
                                {
                                    "frequency of same last name": "175",
                                    "last_name": "Milicia"
                                },
                                {
                                    "frequency of same last name": "175",
                                    "last_name": "Schurmann"
                                },
                                {
                                    "frequency of same last name": "175",
                                    "last_name": "Skrikant"
                                },
                                {
                                    "frequency of same last name": "175",
                                    "last_name": "Atrawala"
                                },
                                {
                                    "frequency of same last name": "175",
                                    "last_name": "Roohalamini"
                                },
                                {
                                    "frequency of same last name": "175",
                                    "last_name": "Sigstam"
                                },
                                {
                                    "frequency of same last name": "175",
                                    "last_name": "Iisaku"
                                },
                                {
                                    "frequency of same last name": "175",
                                    "last_name": "Cooley"
                                },
                                {
                                    "frequency of same last name": "175",
                                    "last_name": "Cyre"
                                },
                                {
                                    "frequency of same last name": "175",
                                    "last_name": "Bergere"
                                },
                                {
                                    "frequency of same last name": "175",
                                    "last_name": "Kropatsch"
                                },
                                {
                                    "frequency of same last name": "175",
                                    "last_name": "Papastamatiou"
                                },
                                {
                                    "frequency of same last name": "175",
                                    "last_name": "Beausoleil"
                                },
                                {
                                    "frequency of same last name": "175",
                                    "last_name": "Coney"
                                },
                                {
                                    "frequency of same last name": "175",
                                    "last_name": "Vidya"
                                },
                                {
                                    "frequency of same last name": "175",
                                    "last_name": "Picci"
                                },
                                {
                                    "frequency of same last name": "175",
                                    "last_name": "Lunn"
                                },
                                {
                                    "frequency of same last name": "175",
                                    "last_name": "Schicker"
                                },
                                {
                                    "frequency of same last name": "175",
                                    "last_name": "Demke"
                                },
                                {
                                    "frequency of same last name": "175",
                                    "last_name": "Molenaar"
                                },
                                {
                                    "frequency of same last name": "175",
                                    "last_name": "Honiden"
                                },
                                {
                                    "frequency of same last name": "175",
                                    "last_name": "Valiente"
                                },
                                {
                                    "frequency of same last name": "175",
                                    "last_name": "Laurillard"
                                },
                                {
                                    "frequency of same last name": "175",
                                    "last_name": "Tanemo"
                                },
                                {
                                    "frequency of same last name": "175",
                                    "last_name": "Shinomoto"
                                },
                                {
                                    "frequency of same last name": "175",
                                    "last_name": "Matteis"
                                },
                                {
                                    "frequency of same last name": "175",
                                    "last_name": "Vesna"
                                },
                                {
                                    "frequency of same last name": "175",
                                    "last_name": "Denny"
                                },
                                {
                                    "frequency of same last name": "175",
                                    "last_name": "Tsunoo"
                                },
                                {
                                    "frequency of same last name": "175",
                                    "last_name": "Sommen"
                                },
                                {
                                    "frequency of same last name": "175",
                                    "last_name": "Edelhoff"
                                },
                                {
                                    "frequency of same last name": "175",
                                    "last_name": "Vidal"
                                },
                                {
                                    "frequency of same last name": "174",
                                    "last_name": "Douceur"
                                },
                                {
                                    "frequency of same last name": "174",
                                    "last_name": "Angelov"
                                },
                                {
                                    "frequency of same last name": "174",
                                    "last_name": "Oxman"
                                },
                                {
                                    "frequency of same last name": "174",
                                    "last_name": "Tzvieli"
                                },
                                {
                                    "frequency of same last name": "174",
                                    "last_name": "Gecsel"
                                },
                                {
                                    "frequency of same last name": "174",
                                    "last_name": "Itschner"
                                },
                                {
                                    "frequency of same last name": "174",
                                    "last_name": "Bage"
                                },
                                {
                                    "frequency of same last name": "174",
                                    "last_name": "Hennings"
                                },
                                {
                                    "frequency of same last name": "174",
                                    "last_name": "Schauser"
                                },
                                {
                                    "frequency of same last name": "174",
                                    "last_name": "Eldridge"
                                },
                                {
                                    "frequency of same last name": "174",
                                    "last_name": "Cannata"
                                },
                                {
                                    "frequency of same last name": "174",
                                    "last_name": "Bernick"
                                },
                                {
                                    "frequency of same last name": "174",
                                    "last_name": "Georg"
                                },
                                {
                                    "frequency of same last name": "174",
                                    "last_name": "Potthoff"
                                },
                                {
                                    "frequency of same last name": "174",
                                    "last_name": "Choobineh"
                                },
                                {
                                    "frequency of same last name": "174",
                                    "last_name": "Pettey"
                                },
                                {
                                    "frequency of same last name": "174",
                                    "last_name": "Schoegge"
                                },
                                {
                                    "frequency of same last name": "174",
                                    "last_name": "Assaf"
                                },
                                {
                                    "frequency of same last name": "174",
                                    "last_name": "Syrzycki"
                                },
                                {
                                    "frequency of same last name": "174",
                                    "last_name": "Cannane"
                                },
                                {
                                    "frequency of same last name": "174",
                                    "last_name": "Rubsam"
                                },
                                {
                                    "frequency of same last name": "174",
                                    "last_name": "Peha"
                                },
                                {
                                    "frequency of same last name": "174",
                                    "last_name": "Schlenzig"
                                },
                                {
                                    "frequency of same last name": "174",
                                    "last_name": "Veldwijk"
                                },
                                {
                                    "frequency of same last name": "174",
                                    "last_name": "Pintelas"
                                },
                                {
                                    "frequency of same last name": "174",
                                    "last_name": "Boissier"
                                },
                                {
                                    "frequency of same last name": "174",
                                    "last_name": "Sambasivam"
                                },
                                {
                                    "frequency of same last name": "174",
                                    "last_name": "Schonegge"
                                },
                                {
                                    "frequency of same last name": "174",
                                    "last_name": "Oskamp"
                                },
                                {
                                    "frequency of same last name": "174",
                                    "last_name": "Etalle"
                                },
                                {
                                    "frequency of same last name": "174",
                                    "last_name": "Varker"
                                },
                                {
                                    "frequency of same last name": "174",
                                    "last_name": "Azuma"
                                },
                                {
                                    "frequency of same last name": "174",
                                    "last_name": "Showalter"
                                },
                                {
                                    "frequency of same last name": "174",
                                    "last_name": "Fordan"
                                },
                                {
                                    "frequency of same last name": "174",
                                    "last_name": "Dolinsky"
                                },
                                {
                                    "frequency of same last name": "174",
                                    "last_name": "Fiutem"
                                },
                                {
                                    "frequency of same last name": "173",
                                    "last_name": "Biron"
                                },
                                {
                                    "frequency of same last name": "173",
                                    "last_name": "Ambroszkiewicz"
                                },
                                {
                                    "frequency of same last name": "173",
                                    "last_name": "Pena"
                                },
                                {
                                    "frequency of same last name": "173",
                                    "last_name": "Masamoto"
                                },
                                {
                                    "frequency of same last name": "173",
                                    "last_name": "Gadepally"
                                },
                                {
                                    "frequency of same last name": "173",
                                    "last_name": "Stafford"
                                },
                                {
                                    "frequency of same last name": "173",
                                    "last_name": "Deyuan"
                                },
                                {
                                    "frequency of same last name": "173",
                                    "last_name": "Huhdanpaa"
                                },
                                {
                                    "frequency of same last name": "173",
                                    "last_name": "Peternell"
                                },
                                {
                                    "frequency of same last name": "173",
                                    "last_name": "Range"
                                },
                                {
                                    "frequency of same last name": "173",
                                    "last_name": "Gimarc"
                                },
                                {
                                    "frequency of same last name": "173",
                                    "last_name": "Bratsberg"
                                },
                                {
                                    "frequency of same last name": "173",
                                    "last_name": "Orlowska"
                                },
                                {
                                    "frequency of same last name": "173",
                                    "last_name": "Denos"
                                },
                                {
                                    "frequency of same last name": "173",
                                    "last_name": "Flanders"
                                },
                                {
                                    "frequency of same last name": "173",
                                    "last_name": "Kruskal"
                                },
                                {
                                    "frequency of same last name": "173",
                                    "last_name": "Pietracaprina"
                                },
                                {
                                    "frequency of same last name": "173",
                                    "last_name": "Ranze"
                                },
                                {
                                    "frequency of same last name": "173",
                                    "last_name": "Melter"
                                },
                                {
                                    "frequency of same last name": "173",
                                    "last_name": "Comte"
                                },
                                {
                                    "frequency of same last name": "173",
                                    "last_name": "Beidas"
                                },
                                {
                                    "frequency of same last name": "173",
                                    "last_name": "Gini"
                                },
                                {
                                    "frequency of same last name": "173",
                                    "last_name": "Perna"
                                },
                                {
                                    "frequency of same last name": "173",
                                    "last_name": "Nitsch"
                                },
                                {
                                    "frequency of same last name": "173",
                                    "last_name": "Leonhardt"
                                },
                                {
                                    "frequency of same last name": "173",
                                    "last_name": "Lanteri"
                                },
                                {
                                    "frequency of same last name": "173",
                                    "last_name": "Zockler"
                                },
                                {
                                    "frequency of same last name": "173",
                                    "last_name": "Tischendorf"
                                },
                                {
                                    "frequency of same last name": "173",
                                    "last_name": "Quaggetto"
                                },
                                {
                                    "frequency of same last name": "173",
                                    "last_name": "Rusmann"
                                },
                                {
                                    "frequency of same last name": "173",
                                    "last_name": "Clemencon"
                                },
                                {
                                    "frequency of same last name": "173",
                                    "last_name": "Validov"
                                },
                                {
                                    "frequency of same last name": "173",
                                    "last_name": "Biros"
                                },
                                {
                                    "frequency of same last name": "173",
                                    "last_name": "Marchegay"
                                },
                                {
                                    "frequency of same last name": "173",
                                    "last_name": "Berstel"
                                },
                                {
                                    "frequency of same last name": "172",
                                    "last_name": "Rotem"
                                },
                                {
                                    "frequency of same last name": "172",
                                    "last_name": "Syrotiuk"
                                },
                                {
                                    "frequency of same last name": "172",
                                    "last_name": "Kalefeld"
                                },
                                {
                                    "frequency of same last name": "172",
                                    "last_name": "Portugali"
                                },
                                {
                                    "frequency of same last name": "172",
                                    "last_name": "Aingworth"
                                },
                                {
                                    "frequency of same last name": "172",
                                    "last_name": "Heydon"
                                },
                                {
                                    "frequency of same last name": "172",
                                    "last_name": "Bade"
                                },
                                {
                                    "frequency of same last name": "172",
                                    "last_name": "Beeson"
                                },
                                {
                                    "frequency of same last name": "172",
                                    "last_name": "Mersereau"
                                },
                                {
                                    "frequency of same last name": "172",
                                    "last_name": "Vieri"
                                },
                                {
                                    "frequency of same last name": "172",
                                    "last_name": "Heinisuo"
                                },
                                {
                                    "frequency of same last name": "172",
                                    "last_name": "Thombley"
                                },
                                {
                                    "frequency of same last name": "172",
                                    "last_name": "Muniz"
                                },
                                {
                                    "frequency of same last name": "172",
                                    "last_name": "Zaiane"
                                },
                                {
                                    "frequency of same last name": "172",
                                    "last_name": "Vrecion"
                                },
                                {
                                    "frequency of same last name": "172",
                                    "last_name": "Basart"
                                },
                                {
                                    "frequency of same last name": "172",
                                    "last_name": "Gide"
                                },
                                {
                                    "frequency of same last name": "172",
                                    "last_name": "Whittlesey"
                                },
                                {
                                    "frequency of same last name": "172",
                                    "last_name": "Nyrup"
                                },
                                {
                                    "frequency of same last name": "172",
                                    "last_name": "McAlpine"
                                },
                                {
                                    "frequency of same last name": "172",
                                    "last_name": "Tokunaga"
                                },
                                {
                                    "frequency of same last name": "172",
                                    "last_name": "Halevi"
                                },
                                {
                                    "frequency of same last name": "172",
                                    "last_name": "Morton"
                                },
                                {
                                    "frequency of same last name": "172",
                                    "last_name": "Glowinski"
                                },
                                {
                                    "frequency of same last name": "172",
                                    "last_name": "Ranka"
                                },
                                {
                                    "frequency of same last name": "172",
                                    "last_name": "Fandrianto"
                                },
                                {
                                    "frequency of same last name": "172",
                                    "last_name": "Thibadeau"
                                },
                                {
                                    "frequency of same last name": "172",
                                    "last_name": "Janetzko"
                                },
                                {
                                    "frequency of same last name": "172",
                                    "last_name": "Pell"
                                },
                                {
                                    "frequency of same last name": "172",
                                    "last_name": "Zielinski"
                                },
                                {
                                    "frequency of same last name": "172",
                                    "last_name": "Perz"
                                },
                                {
                                    "frequency of same last name": "172",
                                    "last_name": "Henseler"
                                },
                                {
                                    "frequency of same last name": "171",
                                    "last_name": "Nergos"
                                },
                                {
                                    "frequency of same last name": "171",
                                    "last_name": "Serot"
                                },
                                {
                                    "frequency of same last name": "171",
                                    "last_name": "Rande"
                                },
                                {
                                    "frequency of same last name": "171",
                                    "last_name": "Hutter"
                                },
                                {
                                    "frequency of same last name": "171",
                                    "last_name": "Androutsos"
                                },
                                {
                                    "frequency of same last name": "171",
                                    "last_name": "Litzler"
                                },
                                {
                                    "frequency of same last name": "171",
                                    "last_name": "Rabejac"
                                },
                                {
                                    "frequency of same last name": "171",
                                    "last_name": "Isaak"
                                },
                                {
                                    "frequency of same last name": "171",
                                    "last_name": "Plotkin"
                                },
                                {
                                    "frequency of same last name": "171",
                                    "last_name": "Roison"
                                },
                                {
                                    "frequency of same last name": "171",
                                    "last_name": "Castellani"
                                },
                                {
                                    "frequency of same last name": "171",
                                    "last_name": "Navazio"
                                },
                                {
                                    "frequency of same last name": "171",
                                    "last_name": "Pauthner"
                                },
                                {
                                    "frequency of same last name": "171",
                                    "last_name": "Frijda"
                                },
                                {
                                    "frequency of same last name": "171",
                                    "last_name": "Rullman"
                                },
                                {
                                    "frequency of same last name": "171",
                                    "last_name": "Kaiserswerth"
                                },
                                {
                                    "frequency of same last name": "171",
                                    "last_name": "Comyn"
                                },
                                {
                                    "frequency of same last name": "171",
                                    "last_name": "Kropf"
                                },
                                {
                                    "frequency of same last name": "171",
                                    "last_name": "Gubsky"
                                },
                                {
                                    "frequency of same last name": "171",
                                    "last_name": "Hashii"
                                },
                                {
                                    "frequency of same last name": "171",
                                    "last_name": "Kenevan"
                                },
                                {
                                    "frequency of same last name": "171",
                                    "last_name": "Lodder"
                                },
                                {
                                    "frequency of same last name": "171",
                                    "last_name": "Mungall"
                                },
                                {
                                    "frequency of same last name": "170",
                                    "last_name": "Hemaspaandra"
                                },
                                {
                                    "frequency of same last name": "170",
                                    "last_name": "Himler"
                                },
                                {
                                    "frequency of same last name": "170",
                                    "last_name": "Setiz"
                                },
                                {
                                    "frequency of same last name": "170",
                                    "last_name": "Sessa"
                                },
                                {
                                    "frequency of same last name": "170",
                                    "last_name": "Penn"
                                },
                                {
                                    "frequency of same last name": "170",
                                    "last_name": "Akiyama"
                                },
                                {
                                    "frequency of same last name": "170",
                                    "last_name": "Mateescu"
                                },
                                {
                                    "frequency of same last name": "170",
                                    "last_name": "Sanella"
                                },
                                {
                                    "frequency of same last name": "170",
                                    "last_name": "Kinley"
                                },
                                {
                                    "frequency of same last name": "170",
                                    "last_name": "Badache"
                                },
                                {
                                    "frequency of same last name": "170",
                                    "last_name": "Keirsey"
                                },
                                {
                                    "frequency of same last name": "170",
                                    "last_name": "Yetim"
                                },
                                {
                                    "frequency of same last name": "170",
                                    "last_name": "Shobatake"
                                },
                                {
                                    "frequency of same last name": "170",
                                    "last_name": "Alencar"
                                },
                                {
                                    "frequency of same last name": "170",
                                    "last_name": "Schrooten"
                                },
                                {
                                    "frequency of same last name": "170",
                                    "last_name": "Limongiello"
                                },
                                {
                                    "frequency of same last name": "170",
                                    "last_name": "Marletta"
                                },
                                {
                                    "frequency of same last name": "170",
                                    "last_name": "Polajnar"
                                },
                                {
                                    "frequency of same last name": "170",
                                    "last_name": "Fontet"
                                },
                                {
                                    "frequency of same last name": "170",
                                    "last_name": "Spell"
                                },
                                {
                                    "frequency of same last name": "170",
                                    "last_name": "Staelin"
                                },
                                {
                                    "frequency of same last name": "170",
                                    "last_name": "Verhoeff"
                                },
                                {
                                    "frequency of same last name": "170",
                                    "last_name": "Lund"
                                },
                                {
                                    "frequency of same last name": "170",
                                    "last_name": "Sluis"
                                },
                                {
                                    "frequency of same last name": "170",
                                    "last_name": "Farrel"
                                },
                                {
                                    "frequency of same last name": "170",
                                    "last_name": "Harnett"
                                },
                                {
                                    "frequency of same last name": "170",
                                    "last_name": "Falster"
                                },
                                {
                                    "frequency of same last name": "170",
                                    "last_name": "Piazza"
                                },
                                {
                                    "frequency of same last name": "169",
                                    "last_name": "Casperson"
                                },
                                {
                                    "frequency of same last name": "169",
                                    "last_name": "Rijsenbrij"
                                },
                                {
                                    "frequency of same last name": "169",
                                    "last_name": "Journel"
                                },
                                {
                                    "frequency of same last name": "169",
                                    "last_name": "Yavatkar"
                                },
                                {
                                    "frequency of same last name": "169",
                                    "last_name": "Yetto"
                                },
                                {
                                    "frequency of same last name": "169",
                                    "last_name": "Morris"
                                },
                                {
                                    "frequency of same last name": "169",
                                    "last_name": "Maginnis"
                                },
                                {
                                    "frequency of same last name": "169",
                                    "last_name": "Janocha"
                                },
                                {
                                    "frequency of same last name": "169",
                                    "last_name": "Thisen"
                                },
                                {
                                    "frequency of same last name": "169",
                                    "last_name": "Kolvik"
                                },
                                {
                                    "frequency of same last name": "169",
                                    "last_name": "Ebeling"
                                },
                                {
                                    "frequency of same last name": "169",
                                    "last_name": "Lueh"
                                },
                                {
                                    "frequency of same last name": "169",
                                    "last_name": "Yoshimura"
                                },
                                {
                                    "frequency of same last name": "169",
                                    "last_name": "Unni"
                                },
                                {
                                    "frequency of same last name": "169",
                                    "last_name": "Condotta"
                                },
                                {
                                    "frequency of same last name": "169",
                                    "last_name": "Glinert"
                                },
                                {
                                    "frequency of same last name": "169",
                                    "last_name": "Shackell"
                                },
                                {
                                    "frequency of same last name": "169",
                                    "last_name": "Wixon"
                                },
                                {
                                    "frequency of same last name": "169",
                                    "last_name": "Conry"
                                },
                                {
                                    "frequency of same last name": "169",
                                    "last_name": "Junot"
                                },
                                {
                                    "frequency of same last name": "169",
                                    "last_name": "Minakawa"
                                },
                                {
                                    "frequency of same last name": "169",
                                    "last_name": "Ferriere"
                                },
                                {
                                    "frequency of same last name": "169",
                                    "last_name": "Piancastelli"
                                },
                                {
                                    "frequency of same last name": "169",
                                    "last_name": "Badr"
                                },
                                {
                                    "frequency of same last name": "169",
                                    "last_name": "Maccarone"
                                },
                                {
                                    "frequency of same last name": "168",
                                    "last_name": "Kushnir"
                                },
                                {
                                    "frequency of same last name": "168",
                                    "last_name": "Arlazarov"
                                },
                                {
                                    "frequency of same last name": "168",
                                    "last_name": "Lakshmanan"
                                },
                                {
                                    "frequency of same last name": "168",
                                    "last_name": "Gyorkos"
                                },
                                {
                                    "frequency of same last name": "168",
                                    "last_name": "Wallrath"
                                },
                                {
                                    "frequency of same last name": "168",
                                    "last_name": "Qiwen"
                                },
                                {
                                    "frequency of same last name": "168",
                                    "last_name": "Theuretzbacher"
                                },
                                {
                                    "frequency of same last name": "168",
                                    "last_name": "Grabner"
                                },
                                {
                                    "frequency of same last name": "168",
                                    "last_name": "Emmerich"
                                },
                                {
                                    "frequency of same last name": "168",
                                    "last_name": "Montresor"
                                },
                                {
                                    "frequency of same last name": "168",
                                    "last_name": "Butterworth"
                                },
                                {
                                    "frequency of same last name": "168",
                                    "last_name": "Yamaashi"
                                },
                                {
                                    "frequency of same last name": "168",
                                    "last_name": "Lampe"
                                },
                                {
                                    "frequency of same last name": "168",
                                    "last_name": "Gladwell"
                                },
                                {
                                    "frequency of same last name": "168",
                                    "last_name": "Bauknecht"
                                },
                                {
                                    "frequency of same last name": "168",
                                    "last_name": "Sevcikova"
                                },
                                {
                                    "frequency of same last name": "168",
                                    "last_name": "Gniady"
                                },
                                {
                                    "frequency of same last name": "168",
                                    "last_name": "Jeong"
                                },
                                {
                                    "frequency of same last name": "168",
                                    "last_name": "Puoti"
                                },
                                {
                                    "frequency of same last name": "168",
                                    "last_name": "Streit"
                                },
                                {
                                    "frequency of same last name": "168",
                                    "last_name": "Perko"
                                },
                                {
                                    "frequency of same last name": "168",
                                    "last_name": "Pargaonkar"
                                },
                                {
                                    "frequency of same last name": "167",
                                    "last_name": "Nations"
                                },
                                {
                                    "frequency of same last name": "167",
                                    "last_name": "Murthy"
                                },
                                {
                                    "frequency of same last name": "167",
                                    "last_name": "Lung"
                                },
                                {
                                    "frequency of same last name": "167",
                                    "last_name": "Benaini"
                                },
                                {
                                    "frequency of same last name": "167",
                                    "last_name": "Fritzsche"
                                },
                                {
                                    "frequency of same last name": "167",
                                    "last_name": "Wiegley"
                                },
                                {
                                    "frequency of same last name": "167",
                                    "last_name": "Thambidurai"
                                },
                                {
                                    "frequency of same last name": "167",
                                    "last_name": "Burnard"
                                },
                                {
                                    "frequency of same last name": "167",
                                    "last_name": "Schueller"
                                },
                                {
                                    "frequency of same last name": "167",
                                    "last_name": "Nicolson"
                                },
                                {
                                    "frequency of same last name": "167",
                                    "last_name": "Oaver"
                                },
                                {
                                    "frequency of same last name": "167",
                                    "last_name": "Cromarty"
                                },
                                {
                                    "frequency of same last name": "167",
                                    "last_name": "Serdy"
                                },
                                {
                                    "frequency of same last name": "167",
                                    "last_name": "Gips"
                                },
                                {
                                    "frequency of same last name": "167",
                                    "last_name": "Collavizza"
                                },
                                {
                                    "frequency of same last name": "167",
                                    "last_name": "Brizzi"
                                },
                                {
                                    "frequency of same last name": "167",
                                    "last_name": "Pesch"
                                },
                                {
                                    "frequency of same last name": "167",
                                    "last_name": "Simmel"
                                },
                                {
                                    "frequency of same last name": "167",
                                    "last_name": "Wuwongse"
                                },
                                {
                                    "frequency of same last name": "167",
                                    "last_name": "Ramsak"
                                },
                                {
                                    "frequency of same last name": "167",
                                    "last_name": "Socorro"
                                },
                                {
                                    "frequency of same last name": "167",
                                    "last_name": "Gire"
                                },
                                {
                                    "frequency of same last name": "166",
                                    "last_name": "Swiler"
                                },
                                {
                                    "frequency of same last name": "166",
                                    "last_name": "Pezzoli"
                                },
                                {
                                    "frequency of same last name": "166",
                                    "last_name": "Coullard"
                                },
                                {
                                    "frequency of same last name": "166",
                                    "last_name": "Erev"
                                },
                                {
                                    "frequency of same last name": "166",
                                    "last_name": "Luiz"
                                },
                                {
                                    "frequency of same last name": "166",
                                    "last_name": "Farrow"
                                },
                                {
                                    "frequency of same last name": "166",
                                    "last_name": "McFarlan"
                                },
                                {
                                    "frequency of same last name": "166",
                                    "last_name": "Rattan"
                                },
                                {
                                    "frequency of same last name": "166",
                                    "last_name": "Marwedel"
                                },
                                {
                                    "frequency of same last name": "166",
                                    "last_name": "Erman"
                                },
                                {
                                    "frequency of same last name": "166",
                                    "last_name": "Murrill"
                                },
                                {
                                    "frequency of same last name": "166",
                                    "last_name": "Cusworth"
                                },
                                {
                                    "frequency of same last name": "166",
                                    "last_name": "Perelgut"
                                },
                                {
                                    "frequency of same last name": "166",
                                    "last_name": "Stranks"
                                },
                                {
                                    "frequency of same last name": "166",
                                    "last_name": "Demeyer"
                                },
                                {
                                    "frequency of same last name": "166",
                                    "last_name": "dAstous"
                                },
                                {
                                    "frequency of same last name": "166",
                                    "last_name": "Narahari"
                                },
                                {
                                    "frequency of same last name": "166",
                                    "last_name": "Marsiglia"
                                },
                                {
                                    "frequency of same last name": "166",
                                    "last_name": "Babb"
                                },
                                {
                                    "frequency of same last name": "166",
                                    "last_name": "Pileggi"
                                },
                                {
                                    "frequency of same last name": "166",
                                    "last_name": "Kandlur"
                                },
                                {
                                    "frequency of same last name": "166",
                                    "last_name": "Teitelbaum"
                                },
                                {
                                    "frequency of same last name": "166",
                                    "last_name": "Azevdeo"
                                },
                                {
                                    "frequency of same last name": "165",
                                    "last_name": "Suwa"
                                },
                                {
                                    "frequency of same last name": "165",
                                    "last_name": "Homond"
                                },
                                {
                                    "frequency of same last name": "165",
                                    "last_name": "Lambe"
                                },
                                {
                                    "frequency of same last name": "165",
                                    "last_name": "Blokdijk"
                                },
                                {
                                    "frequency of same last name": "165",
                                    "last_name": "Gischer"
                                },
                                {
                                    "frequency of same last name": "165",
                                    "last_name": "Barinka"
                                },
                                {
                                    "frequency of same last name": "165",
                                    "last_name": "Brookman"
                                },
                                {
                                    "frequency of same last name": "165",
                                    "last_name": "Andreotta"
                                },
                                {
                                    "frequency of same last name": "165",
                                    "last_name": "Perin"
                                },
                                {
                                    "frequency of same last name": "165",
                                    "last_name": "Ritzmann"
                                },
                                {
                                    "frequency of same last name": "165",
                                    "last_name": "Hempstead"
                                },
                                {
                                    "frequency of same last name": "165",
                                    "last_name": "Denis"
                                },
                                {
                                    "frequency of same last name": "165",
                                    "last_name": "Zschoche"
                                },
                                {
                                    "frequency of same last name": "165",
                                    "last_name": "Cichocki"
                                },
                                {
                                    "frequency of same last name": "165",
                                    "last_name": "Benzaken"
                                },
                                {
                                    "frequency of same last name": "165",
                                    "last_name": "Delaune"
                                },
                                {
                                    "frequency of same last name": "165",
                                    "last_name": "Stille"
                                },
                                {
                                    "frequency of same last name": "165",
                                    "last_name": "Eppinger"
                                },
                                {
                                    "frequency of same last name": "165",
                                    "last_name": "Jiafu"
                                },
                                {
                                    "frequency of same last name": "165",
                                    "last_name": "Plumb"
                                },
                                {
                                    "frequency of same last name": "165",
                                    "last_name": "Schnelling"
                                },
                                {
                                    "frequency of same last name": "165",
                                    "last_name": "Greenaway"
                                },
                                {
                                    "frequency of same last name": "165",
                                    "last_name": "Bugaenko"
                                },
                                {
                                    "frequency of same last name": "165",
                                    "last_name": "Pillow"
                                },
                                {
                                    "frequency of same last name": "165",
                                    "last_name": "Marciano"
                                },
                                {
                                    "frequency of same last name": "165",
                                    "last_name": "Pappas"
                                },
                                {
                                    "frequency of same last name": "164",
                                    "last_name": "Aloisi"
                                },
                                {
                                    "frequency of same last name": "164",
                                    "last_name": "Gulla"
                                },
                                {
                                    "frequency of same last name": "164",
                                    "last_name": "Pero"
                                },
                                {
                                    "frequency of same last name": "164",
                                    "last_name": "Esteva"
                                },
                                {
                                    "frequency of same last name": "164",
                                    "last_name": "Moehrke"
                                },
                                {
                                    "frequency of same last name": "164",
                                    "last_name": "Hagimont"
                                },
                                {
                                    "frequency of same last name": "164",
                                    "last_name": "Soloway"
                                },
                                {
                                    "frequency of same last name": "164",
                                    "last_name": "Ginesta"
                                },
                                {
                                    "frequency of same last name": "164",
                                    "last_name": "Porotnikoff"
                                },
                                {
                                    "frequency of same last name": "164",
                                    "last_name": "Bresenham"
                                },
                                {
                                    "frequency of same last name": "164",
                                    "last_name": "Veccia"
                                },
                                {
                                    "frequency of same last name": "164",
                                    "last_name": "Wilharm"
                                },
                                {
                                    "frequency of same last name": "164",
                                    "last_name": "Hegner"
                                },
                                {
                                    "frequency of same last name": "164",
                                    "last_name": "Luks"
                                },
                                {
                                    "frequency of same last name": "164",
                                    "last_name": "Reeker"
                                },
                                {
                                    "frequency of same last name": "164",
                                    "last_name": "Sury"
                                },
                                {
                                    "frequency of same last name": "164",
                                    "last_name": "Macedo"
                                },
                                {
                                    "frequency of same last name": "163",
                                    "last_name": "Zhang"
                                },
                                {
                                    "frequency of same last name": "163",
                                    "last_name": "Skogmar"
                                },
                                {
                                    "frequency of same last name": "163",
                                    "last_name": "Waleschkowski"
                                },
                                {
                                    "frequency of same last name": "163",
                                    "last_name": "Niizuma"
                                },
                                {
                                    "frequency of same last name": "163",
                                    "last_name": "Kroha"
                                },
                                {
                                    "frequency of same last name": "163",
                                    "last_name": "Luef"
                                },
                                {
                                    "frequency of same last name": "163",
                                    "last_name": "Usdin"
                                },
                                {
                                    "frequency of same last name": "163",
                                    "last_name": "Karlin"
                                },
                                {
                                    "frequency of same last name": "163",
                                    "last_name": "Kading"
                                },
                                {
                                    "frequency of same last name": "163",
                                    "last_name": "Zedlitz"
                                },
                                {
                                    "frequency of same last name": "163",
                                    "last_name": "Georgakopoulos"
                                },
                                {
                                    "frequency of same last name": "163",
                                    "last_name": "Matzel"
                                },
                                {
                                    "frequency of same last name": "163",
                                    "last_name": "Velardi"
                                },
                                {
                                    "frequency of same last name": "163",
                                    "last_name": "Kadhim"
                                },
                                {
                                    "frequency of same last name": "163",
                                    "last_name": "Pluym"
                                },
                                {
                                    "frequency of same last name": "163",
                                    "last_name": "Kragelund"
                                },
                                {
                                    "frequency of same last name": "163",
                                    "last_name": "Bierbaum"
                                },
                                {
                                    "frequency of same last name": "163",
                                    "last_name": "Slaats"
                                },
                                {
                                    "frequency of same last name": "163",
                                    "last_name": "Guerreiro"
                                },
                                {
                                    "frequency of same last name": "163",
                                    "last_name": "Leijenhorst"
                                },
                                {
                                    "frequency of same last name": "163",
                                    "last_name": "Oehlmann"
                                },
                                {
                                    "frequency of same last name": "163",
                                    "last_name": "Sidje"
                                },
                                {
                                    "frequency of same last name": "163",
                                    "last_name": "Copas"
                                },
                                {
                                    "frequency of same last name": "163",
                                    "last_name": "Dayana"
                                },
                                {
                                    "frequency of same last name": "162",
                                    "last_name": "Baig"
                                },
                                {
                                    "frequency of same last name": "162",
                                    "last_name": "Mundy"
                                },
                                {
                                    "frequency of same last name": "162",
                                    "last_name": "Couchot"
                                },
                                {
                                    "frequency of same last name": "162",
                                    "last_name": "Merle"
                                },
                                {
                                    "frequency of same last name": "162",
                                    "last_name": "Rehfuss"
                                },
                                {
                                    "frequency of same last name": "162",
                                    "last_name": "Baaleh"
                                },
                                {
                                    "frequency of same last name": "162",
                                    "last_name": "Stemann"
                                },
                                {
                                    "frequency of same last name": "162",
                                    "last_name": "Bisiani"
                                },
                                {
                                    "frequency of same last name": "162",
                                    "last_name": "Mamelak"
                                },
                                {
                                    "frequency of same last name": "162",
                                    "last_name": "Nittel"
                                },
                                {
                                    "frequency of same last name": "162",
                                    "last_name": "Baik"
                                },
                                {
                                    "frequency of same last name": "162",
                                    "last_name": "Nivat"
                                },
                                {
                                    "frequency of same last name": "162",
                                    "last_name": "VanScheik"
                                },
                                {
                                    "frequency of same last name": "162",
                                    "last_name": "Zobel"
                                },
                                {
                                    "frequency of same last name": "162",
                                    "last_name": "Dalton"
                                },
                                {
                                    "frequency of same last name": "161",
                                    "last_name": "Standera"
                                },
                                {
                                    "frequency of same last name": "161",
                                    "last_name": "Aumann"
                                },
                                {
                                    "frequency of same last name": "161",
                                    "last_name": "Litzkow"
                                },
                                {
                                    "frequency of same last name": "161",
                                    "last_name": "Breugel"
                                },
                                {
                                    "frequency of same last name": "161",
                                    "last_name": "Tempesti"
                                },
                                {
                                    "frequency of same last name": "161",
                                    "last_name": "Slutz"
                                },
                                {
                                    "frequency of same last name": "161",
                                    "last_name": "Erni"
                                },
                                {
                                    "frequency of same last name": "161",
                                    "last_name": "Lorie"
                                },
                                {
                                    "frequency of same last name": "161",
                                    "last_name": "Kopetz"
                                },
                                {
                                    "frequency of same last name": "161",
                                    "last_name": "Levergood"
                                },
                                {
                                    "frequency of same last name": "161",
                                    "last_name": "Swab"
                                },
                                {
                                    "frequency of same last name": "161",
                                    "last_name": "Anguita"
                                },
                                {
                                    "frequency of same last name": "160",
                                    "last_name": "Schnabel"
                                },
                                {
                                    "frequency of same last name": "160",
                                    "last_name": "Pellegrinelli"
                                },
                                {
                                    "frequency of same last name": "160",
                                    "last_name": "Schmezko"
                                },
                                {
                                    "frequency of same last name": "160",
                                    "last_name": "Zastre"
                                },
                                {
                                    "frequency of same last name": "160",
                                    "last_name": "Bharadwaj"
                                },
                                {
                                    "frequency of same last name": "160",
                                    "last_name": "Heijenga"
                                },
                                {
                                    "frequency of same last name": "160",
                                    "last_name": "Munro"
                                },
                                {
                                    "frequency of same last name": "160",
                                    "last_name": "Wielonsky"
                                },
                                {
                                    "frequency of same last name": "160",
                                    "last_name": "Tibblin"
                                },
                                {
                                    "frequency of same last name": "160",
                                    "last_name": "Lyonns"
                                },
                                {
                                    "frequency of same last name": "160",
                                    "last_name": "Ramras"
                                },
                                {
                                    "frequency of same last name": "160",
                                    "last_name": "Marzano"
                                },
                                {
                                    "frequency of same last name": "160",
                                    "last_name": "Baranowski"
                                },
                                {
                                    "frequency of same last name": "160",
                                    "last_name": "Kroon"
                                },
                                {
                                    "frequency of same last name": "160",
                                    "last_name": "Calkin"
                                },
                                {
                                    "frequency of same last name": "160",
                                    "last_name": "Nilsson"
                                },
                                {
                                    "frequency of same last name": "160",
                                    "last_name": "Jansch"
                                },
                                {
                                    "frequency of same last name": "160",
                                    "last_name": "Ananiadou"
                                },
                                {
                                    "frequency of same last name": "160",
                                    "last_name": "Raoux"
                                },
                                {
                                    "frequency of same last name": "159",
                                    "last_name": "Vadhan"
                                },
                                {
                                    "frequency of same last name": "159",
                                    "last_name": "Hmelo"
                                },
                                {
                                    "frequency of same last name": "159",
                                    "last_name": "Mitsuhashi"
                                },
                                {
                                    "frequency of same last name": "159",
                                    "last_name": "Miculan"
                                },
                                {
                                    "frequency of same last name": "159",
                                    "last_name": "Ramalingam"
                                },
                                {
                                    "frequency of same last name": "159",
                                    "last_name": "Stiles"
                                },
                                {
                                    "frequency of same last name": "159",
                                    "last_name": "Nitto"
                                },
                                {
                                    "frequency of same last name": "159",
                                    "last_name": "Schrift"
                                },
                                {
                                    "frequency of same last name": "159",
                                    "last_name": "Pearson"
                                },
                                {
                                    "frequency of same last name": "158",
                                    "last_name": "Krider"
                                },
                                {
                                    "frequency of same last name": "158",
                                    "last_name": "Benner"
                                },
                                {
                                    "frequency of same last name": "158",
                                    "last_name": "Giarratana"
                                },
                                {
                                    "frequency of same last name": "158",
                                    "last_name": "Carrera"
                                },
                                {
                                    "frequency of same last name": "158",
                                    "last_name": "Koprowski"
                                },
                                {
                                    "frequency of same last name": "158",
                                    "last_name": "Lemarechal"
                                },
                                {
                                    "frequency of same last name": "158",
                                    "last_name": "Hennebert"
                                },
                                {
                                    "frequency of same last name": "157",
                                    "last_name": "Leppanen"
                                },
                                {
                                    "frequency of same last name": "157",
                                    "last_name": "Seiwald"
                                },
                                {
                                    "frequency of same last name": "156",
                                    "last_name": "Vieth"
                                },
                                {
                                    "frequency of same last name": "156",
                                    "last_name": "Erva"
                                },
                                {
                                    "frequency of same last name": "156",
                                    "last_name": "Ritcey"
                                },
                                {
                                    "frequency of same last name": "156",
                                    "last_name": "Serov"
                                },
                                {
                                    "frequency of same last name": "156",
                                    "last_name": "Mandelberg"
                                },
                                {
                                    "frequency of same last name": "156",
                                    "last_name": "Terwilliger"
                                },
                                {
                                    "frequency of same last name": "156",
                                    "last_name": "Polupanov"
                                },
                                {
                                    "frequency of same last name": "156",
                                    "last_name": "Ozery"
                                },
                                {
                                    "frequency of same last name": "156",
                                    "last_name": "Dechter"
                                },
                                {
                                    "frequency of same last name": "156",
                                    "last_name": "Bernardinello"
                                },
                                {
                                    "frequency of same last name": "155",
                                    "last_name": "Ravishankar"
                                },
                                {
                                    "frequency of same last name": "155",
                                    "last_name": "Hopewell"
                                },
                                {
                                    "frequency of same last name": "155",
                                    "last_name": "Rosti"
                                },
                                {
                                    "frequency of same last name": "155",
                                    "last_name": "Suessmith"
                                },
                                {
                                    "frequency of same last name": "155",
                                    "last_name": "Baumann"
                                },
                                {
                                    "frequency of same last name": "155",
                                    "last_name": "Axelband"
                                },
                                {
                                    "frequency of same last name": "153",
                                    "last_name": "Ranst"
                                },
                                {
                                    "frequency of same last name": "153",
                                    "last_name": "Kabayashi"
                                },
                                {
                                    "frequency of same last name": "153",
                                    "last_name": "Shigei"
                                },
                                {
                                    "frequency of same last name": "153",
                                    "last_name": "Prampolini"
                                },
                                {
                                    "frequency of same last name": "152",
                                    "last_name": "Sabnani"
                                },
                                {
                                    "frequency of same last name": "152",
                                    "last_name": "Thorelli"
                                },
                                {
                                    "frequency of same last name": "152",
                                    "last_name": "Genin"
                                },
                                {
                                    "frequency of same last name": "151",
                                    "last_name": "Dulli"
                                },
                                {
                                    "frequency of same last name": "151",
                                    "last_name": "Zambonelli"
                                },
                                {
                                    "frequency of same last name": "151",
                                    "last_name": "Nollmann"
                                },
                                {
                                    "frequency of same last name": "151",
                                    "last_name": "Gonthier"
                                },
                                {
                                    "frequency of same last name": "151",
                                    "last_name": "Schwartzbauer"
                                },
                                {
                                    "frequency of same last name": "151",
                                    "last_name": "Provine"
                                },
                                {
                                    "frequency of same last name": "150",
                                    "last_name": "Rosar"
                                },
                                {
                                    "frequency of same last name": "148",
                                    "last_name": "Zykh"
                                },
                                {
                                    "frequency of same last name": "148",
                                    "last_name": "Georgatos"
                                },
                                {
                                    "frequency of same last name": "148",
                                    "last_name": "Guardalben"
                                },
                                {
                                    "frequency of same last name": "147",
                                    "last_name": "Merro"
                                },
                                {
                                    "frequency of same last name": "145",
                                    "last_name": "Sadowsky"
                                },
                                {
                                    "frequency of same last name": "1",
                                    "last_name": "Foolsday"
                                }
                            ],
                            "schema": {
                                "fields": [
                                    {
                                        "name": "last_name"
                                    },
                                    {
                                        "name": "frequency of same last name"
                                    }
                                ]
                            }
                        },
                        "text/html": "<table><tr><th>last_name</th><th>frequency of same last name</th></tr><tr><td>Baba</td><td>226</td></tr><tr><td>Gelosh</td><td>223</td></tr><tr><td>Coorg</td><td>223</td></tr><tr><td>Farris</td><td>222</td></tr><tr><td>Sudbeck</td><td>222</td></tr><tr><td>Adachi</td><td>221</td></tr><tr><td>Osgood</td><td>220</td></tr><tr><td>Neiman</td><td>218</td></tr><tr><td>Masada</td><td>218</td></tr><tr><td>Mandell</td><td>218</td></tr><tr><td>Wendorf</td><td>217</td></tr><tr><td>Boudaillier</td><td>217</td></tr><tr><td>Solares</td><td>216</td></tr><tr><td>Pettis</td><td>216</td></tr><tr><td>Mahnke</td><td>216</td></tr><tr><td>Cummings</td><td>216</td></tr><tr><td>Maksimenko</td><td>215</td></tr><tr><td>Kulisch</td><td>215</td></tr><tr><td>Birjandi</td><td>215</td></tr><tr><td>Emmart</td><td>215</td></tr><tr><td>Collette</td><td>215</td></tr><tr><td>Pokrovskii</td><td>214</td></tr><tr><td>Scallan</td><td>214</td></tr><tr><td>Boguraev</td><td>214</td></tr><tr><td>Rosaz</td><td>214</td></tr><tr><td>Wolniewicz</td><td>213</td></tr><tr><td>Siksek</td><td>213</td></tr><tr><td>Morrey</td><td>213</td></tr><tr><td>Stifter</td><td>213</td></tr><tr><td>Swen</td><td>212</td></tr><tr><td>Rajcani</td><td>212</td></tr><tr><td>Garrabrants</td><td>212</td></tr><tr><td>Herber</td><td>212</td></tr><tr><td>Peek</td><td>212</td></tr><tr><td>Siepmann</td><td>212</td></tr><tr><td>Rabehasaina</td><td>212</td></tr><tr><td>Pramanik</td><td>212</td></tr><tr><td>Taubman</td><td>212</td></tr><tr><td>Gente</td><td>211</td></tr><tr><td>Kitsuregawa</td><td>211</td></tr><tr><td>Ventosa</td><td>211</td></tr><tr><td>Ghemri</td><td>211</td></tr><tr><td>Barriga</td><td>211</td></tr><tr><td>Kamber</td><td>211</td></tr><tr><td>Cangellaris</td><td>211</td></tr><tr><td>Asser</td><td>211</td></tr><tr><td>Redmiles</td><td>210</td></tr><tr><td>Bolsens</td><td>210</td></tr><tr><td>Schaaf</td><td>210</td></tr><tr><td>Luce</td><td>210</td></tr><tr><td>Driscoll</td><td>210</td></tr><tr><td>Zuberek</td><td>209</td></tr><tr><td>Khasidashvili</td><td>209</td></tr><tr><td>Serra</td><td>209</td></tr><tr><td>Gerlach</td><td>209</td></tr><tr><td>Malabarba</td><td>209</td></tr><tr><td>Chenney</td><td>209</td></tr><tr><td>Gewali</td><td>209</td></tr><tr><td>Flowers</td><td>209</td></tr><tr><td>Lamparter</td><td>209</td></tr><tr><td>Lunt</td><td>209</td></tr><tr><td>Gecsei</td><td>208</td></tr><tr><td>Aloia</td><td>208</td></tr><tr><td>Jenevein</td><td>208</td></tr><tr><td>Cesareni</td><td>208</td></tr><tr><td>Lowrie</td><td>208</td></tr><tr><td>Panienski</td><td>208</td></tr><tr><td>Akazan</td><td>207</td></tr><tr><td>Garnier</td><td>207</td></tr><tr><td>Angelopoulos</td><td>207</td></tr><tr><td>Lamba</td><td>207</td></tr><tr><td>Duclos</td><td>206</td></tr><tr><td>Foote</td><td>206</td></tr><tr><td>Perng</td><td>206</td></tr><tr><td>Gaughan</td><td>206</td></tr><tr><td>Braunmuhl</td><td>206</td></tr><tr><td>Hebert</td><td>206</td></tr><tr><td>Chimia</td><td>206</td></tr><tr><td>Bondorf</td><td>206</td></tr><tr><td>Siprelle</td><td>205</td></tr><tr><td>Garnham</td><td>205</td></tr><tr><td>Emden</td><td>205</td></tr><tr><td>Ecklund</td><td>205</td></tr><tr><td>DeMori</td><td>205</td></tr><tr><td>Bennet</td><td>205</td></tr><tr><td>Aamodt</td><td>205</td></tr><tr><td>Shimshoni</td><td>205</td></tr><tr><td>Ponthieu</td><td>205</td></tr><tr><td>Encarnacion</td><td>205</td></tr><tr><td>Matzov</td><td>205</td></tr><tr><td>Lanphier</td><td>205</td></tr><tr><td>Geffroy</td><td>205</td></tr><tr><td>Onuegbe</td><td>205</td></tr><tr><td>Panangaden</td><td>205</td></tr><tr><td>Marakhovsky</td><td>205</td></tr><tr><td>Swick</td><td>204</td></tr><tr><td>Coors</td><td>204</td></tr><tr><td>Riexinger</td><td>204</td></tr><tr><td>Luders</td><td>204</td></tr><tr><td>Shiratori</td><td>204</td></tr><tr><td>Linares</td><td>204</td></tr><tr><td>Argence</td><td>204</td></tr><tr><td>Shrader</td><td>204</td></tr><tr><td>Alpin</td><td>204</td></tr><tr><td>Desikan</td><td>204</td></tr><tr><td>Legleitner</td><td>204</td></tr><tr><td>Whitcomb</td><td>204</td></tr><tr><td>Malinowski</td><td>204</td></tr><tr><td>Herbst</td><td>203</td></tr><tr><td>Champarnaud</td><td>203</td></tr><tr><td>Feinberg</td><td>203</td></tr><tr><td>Ishibashi</td><td>203</td></tr><tr><td>Doering</td><td>203</td></tr><tr><td>Tramer</td><td>203</td></tr><tr><td>Lorho</td><td>203</td></tr><tr><td>Kirkerud</td><td>203</td></tr><tr><td>Penttonen</td><td>203</td></tr><tr><td>Conta</td><td>203</td></tr><tr><td>Ramsay</td><td>203</td></tr><tr><td>Tetzlaff</td><td>203</td></tr><tr><td>Ghandeharizadeh</td><td>203</td></tr><tr><td>Lubachevsky</td><td>202</td></tr><tr><td>Soicher</td><td>202</td></tr><tr><td>Kilgour</td><td>202</td></tr><tr><td>Schapire</td><td>202</td></tr><tr><td>Karnin</td><td>202</td></tr><tr><td>Thummel</td><td>202</td></tr><tr><td>Yurek</td><td>202</td></tr><tr><td>Schlegelmilch</td><td>202</td></tr><tr><td>Biran</td><td>202</td></tr><tr><td>Pews</td><td>202</td></tr><tr><td>Kornyak</td><td>202</td></tr><tr><td>Gihr</td><td>202</td></tr><tr><td>Krybus</td><td>201</td></tr><tr><td>Kalorkoti</td><td>201</td></tr><tr><td>Bahl</td><td>201</td></tr><tr><td>Perez</td><td>201</td></tr><tr><td>Kavanagh</td><td>201</td></tr><tr><td>Bernardeschi</td><td>201</td></tr><tr><td>McConalogue</td><td>201</td></tr><tr><td>Taneja</td><td>201</td></tr><tr><td>Albarhamtoshy</td><td>201</td></tr><tr><td>Wynblatt</td><td>201</td></tr><tr><td>Rouquie</td><td>201</td></tr><tr><td>Schusler</td><td>201</td></tr><tr><td>Pelc</td><td>201</td></tr><tr><td>Morrow</td><td>201</td></tr><tr><td>Mukaidono</td><td>201</td></tr><tr><td>Clouatre</td><td>201</td></tr><tr><td>Rusterholz</td><td>201</td></tr><tr><td>Erdi</td><td>201</td></tr><tr><td>Genther</td><td>201</td></tr><tr><td>Brodie</td><td>201</td></tr><tr><td>Stanfel</td><td>201</td></tr><tr><td>Cooke</td><td>201</td></tr><tr><td>Pocchiola</td><td>200</td></tr><tr><td>Lindenbaum</td><td>200</td></tr><tr><td>Hiroyama</td><td>200</td></tr><tr><td>Pfau</td><td>200</td></tr><tr><td>McClurg</td><td>200</td></tr><tr><td>Heystek</td><td>200</td></tr><tr><td>Taubenfeld</td><td>200</td></tr><tr><td>Domenig</td><td>200</td></tr><tr><td>Norsworthy</td><td>200</td></tr><tr><td>Radivojevic</td><td>200</td></tr><tr><td>Hoppenstand</td><td>200</td></tr><tr><td>Kaelbling</td><td>200</td></tr><tr><td>Iwayama</td><td>200</td></tr><tr><td>Dredge</td><td>200</td></tr><tr><td>Nannarelli</td><td>200</td></tr><tr><td>Rosch</td><td>200</td></tr><tr><td>Hammerschmidt</td><td>200</td></tr><tr><td>Otillio</td><td>200</td></tr><tr><td>Maraist</td><td>200</td></tr><tr><td>Mitzlaff</td><td>200</td></tr><tr><td>Gimbel</td><td>200</td></tr><tr><td>Speek</td><td>200</td></tr><tr><td>Auyong</td><td>200</td></tr><tr><td>Beetstra</td><td>200</td></tr><tr><td>Fargier</td><td>200</td></tr><tr><td>Snedden</td><td>200</td></tr><tr><td>Gulik</td><td>200</td></tr><tr><td>Schreiter</td><td>200</td></tr><tr><td>Imataki</td><td>200</td></tr><tr><td>Shumilov</td><td>200</td></tr><tr><td>Lamma</td><td>200</td></tr><tr><td>Itzigehl</td><td>200</td></tr><tr><td>Bugrara</td><td>200</td></tr><tr><td>Sgarro</td><td>200</td></tr><tr><td>Muchinsky</td><td>199</td></tr><tr><td>Michaels</td><td>199</td></tr><tr><td>Skafidas</td><td>199</td></tr><tr><td>Hitomi</td><td>199</td></tr><tr><td>Curless</td><td>199</td></tr><tr><td>Zaumen</td><td>199</td></tr><tr><td>Merks</td><td>199</td></tr><tr><td>Warwick</td><td>199</td></tr><tr><td>Sridhar</td><td>199</td></tr><tr><td>Speckmann</td><td>199</td></tr><tr><td>Neimat</td><td>199</td></tr><tr><td>Brookner</td><td>199</td></tr><tr><td>Munawer</td><td>199</td></tr><tr><td>Mawatari</td><td>199</td></tr><tr><td>Slobodova</td><td>199</td></tr><tr><td>Tiemann</td><td>199</td></tr><tr><td>Akaboshi</td><td>199</td></tr><tr><td>Rassart</td><td>199</td></tr><tr><td>Servieres</td><td>199</td></tr><tr><td>Hofman</td><td>199</td></tr><tr><td>Hettesheimer</td><td>199</td></tr><tr><td>Maierhofer</td><td>199</td></tr><tr><td>Gammage</td><td>199</td></tr><tr><td>Kawashima</td><td>199</td></tr><tr><td>Karner</td><td>199</td></tr><tr><td>Fortenbacher</td><td>199</td></tr><tr><td>Matzen</td><td>198</td></tr><tr><td>Zallocco</td><td>198</td></tr><tr><td>Parveen</td><td>198</td></tr><tr><td>Khamsi</td><td>198</td></tr><tr><td>Chinin</td><td>198</td></tr><tr><td>Schiper</td><td>198</td></tr><tr><td>Picco</td><td>198</td></tr><tr><td>Bednarek</td><td>198</td></tr><tr><td>McFarlin</td><td>198</td></tr><tr><td>Bhattacharjee</td><td>198</td></tr><tr><td>Stanger</td><td>198</td></tr><tr><td>Ghazalie</td><td>198</td></tr><tr><td>Landherr</td><td>198</td></tr><tr><td>Pashtan</td><td>198</td></tr><tr><td>Vigier</td><td>198</td></tr><tr><td>Vernadat</td><td>198</td></tr><tr><td>Poupard</td><td>198</td></tr><tr><td>Lalonde</td><td>198</td></tr><tr><td>Katiyar</td><td>198</td></tr><tr><td>Piveteau</td><td>198</td></tr><tr><td>Hiyoshi</td><td>198</td></tr><tr><td>Luca</td><td>197</td></tr><tr><td>Suomi</td><td>197</td></tr><tr><td>Baby</td><td>197</td></tr><tr><td>Antonakopoulos</td><td>197</td></tr><tr><td>Erdmenger</td><td>197</td></tr><tr><td>Weisert</td><td>197</td></tr><tr><td>Rajaraman</td><td>197</td></tr><tr><td>Granlund</td><td>197</td></tr><tr><td>Spelt</td><td>197</td></tr><tr><td>Szilard</td><td>197</td></tr><tr><td>Srimani</td><td>197</td></tr><tr><td>Gornas</td><td>197</td></tr><tr><td>Nishimukai</td><td>197</td></tr><tr><td>Ohori</td><td>197</td></tr><tr><td>Miara</td><td>197</td></tr><tr><td>Deville</td><td>197</td></tr><tr><td>Avouris</td><td>197</td></tr><tr><td>Boyle</td><td>197</td></tr><tr><td>Mikschl</td><td>197</td></tr><tr><td>Jiang</td><td>197</td></tr><tr><td>Karcich</td><td>197</td></tr><tr><td>Pelz</td><td>197</td></tr><tr><td>Ranta</td><td>197</td></tr><tr><td>Braccini</td><td>197</td></tr><tr><td>Merel</td><td>197</td></tr><tr><td>Guting</td><td>197</td></tr><tr><td>Jonsson</td><td>197</td></tr><tr><td>Kampfer</td><td>197</td></tr><tr><td>Ciolek</td><td>197</td></tr><tr><td>Ranum</td><td>197</td></tr><tr><td>Schmiedel</td><td>197</td></tr><tr><td>Viele</td><td>197</td></tr><tr><td>Oppitz</td><td>197</td></tr><tr><td>Weedman</td><td>197</td></tr><tr><td>Rosenbaum</td><td>196</td></tr><tr><td>Borstler</td><td>196</td></tr><tr><td>Hofstetter</td><td>196</td></tr><tr><td>Chepyzhov</td><td>196</td></tr><tr><td>Hartvigsen</td><td>196</td></tr><tr><td>Servi</td><td>196</td></tr><tr><td>Sadowski</td><td>196</td></tr><tr><td>Antonisse</td><td>196</td></tr><tr><td>Meriste</td><td>196</td></tr><tr><td>Gajiwala</td><td>196</td></tr><tr><td>Monarch</td><td>196</td></tr><tr><td>Kakkar</td><td>196</td></tr><tr><td>Papadias</td><td>196</td></tr><tr><td>Schaap</td><td>196</td></tr><tr><td>Syang</td><td>196</td></tr><tr><td>Swan</td><td>196</td></tr><tr><td>Quadeer</td><td>196</td></tr><tr><td>Merey</td><td>196</td></tr><tr><td>Brender</td><td>196</td></tr><tr><td>Grospietsch</td><td>196</td></tr><tr><td>Schach</td><td>196</td></tr><tr><td>Simkin</td><td>196</td></tr><tr><td>Llado</td><td>196</td></tr><tr><td>Gustavson</td><td>196</td></tr><tr><td>Masand</td><td>196</td></tr><tr><td>Setia</td><td>196</td></tr><tr><td>Leaver</td><td>196</td></tr><tr><td>Heuser</td><td>196</td></tr><tr><td>Conia</td><td>196</td></tr><tr><td>Sichman</td><td>196</td></tr><tr><td>Michaeli</td><td>196</td></tr><tr><td>Carrere</td><td>196</td></tr><tr><td>Kumaresan</td><td>195</td></tr><tr><td>Manders</td><td>195</td></tr><tr><td>Alameldin</td><td>195</td></tr><tr><td>Ermel</td><td>195</td></tr><tr><td>Ouhyoung</td><td>195</td></tr><tr><td>Swift</td><td>195</td></tr><tr><td>Rosin</td><td>195</td></tr><tr><td>Cools</td><td>195</td></tr><tr><td>Camurati</td><td>195</td></tr><tr><td>Mellouli</td><td>195</td></tr><tr><td>Engberts</td><td>195</td></tr><tr><td>Bouloucos</td><td>195</td></tr><tr><td>Kalloufi</td><td>195</td></tr><tr><td>Rindone</td><td>195</td></tr><tr><td>Muntz</td><td>195</td></tr><tr><td>Vilarrasa</td><td>195</td></tr><tr><td>Keustermans</td><td>195</td></tr><tr><td>Papsdorf</td><td>195</td></tr><tr><td>Conde</td><td>195</td></tr><tr><td>Kuhnemann</td><td>195</td></tr><tr><td>Langford</td><td>195</td></tr><tr><td>Daescu</td><td>195</td></tr><tr><td>Picel</td><td>195</td></tr><tr><td>Rikino</td><td>195</td></tr><tr><td>Wrigley</td><td>195</td></tr><tr><td>Birta</td><td>195</td></tr><tr><td>Zumaque</td><td>195</td></tr><tr><td>Munke</td><td>195</td></tr><tr><td>Luft</td><td>195</td></tr><tr><td>Hardjono</td><td>195</td></tr><tr><td>Marrakchi</td><td>195</td></tr><tr><td>Gronowski</td><td>195</td></tr><tr><td>Segond</td><td>195</td></tr><tr><td>Serna</td><td>195</td></tr><tr><td>Matheson</td><td>195</td></tr><tr><td>Schaad</td><td>194</td></tr><tr><td>Birge</td><td>194</td></tr><tr><td>Irland</td><td>194</td></tr><tr><td>Melski</td><td>194</td></tr><tr><td>Constantine</td><td>194</td></tr><tr><td>Fujisaki</td><td>194</td></tr><tr><td>Kusakabe</td><td>194</td></tr><tr><td>Vickson</td><td>194</td></tr><tr><td>Frolund</td><td>194</td></tr><tr><td>Haumacher</td><td>194</td></tr><tr><td>Unno</td><td>194</td></tr><tr><td>Basagni</td><td>194</td></tr><tr><td>Hiraishi</td><td>194</td></tr><tr><td>Kobara</td><td>194</td></tr><tr><td>Docker</td><td>194</td></tr><tr><td>Salvesen</td><td>194</td></tr><tr><td>Remmele</td><td>194</td></tr><tr><td>Brobst</td><td>194</td></tr><tr><td>Peltason</td><td>194</td></tr><tr><td>Shanbhogue</td><td>194</td></tr><tr><td>Schaar</td><td>194</td></tr><tr><td>Schwaller</td><td>194</td></tr><tr><td>Stentiford</td><td>194</td></tr><tr><td>Juneja</td><td>194</td></tr><tr><td>Iivonen</td><td>194</td></tr><tr><td>Erez</td><td>194</td></tr><tr><td>Hofting</td><td>194</td></tr><tr><td>Kuszyk</td><td>194</td></tr><tr><td>Nanard</td><td>194</td></tr><tr><td>Tagansky</td><td>194</td></tr><tr><td>Serre</td><td>193</td></tr><tr><td>Crelier</td><td>193</td></tr><tr><td>Melton</td><td>193</td></tr><tr><td>Chvatal</td><td>193</td></tr><tr><td>Bernatsky</td><td>193</td></tr><tr><td>Radhakrishnan</td><td>193</td></tr><tr><td>Thebaut</td><td>193</td></tr><tr><td>Junet</td><td>193</td></tr><tr><td>Christ</td><td>193</td></tr><tr><td>Butner</td><td>193</td></tr><tr><td>Kleiser</td><td>193</td></tr><tr><td>Morrin</td><td>193</td></tr><tr><td>Rosis</td><td>193</td></tr><tr><td>Sifakis</td><td>193</td></tr><tr><td>Alblas</td><td>193</td></tr><tr><td>Jakobus</td><td>193</td></tr><tr><td>Gist</td><td>193</td></tr><tr><td>Sundgren</td><td>193</td></tr><tr><td>Stassinopoulos</td><td>193</td></tr><tr><td>Candan</td><td>193</td></tr><tr><td>Cochrane</td><td>193</td></tr><tr><td>Wursthorn</td><td>193</td></tr><tr><td>Camarinopoulos</td><td>193</td></tr><tr><td>Worfolk</td><td>193</td></tr><tr><td>Linnainmaa</td><td>193</td></tr><tr><td>Melichar</td><td>193</td></tr><tr><td>Colorni</td><td>193</td></tr><tr><td>Hertweck</td><td>193</td></tr><tr><td>Ducloy</td><td>192</td></tr><tr><td>Bahk</td><td>192</td></tr><tr><td>Maliniak</td><td>192</td></tr><tr><td>Wroclawski</td><td>192</td></tr><tr><td>Rosiles</td><td>192</td></tr><tr><td>Apsitis</td><td>192</td></tr><tr><td>Thimonier</td><td>192</td></tr><tr><td>Simmen</td><td>192</td></tr><tr><td>Speel</td><td>192</td></tr><tr><td>Baer</td><td>192</td></tr><tr><td>Ertl</td><td>192</td></tr><tr><td>Remmers</td><td>192</td></tr><tr><td>Woycyznski</td><td>192</td></tr><tr><td>Heyers</td><td>192</td></tr><tr><td>Heuter</td><td>192</td></tr><tr><td>Hutton</td><td>192</td></tr><tr><td>Rajala</td><td>192</td></tr><tr><td>Senzako</td><td>192</td></tr><tr><td>Luby</td><td>192</td></tr><tr><td>Tomescu</td><td>192</td></tr><tr><td>Kisuki</td><td>192</td></tr><tr><td>Wossner</td><td>192</td></tr><tr><td>Randi</td><td>192</td></tr><tr><td>Pehl</td><td>192</td></tr><tr><td>Fontan</td><td>192</td></tr><tr><td>Eiter</td><td>192</td></tr><tr><td>Menhoudj</td><td>192</td></tr><tr><td>Zongker</td><td>192</td></tr><tr><td>Dulin</td><td>192</td></tr><tr><td>Cherinka</td><td>192</td></tr><tr><td>Kemmerer</td><td>192</td></tr><tr><td>Eickenmeyer</td><td>192</td></tr><tr><td>Baaz</td><td>192</td></tr><tr><td>Parascandalo</td><td>192</td></tr><tr><td>Barbanera</td><td>192</td></tr><tr><td>Brandsma</td><td>191</td></tr><tr><td>Salinas</td><td>191</td></tr><tr><td>Pusterhofer</td><td>191</td></tr><tr><td>Rothenberg</td><td>191</td></tr><tr><td>Khalid</td><td>191</td></tr><tr><td>Trystram</td><td>191</td></tr><tr><td>Bahr</td><td>191</td></tr><tr><td>Mapelli</td><td>191</td></tr><tr><td>Gomatam</td><td>191</td></tr><tr><td>Krohm</td><td>191</td></tr><tr><td>Fairtlough</td><td>191</td></tr><tr><td>Plessier</td><td>191</td></tr><tr><td>Marquardt</td><td>191</td></tr><tr><td>Ghelli</td><td>191</td></tr><tr><td>Kaminger</td><td>191</td></tr><tr><td>Vecchi</td><td>191</td></tr><tr><td>Bach</td><td>191</td></tr><tr><td>Peron</td><td>191</td></tr><tr><td>Bruckman</td><td>191</td></tr><tr><td>Noriega</td><td>191</td></tr><tr><td>Kambil</td><td>191</td></tr><tr><td>Byoun</td><td>191</td></tr><tr><td>Larfeldt</td><td>191</td></tr><tr><td>Hoogerwoord</td><td>191</td></tr><tr><td>Parfitt</td><td>191</td></tr><tr><td>Weiland</td><td>191</td></tr><tr><td>Selvestrel</td><td>191</td></tr><tr><td>Anick</td><td>191</td></tr><tr><td>Thiran</td><td>191</td></tr><tr><td>Azumi</td><td>191</td></tr><tr><td>Roisin</td><td>191</td></tr><tr><td>Plesums</td><td>191</td></tr><tr><td>Khalil</td><td>191</td></tr><tr><td>Vecchio</td><td>191</td></tr><tr><td>Furedi</td><td>191</td></tr><tr><td>Bodoff</td><td>191</td></tr><tr><td>Hasham</td><td>191</td></tr><tr><td>Sidou</td><td>191</td></tr><tr><td>Miake</td><td>191</td></tr><tr><td>Kushner</td><td>191</td></tr><tr><td>Kilgore</td><td>191</td></tr><tr><td>Haddadi</td><td>191</td></tr><tr><td>Peak</td><td>191</td></tr><tr><td>Kohling</td><td>190</td></tr><tr><td>Anger</td><td>190</td></tr><tr><td>Ramaiah</td><td>190</td></tr><tr><td>Birsak</td><td>190</td></tr><tr><td>Strandh</td><td>190</td></tr><tr><td>Baezner</td><td>190</td></tr><tr><td>Goodrum</td><td>190</td></tr><tr><td>Suppi</td><td>190</td></tr><tr><td>Seghrouchni</td><td>190</td></tr><tr><td>Madeira</td><td>190</td></tr><tr><td>Vingron</td><td>190</td></tr><tr><td>Anandan</td><td>190</td></tr><tr><td>Czap</td><td>190</td></tr><tr><td>Hanratty</td><td>190</td></tr><tr><td>Itzfeldt</td><td>190</td></tr><tr><td>Liesche</td><td>190</td></tr><tr><td>Jullig</td><td>190</td></tr><tr><td>Leslie</td><td>190</td></tr><tr><td>Suri</td><td>190</td></tr><tr><td>Lorin</td><td>190</td></tr><tr><td>Klassen</td><td>190</td></tr><tr><td>Lindqvist</td><td>190</td></tr><tr><td>Underwood</td><td>190</td></tr><tr><td>Moffat</td><td>190</td></tr><tr><td>Hellwagner</td><td>190</td></tr><tr><td>Cardazo</td><td>190</td></tr><tr><td>Diderrich</td><td>190</td></tr><tr><td>Staylopatis</td><td>190</td></tr><tr><td>Haraldson</td><td>190</td></tr><tr><td>Reeken</td><td>190</td></tr><tr><td>Peyn</td><td>190</td></tr><tr><td>Emiris</td><td>190</td></tr><tr><td>Steenbeek</td><td>190</td></tr><tr><td>Callaway</td><td>190</td></tr><tr><td>Ashish</td><td>190</td></tr><tr><td>Keohane</td><td>190</td></tr><tr><td>Munch</td><td>190</td></tr><tr><td>Merkl</td><td>190</td></tr><tr><td>Birnbaum</td><td>190</td></tr><tr><td>Swiss</td><td>190</td></tr><tr><td>Conte</td><td>190</td></tr><tr><td>Riesenhuber</td><td>190</td></tr><tr><td>Jervis</td><td>190</td></tr><tr><td>Ranft</td><td>190</td></tr><tr><td>Salverda</td><td>190</td></tr><tr><td>Rousseau</td><td>189</td></tr><tr><td>Leuchs</td><td>189</td></tr><tr><td>Fiebach</td><td>189</td></tr><tr><td>Huttel</td><td>189</td></tr><tr><td>Orsini</td><td>189</td></tr><tr><td>Budinsky</td><td>189</td></tr><tr><td>Maquelin</td><td>189</td></tr><tr><td>Highland</td><td>189</td></tr><tr><td>Petersohn</td><td>189</td></tr><tr><td>Bala</td><td>189</td></tr><tr><td>Acton</td><td>189</td></tr><tr><td>Gargeya</td><td>189</td></tr><tr><td>Pargas</td><td>189</td></tr><tr><td>Billawala</td><td>189</td></tr><tr><td>Picht</td><td>189</td></tr><tr><td>Farrar</td><td>189</td></tr><tr><td>Chleq</td><td>189</td></tr><tr><td>Dulay</td><td>189</td></tr><tr><td>Plump</td><td>189</td></tr><tr><td>Millington</td><td>189</td></tr><tr><td>Baar</td><td>189</td></tr><tr><td>Lanzelotte</td><td>189</td></tr><tr><td>Lorys</td><td>189</td></tr><tr><td>Uehara</td><td>189</td></tr><tr><td>Zaccaria</td><td>189</td></tr><tr><td>Manderick</td><td>189</td></tr><tr><td>Perly</td><td>189</td></tr><tr><td>Backhouse</td><td>189</td></tr><tr><td>Jahnichen</td><td>189</td></tr><tr><td>Litecky</td><td>189</td></tr><tr><td>Scharstein</td><td>189</td></tr><tr><td>Valette</td><td>189</td></tr><tr><td>Shackel</td><td>189</td></tr><tr><td>Bonifati</td><td>189</td></tr><tr><td>Marshall</td><td>189</td></tr><tr><td>Parhami</td><td>189</td></tr><tr><td>Przulj</td><td>189</td></tr><tr><td>Bultermann</td><td>189</td></tr><tr><td>Bellmore</td><td>189</td></tr><tr><td>Rahimi</td><td>189</td></tr><tr><td>Hanabata</td><td>189</td></tr><tr><td>Ellozy</td><td>189</td></tr><tr><td>Molenkamp</td><td>189</td></tr><tr><td>Ferretti</td><td>189</td></tr><tr><td>Perfilyeva</td><td>189</td></tr><tr><td>Laventhal</td><td>189</td></tr><tr><td>Smailagic</td><td>189</td></tr><tr><td>Siochi</td><td>189</td></tr><tr><td>Boreale</td><td>189</td></tr><tr><td>Kriebel</td><td>189</td></tr><tr><td>Spinelli</td><td>189</td></tr><tr><td>Francisci</td><td>189</td></tr><tr><td>Horswill</td><td>189</td></tr><tr><td>Gils</td><td>189</td></tr><tr><td>Joslin</td><td>188</td></tr><tr><td>Penz</td><td>188</td></tr><tr><td>Bolotov</td><td>188</td></tr><tr><td>Oberman</td><td>188</td></tr><tr><td>Impagliazzo</td><td>188</td></tr><tr><td>Besselaar</td><td>188</td></tr><tr><td>Decleir</td><td>188</td></tr><tr><td>Garnick</td><td>188</td></tr><tr><td>Jansen</td><td>188</td></tr><tr><td>Delgrossi</td><td>188</td></tr><tr><td>Bressoud</td><td>188</td></tr><tr><td>Bazzichi</td><td>188</td></tr><tr><td>Mitina</td><td>188</td></tr><tr><td>Stroustrup</td><td>188</td></tr><tr><td>Murtha</td><td>188</td></tr><tr><td>Yoshizawa</td><td>188</td></tr><tr><td>Tyugu</td><td>188</td></tr><tr><td>Kamble</td><td>188</td></tr><tr><td>Kawashimo</td><td>188</td></tr><tr><td>Perry</td><td>188</td></tr><tr><td>Demos</td><td>188</td></tr><tr><td>Rissland</td><td>188</td></tr><tr><td>Reutenauer</td><td>188</td></tr><tr><td>Ressouche</td><td>188</td></tr><tr><td>Denti</td><td>188</td></tr><tr><td>Tchuente</td><td>188</td></tr><tr><td>Heering</td><td>188</td></tr><tr><td>Narwekar</td><td>188</td></tr><tr><td>Baek</td><td>188</td></tr><tr><td>Sudkamp</td><td>188</td></tr><tr><td>Makrucki</td><td>188</td></tr><tr><td>Zirintsis</td><td>188</td></tr><tr><td>Puppo</td><td>188</td></tr><tr><td>Delgrande</td><td>188</td></tr><tr><td>Majewski</td><td>188</td></tr><tr><td>Begiun</td><td>188</td></tr><tr><td>Waymire</td><td>188</td></tr><tr><td>Luan</td><td>188</td></tr><tr><td>Katzenelson</td><td>188</td></tr><tr><td>Felcyn</td><td>187</td></tr><tr><td>Bierman</td><td>187</td></tr><tr><td>Pavlopoulou</td><td>187</td></tr><tr><td>Zeidenstein</td><td>187</td></tr><tr><td>Crooks</td><td>187</td></tr><tr><td>Vanwelkenhuysen</td><td>187</td></tr><tr><td>Siegrist</td><td>187</td></tr><tr><td>Beznosov</td><td>187</td></tr><tr><td>Lipner</td><td>187</td></tr><tr><td>Velasco</td><td>187</td></tr><tr><td>Kaiser</td><td>187</td></tr><tr><td>Chachaty</td><td>187</td></tr><tr><td>Bratten</td><td>187</td></tr><tr><td>Leivant</td><td>187</td></tr><tr><td>Eiron</td><td>187</td></tr><tr><td>Yeung</td><td>187</td></tr><tr><td>Awdeh</td><td>187</td></tr><tr><td>Bridgland</td><td>187</td></tr><tr><td>Middleton</td><td>187</td></tr><tr><td>Milicic</td><td>187</td></tr><tr><td>Rodham</td><td>187</td></tr><tr><td>Kornatzky</td><td>187</td></tr><tr><td>Buescher</td><td>187</td></tr><tr><td>Eugenio</td><td>187</td></tr><tr><td>Bojadziev</td><td>187</td></tr><tr><td>Lenart</td><td>187</td></tr><tr><td>Danley</td><td>187</td></tr><tr><td>Preusig</td><td>187</td></tr><tr><td>Billingsley</td><td>187</td></tr><tr><td>Nyanchama</td><td>187</td></tr><tr><td>Godskesen</td><td>187</td></tr><tr><td>Strehl</td><td>187</td></tr><tr><td>Isard</td><td>187</td></tr><tr><td>Xiaoshan</td><td>187</td></tr><tr><td>Garigliano</td><td>187</td></tr><tr><td>Belinskaya</td><td>187</td></tr><tr><td>Benzmuller</td><td>187</td></tr><tr><td>Hiltgen</td><td>187</td></tr><tr><td>Famili</td><td>187</td></tr><tr><td>Muhling</td><td>187</td></tr><tr><td>Hinsberger</td><td>187</td></tr><tr><td>Versino</td><td>187</td></tr><tr><td>Demian</td><td>187</td></tr><tr><td>Kusalik</td><td>187</td></tr><tr><td>Shihab</td><td>187</td></tr><tr><td>Poulakidas</td><td>186</td></tr><tr><td>Bain</td><td>186</td></tr><tr><td>Peir</td><td>186</td></tr><tr><td>Takkinen</td><td>186</td></tr><tr><td>Giveon</td><td>186</td></tr><tr><td>Iacovou</td><td>186</td></tr><tr><td>McDermid</td><td>186</td></tr><tr><td>Talmor</td><td>186</td></tr><tr><td>Facello</td><td>186</td></tr><tr><td>Kavvadias</td><td>186</td></tr><tr><td>Danecki</td><td>186</td></tr><tr><td>Goldhammer</td><td>186</td></tr><tr><td>Berendt</td><td>186</td></tr><tr><td>Koshino</td><td>186</td></tr><tr><td>Krzyzanowski</td><td>186</td></tr><tr><td>Rosen</td><td>186</td></tr><tr><td>Erbe</td><td>186</td></tr><tr><td>Pulkowski</td><td>186</td></tr><tr><td>Hedayat</td><td>186</td></tr><tr><td>Rijckaert</td><td>186</td></tr><tr><td>Benantar</td><td>186</td></tr><tr><td>Liedekerke</td><td>186</td></tr><tr><td>Cannard</td><td>186</td></tr><tr><td>Kranzdorf</td><td>186</td></tr><tr><td>Merli</td><td>186</td></tr><tr><td>Silva</td><td>186</td></tr><tr><td>Meszaros</td><td>186</td></tr><tr><td>Gyimothy</td><td>186</td></tr><tr><td>Sethi</td><td>186</td></tr><tr><td>Walstra</td><td>186</td></tr><tr><td>Gulak</td><td>186</td></tr><tr><td>Mitchem</td><td>186</td></tr><tr><td>Ratnakar</td><td>186</td></tr><tr><td>Vesel</td><td>186</td></tr><tr><td>Lundstrom</td><td>186</td></tr><tr><td>Fraisse</td><td>185</td></tr><tr><td>Chandrasekhar</td><td>185</td></tr><tr><td>Erde</td><td>185</td></tr><tr><td>Lorch</td><td>185</td></tr><tr><td>Brattka</td><td>185</td></tr><tr><td>Zucker</td><td>185</td></tr><tr><td>Reghbati</td><td>185</td></tr><tr><td>Kakkad</td><td>185</td></tr><tr><td>Kropp</td><td>185</td></tr><tr><td>Schieder</td><td>185</td></tr><tr><td>Petereit</td><td>185</td></tr><tr><td>Gerteisen</td><td>185</td></tr><tr><td>Openshaw</td><td>185</td></tr><tr><td>Lally</td><td>185</td></tr><tr><td>Sooriamurthi</td><td>185</td></tr><tr><td>Walston</td><td>185</td></tr><tr><td>Orlowski</td><td>185</td></tr><tr><td>Kitai</td><td>185</td></tr><tr><td>Rahier</td><td>185</td></tr><tr><td>Dusink</td><td>185</td></tr><tr><td>Crouzet</td><td>185</td></tr><tr><td>Paciorek</td><td>185</td></tr><tr><td>Danlos</td><td>185</td></tr><tr><td>Terekhov</td><td>185</td></tr><tr><td>Braunschweig</td><td>185</td></tr><tr><td>Rosay</td><td>185</td></tr><tr><td>Plavsic</td><td>185</td></tr><tr><td>Gruenwald</td><td>185</td></tr><tr><td>Ghalwash</td><td>185</td></tr><tr><td>Gurbaxani</td><td>185</td></tr><tr><td>Schwartzburd</td><td>185</td></tr><tr><td>DasSarma</td><td>185</td></tr><tr><td>Valtorta</td><td>185</td></tr><tr><td>Nastansky</td><td>185</td></tr><tr><td>Muhlberg</td><td>185</td></tr><tr><td>Brendel</td><td>185</td></tr><tr><td>Krichel</td><td>185</td></tr><tr><td>Tsukuda</td><td>185</td></tr><tr><td>Willoner</td><td>185</td></tr><tr><td>Borovoy</td><td>185</td></tr><tr><td>Pollacia</td><td>185</td></tr><tr><td>Cappelli</td><td>185</td></tr><tr><td>Marrevee</td><td>185</td></tr><tr><td>Veevers</td><td>185</td></tr><tr><td>Ranai</td><td>185</td></tr><tr><td>Barvinok</td><td>185</td></tr><tr><td>Narahara</td><td>185</td></tr><tr><td>Riefers</td><td>185</td></tr><tr><td>Decaestecker</td><td>185</td></tr><tr><td>Karunanithi</td><td>184</td></tr><tr><td>Jeansoulin</td><td>184</td></tr><tr><td>Holburn</td><td>184</td></tr><tr><td>Babu</td><td>184</td></tr><tr><td>Hambrick</td><td>184</td></tr><tr><td>Szmurlo</td><td>184</td></tr><tr><td>Koblitz</td><td>184</td></tr><tr><td>Ozeki</td><td>184</td></tr><tr><td>Conti</td><td>184</td></tr><tr><td>Panwar</td><td>184</td></tr><tr><td>Schade</td><td>184</td></tr><tr><td>Denna</td><td>184</td></tr><tr><td>Stamatiou</td><td>184</td></tr><tr><td>Dratva</td><td>184</td></tr><tr><td>Litvinov</td><td>184</td></tr><tr><td>Heiserman</td><td>184</td></tr><tr><td>Schiettecatte</td><td>184</td></tr><tr><td>Kusakari</td><td>184</td></tr><tr><td>Gien</td><td>184</td></tr><tr><td>Lorcy</td><td>184</td></tr><tr><td>Narlikar</td><td>184</td></tr><tr><td>Kaltofen</td><td>184</td></tr><tr><td>Massonet</td><td>184</td></tr><tr><td>Brodal</td><td>184</td></tr><tr><td>Ibel</td><td>184</td></tr><tr><td>Codenie</td><td>184</td></tr><tr><td>Chaudhury</td><td>184</td></tr><tr><td>Harllee</td><td>184</td></tr><tr><td>Rodier</td><td>184</td></tr><tr><td>Welham</td><td>184</td></tr><tr><td>Weedon</td><td>184</td></tr><tr><td>Heemskerk</td><td>184</td></tr><tr><td>Asrin</td><td>184</td></tr><tr><td>Compeau</td><td>184</td></tr><tr><td>Feldmann</td><td>184</td></tr><tr><td>Kobuchi</td><td>184</td></tr><tr><td>Schlumberger</td><td>184</td></tr><tr><td>Montemayor</td><td>184</td></tr><tr><td>Isaac</td><td>184</td></tr><tr><td>Usery</td><td>184</td></tr><tr><td>Dichev</td><td>184</td></tr><tr><td>Masaki</td><td>184</td></tr><tr><td>Crabtree</td><td>184</td></tr><tr><td>Furudate</td><td>184</td></tr><tr><td>Gill</td><td>184</td></tr><tr><td>Honglei</td><td>184</td></tr><tr><td>Esposito</td><td>184</td></tr><tr><td>Rosca</td><td>184</td></tr><tr><td>Bellone</td><td>183</td></tr><tr><td>Klerer</td><td>183</td></tr><tr><td>Randt</td><td>183</td></tr><tr><td>Mansanne</td><td>183</td></tr><tr><td>Lovengreen</td><td>183</td></tr><tr><td>Perl</td><td>183</td></tr><tr><td>Sankaranarayanan</td><td>183</td></tr><tr><td>Schaft</td><td>183</td></tr><tr><td>Debuse</td><td>183</td></tr><tr><td>Peot</td><td>183</td></tr><tr><td>Cappelletti</td><td>183</td></tr><tr><td>Luff</td><td>183</td></tr><tr><td>Wegerle</td><td>183</td></tr><tr><td>Stenning</td><td>183</td></tr><tr><td>Menhardt</td><td>183</td></tr><tr><td>Terlouw</td><td>183</td></tr><tr><td>Peac</td><td>183</td></tr><tr><td>Lichtman</td><td>183</td></tr><tr><td>Waterhouse</td><td>183</td></tr><tr><td>Rettelbach</td><td>183</td></tr><tr><td>Paludetto</td><td>183</td></tr><tr><td>Dehkordi</td><td>183</td></tr><tr><td>Vasanthakumar</td><td>183</td></tr><tr><td>Reistad</td><td>183</td></tr><tr><td>Haldar</td><td>183</td></tr><tr><td>Koyama</td><td>183</td></tr><tr><td>Cmelik</td><td>183</td></tr><tr><td>Rodite</td><td>183</td></tr><tr><td>Waeselynck</td><td>183</td></tr><tr><td>Alpay</td><td>183</td></tr><tr><td>Passino</td><td>183</td></tr><tr><td>Straney</td><td>183</td></tr><tr><td>Pollock</td><td>183</td></tr><tr><td>Naudin</td><td>183</td></tr><tr><td>Stavenow</td><td>183</td></tr><tr><td>Rothe</td><td>183</td></tr><tr><td>Raney</td><td>183</td></tr><tr><td>Koshiba</td><td>183</td></tr><tr><td>Bottner</td><td>183</td></tr><tr><td>Zolotykh</td><td>183</td></tr><tr><td>Stasinski</td><td>183</td></tr><tr><td>Krone</td><td>183</td></tr><tr><td>Molberg</td><td>183</td></tr><tr><td>Escriba</td><td>183</td></tr><tr><td>Munoz</td><td>183</td></tr><tr><td>Cheshire</td><td>183</td></tr><tr><td>Pietrzykowski</td><td>183</td></tr><tr><td>Businaro</td><td>183</td></tr><tr><td>Hooghiemstra</td><td>183</td></tr><tr><td>Henders</td><td>183</td></tr><tr><td>Fadgyas</td><td>183</td></tr><tr><td>Birdsall</td><td>183</td></tr><tr><td>Veeraraghavan</td><td>183</td></tr><tr><td>Oxenboll</td><td>183</td></tr><tr><td>Olano</td><td>183</td></tr><tr><td>Hofmeyr</td><td>183</td></tr><tr><td>Ushiama</td><td>182</td></tr><tr><td>Jumpertz</td><td>182</td></tr><tr><td>Kavraki</td><td>182</td></tr><tr><td>Baez</td><td>182</td></tr><tr><td>Grandbois</td><td>182</td></tr><tr><td>Msuda</td><td>182</td></tr><tr><td>Anily</td><td>182</td></tr><tr><td>Ariola</td><td>182</td></tr><tr><td>Gluchowski</td><td>182</td></tr><tr><td>Kroll</td><td>182</td></tr><tr><td>Raczkowsky</td><td>182</td></tr><tr><td>Auria</td><td>182</td></tr><tr><td>Rohrbach</td><td>182</td></tr><tr><td>Poehlman</td><td>182</td></tr><tr><td>Matzat</td><td>182</td></tr><tr><td>Poujol</td><td>182</td></tr><tr><td>Vuskovic</td><td>182</td></tr><tr><td>Back</td><td>182</td></tr><tr><td>Uhrik</td><td>182</td></tr><tr><td>Lortz</td><td>182</td></tr><tr><td>Guenter</td><td>182</td></tr><tr><td>Besancenot</td><td>182</td></tr><tr><td>Suermann</td><td>182</td></tr><tr><td>Eterovic</td><td>182</td></tr><tr><td>Lammel</td><td>182</td></tr><tr><td>Naumovich</td><td>182</td></tr><tr><td>Murillo</td><td>182</td></tr><tr><td>Setlzner</td><td>182</td></tr><tr><td>Krogh</td><td>182</td></tr><tr><td>Claffy</td><td>182</td></tr><tr><td>Buchter</td><td>182</td></tr><tr><td>Verhaegen</td><td>182</td></tr><tr><td>Einsfeld</td><td>182</td></tr><tr><td>Luck</td><td>182</td></tr><tr><td>Trelles</td><td>182</td></tr><tr><td>Ratzlaff</td><td>182</td></tr><tr><td>Birke</td><td>182</td></tr><tr><td>Busillo</td><td>182</td></tr><tr><td>Zlotek</td><td>182</td></tr><tr><td>Azadmanesh</td><td>182</td></tr><tr><td>England</td><td>182</td></tr><tr><td>Percebois</td><td>182</td></tr><tr><td>Pettit</td><td>182</td></tr><tr><td>Baak</td><td>182</td></tr><tr><td>Spieker</td><td>182</td></tr><tr><td>Speer</td><td>182</td></tr><tr><td>Uludag</td><td>182</td></tr><tr><td>Talmon</td><td>182</td></tr><tr><td>Bale</td><td>182</td></tr><tr><td>Basawa</td><td>182</td></tr><tr><td>Koblick</td><td>182</td></tr><tr><td>Peng</td><td>182</td></tr><tr><td>Renear</td><td>182</td></tr><tr><td>Varman</td><td>182</td></tr><tr><td>Fetvedt</td><td>181</td></tr><tr><td>Munos</td><td>181</td></tr><tr><td>Trachtenberg</td><td>181</td></tr><tr><td>Dahlbom</td><td>181</td></tr><tr><td>Iisaka</td><td>181</td></tr><tr><td>Ranon</td><td>181</td></tr><tr><td>Staudhammer</td><td>181</td></tr><tr><td>Huxford</td><td>181</td></tr><tr><td>Kuzuoka</td><td>181</td></tr><tr><td>Quittner</td><td>181</td></tr><tr><td>Atchley</td><td>181</td></tr><tr><td>Markovitch</td><td>181</td></tr><tr><td>Reinhart</td><td>181</td></tr><tr><td>Ossenbruggen</td><td>181</td></tr><tr><td>Chaudhuri</td><td>181</td></tr><tr><td>Flasterstein</td><td>181</td></tr><tr><td>Uhrig</td><td>181</td></tr><tr><td>Cronau</td><td>181</td></tr><tr><td>Lichtner</td><td>181</td></tr><tr><td>Schwabacher</td><td>181</td></tr><tr><td>Spataro</td><td>181</td></tr><tr><td>Gunderson</td><td>181</td></tr><tr><td>Smeets</td><td>181</td></tr><tr><td>Bashian</td><td>181</td></tr><tr><td>Broder</td><td>181</td></tr><tr><td>Cronan</td><td>181</td></tr><tr><td>Mayerwieser</td><td>181</td></tr><tr><td>Takanami</td><td>181</td></tr><tr><td>Savasere</td><td>181</td></tr><tr><td>Demri</td><td>181</td></tr><tr><td>Peroz</td><td>181</td></tr><tr><td>Fujisawa</td><td>181</td></tr><tr><td>Szemeredi</td><td>181</td></tr><tr><td>Nooteboom</td><td>181</td></tr><tr><td>Dengi</td><td>181</td></tr><tr><td>Schapiro</td><td>181</td></tr><tr><td>Cyne</td><td>181</td></tr><tr><td>Swist</td><td>181</td></tr><tr><td>Schmittgen</td><td>181</td></tr><tr><td>Kroft</td><td>181</td></tr><tr><td>Zyda</td><td>181</td></tr><tr><td>Varley</td><td>181</td></tr><tr><td>Ratnaker</td><td>181</td></tr><tr><td>Heusch</td><td>181</td></tr><tr><td>Gilg</td><td>181</td></tr><tr><td>Angel</td><td>181</td></tr><tr><td>Dalphin</td><td>181</td></tr><tr><td>Harbusch</td><td>181</td></tr><tr><td>Dayang</td><td>181</td></tr><tr><td>Luit</td><td>181</td></tr><tr><td>Chiodo</td><td>181</td></tr><tr><td>Chelton</td><td>181</td></tr><tr><td>Yemenis</td><td>181</td></tr><tr><td>Giaccio</td><td>181</td></tr><tr><td>Comellas</td><td>181</td></tr><tr><td>Mahmud</td><td>181</td></tr><tr><td>Vendrig</td><td>181</td></tr><tr><td>Asmuth</td><td>181</td></tr><tr><td>Waschkowski</td><td>181</td></tr><tr><td>Griswold</td><td>180</td></tr><tr><td>Winter</td><td>180</td></tr><tr><td>Fasbender</td><td>180</td></tr><tr><td>Sullins</td><td>180</td></tr><tr><td>Zweizig</td><td>180</td></tr><tr><td>DuBourdieux</td><td>180</td></tr><tr><td>Birrer</td><td>180</td></tr><tr><td>Bennis</td><td>180</td></tr><tr><td>Christianini</td><td>180</td></tr><tr><td>Erie</td><td>180</td></tr><tr><td>Vakili</td><td>180</td></tr><tr><td>Cincotta</td><td>180</td></tr><tr><td>Fioravanti</td><td>180</td></tr><tr><td>Beutelspacher</td><td>180</td></tr><tr><td>Toyoshima</td><td>180</td></tr><tr><td>Terkki</td><td>180</td></tr><tr><td>Cooman</td><td>180</td></tr><tr><td>Bail</td><td>180</td></tr><tr><td>Baalen</td><td>180</td></tr><tr><td>Ballarin</td><td>180</td></tr><tr><td>Ruther</td><td>180</td></tr><tr><td>Mondadori</td><td>180</td></tr><tr><td>Ligten</td><td>180</td></tr><tr><td>McAffer</td><td>180</td></tr><tr><td>Rissanen</td><td>180</td></tr><tr><td>Munck</td><td>180</td></tr><tr><td>Covnot</td><td>180</td></tr><tr><td>Zizka</td><td>180</td></tr><tr><td>Prochazka</td><td>180</td></tr><tr><td>Vitiello</td><td>180</td></tr><tr><td>Tsukune</td><td>180</td></tr><tr><td>Mattern</td><td>180</td></tr><tr><td>Makinen</td><td>180</td></tr><tr><td>Binding</td><td>180</td></tr><tr><td>Nitta</td><td>180</td></tr><tr><td>Cronin</td><td>180</td></tr><tr><td>Erol</td><td>180</td></tr><tr><td>Chorvat</td><td>180</td></tr><tr><td>Fabrizio</td><td>180</td></tr><tr><td>Kalafatis</td><td>180</td></tr><tr><td>Sherertz</td><td>180</td></tr><tr><td>Sidhu</td><td>180</td></tr><tr><td>Stellhorn</td><td>180</td></tr><tr><td>Bahi</td><td>180</td></tr><tr><td>Kowalchuk</td><td>180</td></tr><tr><td>Bael</td><td>180</td></tr><tr><td>Hockney</td><td>179</td></tr><tr><td>Ramamoorthy</td><td>179</td></tr><tr><td>Delgrange</td><td>179</td></tr><tr><td>Bazelow</td><td>179</td></tr><tr><td>Yurov</td><td>179</td></tr><tr><td>Deverell</td><td>179</td></tr><tr><td>Falco</td><td>179</td></tr><tr><td>Marchesini</td><td>179</td></tr><tr><td>McClure</td><td>179</td></tr><tr><td>Ladret</td><td>179</td></tr><tr><td>Ozeri</td><td>179</td></tr><tr><td>Azulay</td><td>179</td></tr><tr><td>Luon</td><td>179</td></tr><tr><td>Streng</td><td>179</td></tr><tr><td>Turnbull</td><td>179</td></tr><tr><td>Steinauer</td><td>179</td></tr><tr><td>Trogemann</td><td>179</td></tr><tr><td>Rodiger</td><td>179</td></tr><tr><td>Lieblein</td><td>179</td></tr><tr><td>Beilner</td><td>179</td></tr><tr><td>Pepe</td><td>179</td></tr><tr><td>Shokrollahi</td><td>179</td></tr><tr><td>Wilfing</td><td>179</td></tr><tr><td>Puppe</td><td>179</td></tr><tr><td>Lupu</td><td>179</td></tr><tr><td>Broomell</td><td>179</td></tr><tr><td>Werthner</td><td>179</td></tr><tr><td>Snyers</td><td>179</td></tr><tr><td>Katalagarianos</td><td>179</td></tr><tr><td>Luga</td><td>179</td></tr><tr><td>Berztiss</td><td>179</td></tr><tr><td>Schneeberger</td><td>179</td></tr><tr><td>Farrag</td><td>179</td></tr><tr><td>Motley</td><td>179</td></tr><tr><td>Hatcliff</td><td>179</td></tr><tr><td>Prenel</td><td>179</td></tr><tr><td>Dymetman</td><td>179</td></tr><tr><td>Pagter</td><td>179</td></tr><tr><td>Klyachko</td><td>179</td></tr><tr><td>Kolinko</td><td>179</td></tr><tr><td>Foong</td><td>179</td></tr><tr><td>Gecseg</td><td>179</td></tr><tr><td>Negoita</td><td>179</td></tr><tr><td>Krychniak</td><td>179</td></tr><tr><td>Chiola</td><td>179</td></tr><tr><td>Hebden</td><td>179</td></tr><tr><td>Ulupinar</td><td>179</td></tr><tr><td>Roccetti</td><td>179</td></tr><tr><td>Birch</td><td>179</td></tr><tr><td>Solovay</td><td>178</td></tr><tr><td>Brickell</td><td>178</td></tr><tr><td>Murtafg</td><td>178</td></tr><tr><td>Ramsey</td><td>178</td></tr><tr><td>Kermarrec</td><td>178</td></tr><tr><td>Falby</td><td>178</td></tr><tr><td>Capobianchi</td><td>178</td></tr><tr><td>Benveniste</td><td>178</td></tr><tr><td>Ernst</td><td>178</td></tr><tr><td>Peres</td><td>178</td></tr><tr><td>Samarati</td><td>178</td></tr><tr><td>Angot</td><td>178</td></tr><tr><td>Binkley</td><td>178</td></tr><tr><td>Rathonyi</td><td>178</td></tr><tr><td>Kossowski</td><td>178</td></tr><tr><td>Seuren</td><td>178</td></tr><tr><td>Eastman</td><td>178</td></tr><tr><td>Felder</td><td>178</td></tr><tr><td>Detkin</td><td>178</td></tr><tr><td>Restivo</td><td>178</td></tr><tr><td>Strooper</td><td>178</td></tr><tr><td>Magliocco</td><td>178</td></tr><tr><td>Jarecki</td><td>178</td></tr><tr><td>Verspoor</td><td>178</td></tr><tr><td>Botman</td><td>178</td></tr><tr><td>Bernini</td><td>178</td></tr><tr><td>Radwan</td><td>178</td></tr><tr><td>Chenoweth</td><td>178</td></tr><tr><td>Ginneken</td><td>178</td></tr><tr><td>Bakhtari</td><td>178</td></tr><tr><td>Improta</td><td>178</td></tr><tr><td>Chartres</td><td>178</td></tr><tr><td>Tasistro</td><td>178</td></tr><tr><td>Attimonelli</td><td>178</td></tr><tr><td>Bamford</td><td>178</td></tr><tr><td>Figueira</td><td>178</td></tr><tr><td>Casley</td><td>178</td></tr><tr><td>Brlek</td><td>178</td></tr><tr><td>Demir</td><td>178</td></tr><tr><td>Levasseur</td><td>178</td></tr><tr><td>Sewelson</td><td>178</td></tr><tr><td>Rebaine</td><td>178</td></tr><tr><td>Sinitsyn</td><td>178</td></tr><tr><td>Lagarias</td><td>178</td></tr><tr><td>Trumbly</td><td>177</td></tr><tr><td>Zeilberger</td><td>177</td></tr><tr><td>Templeman</td><td>177</td></tr><tr><td>Nourani</td><td>177</td></tr><tr><td>Rando</td><td>177</td></tr><tr><td>Magalhaes</td><td>177</td></tr><tr><td>Zeleznik</td><td>177</td></tr><tr><td>Cunliffe</td><td>177</td></tr><tr><td>Matzke</td><td>177</td></tr><tr><td>Monkewich</td><td>177</td></tr><tr><td>Merlo</td><td>177</td></tr><tr><td>Aseltine</td><td>177</td></tr><tr><td>Jayawardene</td><td>177</td></tr><tr><td>Feldhoffer</td><td>177</td></tr><tr><td>Mullainathan</td><td>177</td></tr><tr><td>Czaja</td><td>177</td></tr><tr><td>Frezza</td><td>177</td></tr><tr><td>Krupka</td><td>177</td></tr><tr><td>Perri</td><td>177</td></tr><tr><td>Thorensen</td><td>177</td></tr><tr><td>Pouyioutas</td><td>177</td></tr><tr><td>Ruemmler</td><td>177</td></tr><tr><td>Zultner</td><td>177</td></tr><tr><td>Peck</td><td>177</td></tr><tr><td>Vandervoorde</td><td>177</td></tr><tr><td>Cairo</td><td>177</td></tr><tr><td>Anido</td><td>177</td></tr><tr><td>Kieras</td><td>177</td></tr><tr><td>Uchoa</td><td>177</td></tr><tr><td>Zhiwei</td><td>177</td></tr><tr><td>Bardell</td><td>177</td></tr><tr><td>Angiulli</td><td>177</td></tr><tr><td>DuCasse</td><td>177</td></tr><tr><td>Nitsche</td><td>177</td></tr><tr><td>DiGiano</td><td>177</td></tr><tr><td>Undy</td><td>177</td></tr><tr><td>Thiria</td><td>177</td></tr><tr><td>Knightly</td><td>177</td></tr><tr><td>Herath</td><td>177</td></tr><tr><td>Peral</td><td>177</td></tr><tr><td>Peris</td><td>177</td></tr><tr><td>Chinen</td><td>177</td></tr><tr><td>Caine</td><td>177</td></tr><tr><td>Lieberherr</td><td>176</td></tr><tr><td>Greibach</td><td>176</td></tr><tr><td>Falck</td><td>176</td></tr><tr><td>Olivero</td><td>176</td></tr><tr><td>Halloran</td><td>176</td></tr><tr><td>Luke</td><td>176</td></tr><tr><td>Pleszkun</td><td>176</td></tr><tr><td>Miyakawa</td><td>176</td></tr><tr><td>Cullers</td><td>176</td></tr><tr><td>Rossi</td><td>176</td></tr><tr><td>Ullian</td><td>176</td></tr><tr><td>Schahn</td><td>176</td></tr><tr><td>Hasenauer</td><td>176</td></tr><tr><td>Kugler</td><td>176</td></tr><tr><td>Menyhert</td><td>176</td></tr><tr><td>Picaronny</td><td>176</td></tr><tr><td>Lukaszewicz</td><td>176</td></tr><tr><td>Reinhard</td><td>176</td></tr><tr><td>Gopalakrishnan</td><td>176</td></tr><tr><td>Pardalos</td><td>176</td></tr><tr><td>Danner</td><td>176</td></tr><tr><td>Loncour</td><td>176</td></tr><tr><td>Baca</td><td>176</td></tr><tr><td>Beerel</td><td>176</td></tr><tr><td>Baja</td><td>176</td></tr><tr><td>Armand</td><td>176</td></tr><tr><td>Jording</td><td>176</td></tr><tr><td>Sinicrope</td><td>176</td></tr><tr><td>Zwicker</td><td>176</td></tr><tr><td>Sommer</td><td>176</td></tr><tr><td>Hainaut</td><td>176</td></tr><tr><td>Selenyi</td><td>176</td></tr><tr><td>Passafiume</td><td>176</td></tr><tr><td>Egerstedt</td><td>176</td></tr><tr><td>Chappelet</td><td>176</td></tr><tr><td>Saoudi</td><td>176</td></tr><tr><td>Demizu</td><td>176</td></tr><tr><td>Heping</td><td>176</td></tr><tr><td>Coombs</td><td>176</td></tr><tr><td>Cappello</td><td>175</td></tr><tr><td>Murtagh</td><td>175</td></tr><tr><td>Krohn</td><td>175</td></tr><tr><td>Fendler</td><td>175</td></tr><tr><td>Barreiro</td><td>175</td></tr><tr><td>Porenta</td><td>175</td></tr><tr><td>Flexer</td><td>175</td></tr><tr><td>Chinal</td><td>175</td></tr><tr><td>Kalsbeek</td><td>175</td></tr><tr><td>Vural</td><td>175</td></tr><tr><td>Alvarado</td><td>175</td></tr><tr><td>Wissmann</td><td>175</td></tr><tr><td>Lienhardt</td><td>175</td></tr><tr><td>Lores</td><td>175</td></tr><tr><td>Engelmann</td><td>175</td></tr><tr><td>Milicia</td><td>175</td></tr><tr><td>Schurmann</td><td>175</td></tr><tr><td>Skrikant</td><td>175</td></tr><tr><td>Atrawala</td><td>175</td></tr><tr><td>Roohalamini</td><td>175</td></tr><tr><td>Sigstam</td><td>175</td></tr><tr><td>Iisaku</td><td>175</td></tr><tr><td>Cooley</td><td>175</td></tr><tr><td>Cyre</td><td>175</td></tr><tr><td>Bergere</td><td>175</td></tr><tr><td>Kropatsch</td><td>175</td></tr><tr><td>Papastamatiou</td><td>175</td></tr><tr><td>Beausoleil</td><td>175</td></tr><tr><td>Coney</td><td>175</td></tr><tr><td>Vidya</td><td>175</td></tr><tr><td>Picci</td><td>175</td></tr><tr><td>Lunn</td><td>175</td></tr><tr><td>Schicker</td><td>175</td></tr><tr><td>Demke</td><td>175</td></tr><tr><td>Molenaar</td><td>175</td></tr><tr><td>Honiden</td><td>175</td></tr><tr><td>Valiente</td><td>175</td></tr><tr><td>Laurillard</td><td>175</td></tr><tr><td>Tanemo</td><td>175</td></tr><tr><td>Shinomoto</td><td>175</td></tr><tr><td>Matteis</td><td>175</td></tr><tr><td>Vesna</td><td>175</td></tr><tr><td>Denny</td><td>175</td></tr><tr><td>Tsunoo</td><td>175</td></tr><tr><td>Sommen</td><td>175</td></tr><tr><td>Edelhoff</td><td>175</td></tr><tr><td>Vidal</td><td>175</td></tr><tr><td>Douceur</td><td>174</td></tr><tr><td>Angelov</td><td>174</td></tr><tr><td>Oxman</td><td>174</td></tr><tr><td>Tzvieli</td><td>174</td></tr><tr><td>Gecsel</td><td>174</td></tr><tr><td>Itschner</td><td>174</td></tr><tr><td>Bage</td><td>174</td></tr><tr><td>Hennings</td><td>174</td></tr><tr><td>Schauser</td><td>174</td></tr><tr><td>Eldridge</td><td>174</td></tr><tr><td>Cannata</td><td>174</td></tr><tr><td>Bernick</td><td>174</td></tr><tr><td>Georg</td><td>174</td></tr><tr><td>Potthoff</td><td>174</td></tr><tr><td>Choobineh</td><td>174</td></tr><tr><td>Pettey</td><td>174</td></tr><tr><td>Schoegge</td><td>174</td></tr><tr><td>Assaf</td><td>174</td></tr><tr><td>Syrzycki</td><td>174</td></tr><tr><td>Cannane</td><td>174</td></tr><tr><td>Rubsam</td><td>174</td></tr><tr><td>Peha</td><td>174</td></tr><tr><td>Schlenzig</td><td>174</td></tr><tr><td>Veldwijk</td><td>174</td></tr><tr><td>Pintelas</td><td>174</td></tr><tr><td>Boissier</td><td>174</td></tr><tr><td>Sambasivam</td><td>174</td></tr><tr><td>Schonegge</td><td>174</td></tr><tr><td>Oskamp</td><td>174</td></tr><tr><td>Etalle</td><td>174</td></tr><tr><td>Varker</td><td>174</td></tr><tr><td>Azuma</td><td>174</td></tr><tr><td>Showalter</td><td>174</td></tr><tr><td>Fordan</td><td>174</td></tr><tr><td>Dolinsky</td><td>174</td></tr><tr><td>Fiutem</td><td>174</td></tr><tr><td>Biron</td><td>173</td></tr><tr><td>Ambroszkiewicz</td><td>173</td></tr><tr><td>Pena</td><td>173</td></tr><tr><td>Masamoto</td><td>173</td></tr><tr><td>Gadepally</td><td>173</td></tr><tr><td>Stafford</td><td>173</td></tr><tr><td>Deyuan</td><td>173</td></tr><tr><td>Huhdanpaa</td><td>173</td></tr><tr><td>Peternell</td><td>173</td></tr><tr><td>Range</td><td>173</td></tr><tr><td>Gimarc</td><td>173</td></tr><tr><td>Bratsberg</td><td>173</td></tr><tr><td>Orlowska</td><td>173</td></tr><tr><td>Denos</td><td>173</td></tr><tr><td>Flanders</td><td>173</td></tr><tr><td>Kruskal</td><td>173</td></tr><tr><td>Pietracaprina</td><td>173</td></tr><tr><td>Ranze</td><td>173</td></tr><tr><td>Melter</td><td>173</td></tr><tr><td>Comte</td><td>173</td></tr><tr><td>Beidas</td><td>173</td></tr><tr><td>Gini</td><td>173</td></tr><tr><td>Perna</td><td>173</td></tr><tr><td>Nitsch</td><td>173</td></tr><tr><td>Leonhardt</td><td>173</td></tr><tr><td>Lanteri</td><td>173</td></tr><tr><td>Zockler</td><td>173</td></tr><tr><td>Tischendorf</td><td>173</td></tr><tr><td>Quaggetto</td><td>173</td></tr><tr><td>Rusmann</td><td>173</td></tr><tr><td>Clemencon</td><td>173</td></tr><tr><td>Validov</td><td>173</td></tr><tr><td>Biros</td><td>173</td></tr><tr><td>Marchegay</td><td>173</td></tr><tr><td>Berstel</td><td>173</td></tr><tr><td>Rotem</td><td>172</td></tr><tr><td>Syrotiuk</td><td>172</td></tr><tr><td>Kalefeld</td><td>172</td></tr><tr><td>Portugali</td><td>172</td></tr><tr><td>Aingworth</td><td>172</td></tr><tr><td>Heydon</td><td>172</td></tr><tr><td>Bade</td><td>172</td></tr><tr><td>Beeson</td><td>172</td></tr><tr><td>Mersereau</td><td>172</td></tr><tr><td>Vieri</td><td>172</td></tr><tr><td>Heinisuo</td><td>172</td></tr><tr><td>Thombley</td><td>172</td></tr><tr><td>Muniz</td><td>172</td></tr><tr><td>Zaiane</td><td>172</td></tr><tr><td>Vrecion</td><td>172</td></tr><tr><td>Basart</td><td>172</td></tr><tr><td>Gide</td><td>172</td></tr><tr><td>Whittlesey</td><td>172</td></tr><tr><td>Nyrup</td><td>172</td></tr><tr><td>McAlpine</td><td>172</td></tr><tr><td>Tokunaga</td><td>172</td></tr><tr><td>Halevi</td><td>172</td></tr><tr><td>Morton</td><td>172</td></tr><tr><td>Glowinski</td><td>172</td></tr><tr><td>Ranka</td><td>172</td></tr><tr><td>Fandrianto</td><td>172</td></tr><tr><td>Thibadeau</td><td>172</td></tr><tr><td>Janetzko</td><td>172</td></tr><tr><td>Pell</td><td>172</td></tr><tr><td>Zielinski</td><td>172</td></tr><tr><td>Perz</td><td>172</td></tr><tr><td>Henseler</td><td>172</td></tr><tr><td>Nergos</td><td>171</td></tr><tr><td>Serot</td><td>171</td></tr><tr><td>Rande</td><td>171</td></tr><tr><td>Hutter</td><td>171</td></tr><tr><td>Androutsos</td><td>171</td></tr><tr><td>Litzler</td><td>171</td></tr><tr><td>Rabejac</td><td>171</td></tr><tr><td>Isaak</td><td>171</td></tr><tr><td>Plotkin</td><td>171</td></tr><tr><td>Roison</td><td>171</td></tr><tr><td>Castellani</td><td>171</td></tr><tr><td>Navazio</td><td>171</td></tr><tr><td>Pauthner</td><td>171</td></tr><tr><td>Frijda</td><td>171</td></tr><tr><td>Rullman</td><td>171</td></tr><tr><td>Kaiserswerth</td><td>171</td></tr><tr><td>Comyn</td><td>171</td></tr><tr><td>Kropf</td><td>171</td></tr><tr><td>Gubsky</td><td>171</td></tr><tr><td>Hashii</td><td>171</td></tr><tr><td>Kenevan</td><td>171</td></tr><tr><td>Lodder</td><td>171</td></tr><tr><td>Mungall</td><td>171</td></tr><tr><td>Hemaspaandra</td><td>170</td></tr><tr><td>Himler</td><td>170</td></tr><tr><td>Setiz</td><td>170</td></tr><tr><td>Sessa</td><td>170</td></tr><tr><td>Penn</td><td>170</td></tr><tr><td>Akiyama</td><td>170</td></tr><tr><td>Mateescu</td><td>170</td></tr><tr><td>Sanella</td><td>170</td></tr><tr><td>Kinley</td><td>170</td></tr><tr><td>Badache</td><td>170</td></tr><tr><td>Keirsey</td><td>170</td></tr><tr><td>Yetim</td><td>170</td></tr><tr><td>Shobatake</td><td>170</td></tr><tr><td>Alencar</td><td>170</td></tr><tr><td>Schrooten</td><td>170</td></tr><tr><td>Limongiello</td><td>170</td></tr><tr><td>Marletta</td><td>170</td></tr><tr><td>Polajnar</td><td>170</td></tr><tr><td>Fontet</td><td>170</td></tr><tr><td>Spell</td><td>170</td></tr><tr><td>Staelin</td><td>170</td></tr><tr><td>Verhoeff</td><td>170</td></tr><tr><td>Lund</td><td>170</td></tr><tr><td>Sluis</td><td>170</td></tr><tr><td>Farrel</td><td>170</td></tr><tr><td>Harnett</td><td>170</td></tr><tr><td>Falster</td><td>170</td></tr><tr><td>Piazza</td><td>170</td></tr><tr><td>Casperson</td><td>169</td></tr><tr><td>Rijsenbrij</td><td>169</td></tr><tr><td>Journel</td><td>169</td></tr><tr><td>Yavatkar</td><td>169</td></tr><tr><td>Yetto</td><td>169</td></tr><tr><td>Morris</td><td>169</td></tr><tr><td>Maginnis</td><td>169</td></tr><tr><td>Janocha</td><td>169</td></tr><tr><td>Thisen</td><td>169</td></tr><tr><td>Kolvik</td><td>169</td></tr><tr><td>Ebeling</td><td>169</td></tr><tr><td>Lueh</td><td>169</td></tr><tr><td>Yoshimura</td><td>169</td></tr><tr><td>Unni</td><td>169</td></tr><tr><td>Condotta</td><td>169</td></tr><tr><td>Glinert</td><td>169</td></tr><tr><td>Shackell</td><td>169</td></tr><tr><td>Wixon</td><td>169</td></tr><tr><td>Conry</td><td>169</td></tr><tr><td>Junot</td><td>169</td></tr><tr><td>Minakawa</td><td>169</td></tr><tr><td>Ferriere</td><td>169</td></tr><tr><td>Piancastelli</td><td>169</td></tr><tr><td>Badr</td><td>169</td></tr><tr><td>Maccarone</td><td>169</td></tr><tr><td>Kushnir</td><td>168</td></tr><tr><td>Arlazarov</td><td>168</td></tr><tr><td>Lakshmanan</td><td>168</td></tr><tr><td>Gyorkos</td><td>168</td></tr><tr><td>Wallrath</td><td>168</td></tr><tr><td>Qiwen</td><td>168</td></tr><tr><td>Theuretzbacher</td><td>168</td></tr><tr><td>Grabner</td><td>168</td></tr><tr><td>Emmerich</td><td>168</td></tr><tr><td>Montresor</td><td>168</td></tr><tr><td>Butterworth</td><td>168</td></tr><tr><td>Yamaashi</td><td>168</td></tr><tr><td>Lampe</td><td>168</td></tr><tr><td>Gladwell</td><td>168</td></tr><tr><td>Bauknecht</td><td>168</td></tr><tr><td>Sevcikova</td><td>168</td></tr><tr><td>Gniady</td><td>168</td></tr><tr><td>Jeong</td><td>168</td></tr><tr><td>Puoti</td><td>168</td></tr><tr><td>Streit</td><td>168</td></tr><tr><td>Perko</td><td>168</td></tr><tr><td>Pargaonkar</td><td>168</td></tr><tr><td>Nations</td><td>167</td></tr><tr><td>Murthy</td><td>167</td></tr><tr><td>Lung</td><td>167</td></tr><tr><td>Benaini</td><td>167</td></tr><tr><td>Fritzsche</td><td>167</td></tr><tr><td>Wiegley</td><td>167</td></tr><tr><td>Thambidurai</td><td>167</td></tr><tr><td>Burnard</td><td>167</td></tr><tr><td>Schueller</td><td>167</td></tr><tr><td>Nicolson</td><td>167</td></tr><tr><td>Oaver</td><td>167</td></tr><tr><td>Cromarty</td><td>167</td></tr><tr><td>Serdy</td><td>167</td></tr><tr><td>Gips</td><td>167</td></tr><tr><td>Collavizza</td><td>167</td></tr><tr><td>Brizzi</td><td>167</td></tr><tr><td>Pesch</td><td>167</td></tr><tr><td>Simmel</td><td>167</td></tr><tr><td>Wuwongse</td><td>167</td></tr><tr><td>Ramsak</td><td>167</td></tr><tr><td>Socorro</td><td>167</td></tr><tr><td>Gire</td><td>167</td></tr><tr><td>Swiler</td><td>166</td></tr><tr><td>Pezzoli</td><td>166</td></tr><tr><td>Coullard</td><td>166</td></tr><tr><td>Erev</td><td>166</td></tr><tr><td>Luiz</td><td>166</td></tr><tr><td>Farrow</td><td>166</td></tr><tr><td>McFarlan</td><td>166</td></tr><tr><td>Rattan</td><td>166</td></tr><tr><td>Marwedel</td><td>166</td></tr><tr><td>Erman</td><td>166</td></tr><tr><td>Murrill</td><td>166</td></tr><tr><td>Cusworth</td><td>166</td></tr><tr><td>Perelgut</td><td>166</td></tr><tr><td>Stranks</td><td>166</td></tr><tr><td>Demeyer</td><td>166</td></tr><tr><td>dAstous</td><td>166</td></tr><tr><td>Narahari</td><td>166</td></tr><tr><td>Marsiglia</td><td>166</td></tr><tr><td>Babb</td><td>166</td></tr><tr><td>Pileggi</td><td>166</td></tr><tr><td>Kandlur</td><td>166</td></tr><tr><td>Teitelbaum</td><td>166</td></tr><tr><td>Azevdeo</td><td>166</td></tr><tr><td>Suwa</td><td>165</td></tr><tr><td>Homond</td><td>165</td></tr><tr><td>Lambe</td><td>165</td></tr><tr><td>Blokdijk</td><td>165</td></tr><tr><td>Gischer</td><td>165</td></tr><tr><td>Barinka</td><td>165</td></tr><tr><td>Brookman</td><td>165</td></tr><tr><td>Andreotta</td><td>165</td></tr><tr><td>Perin</td><td>165</td></tr><tr><td>Ritzmann</td><td>165</td></tr><tr><td>Hempstead</td><td>165</td></tr><tr><td>Denis</td><td>165</td></tr><tr><td>Zschoche</td><td>165</td></tr><tr><td>Cichocki</td><td>165</td></tr><tr><td>Benzaken</td><td>165</td></tr><tr><td>Delaune</td><td>165</td></tr><tr><td>Stille</td><td>165</td></tr><tr><td>Eppinger</td><td>165</td></tr><tr><td>Jiafu</td><td>165</td></tr><tr><td>Plumb</td><td>165</td></tr><tr><td>Schnelling</td><td>165</td></tr><tr><td>Greenaway</td><td>165</td></tr><tr><td>Bugaenko</td><td>165</td></tr><tr><td>Pillow</td><td>165</td></tr><tr><td>Marciano</td><td>165</td></tr><tr><td>Pappas</td><td>165</td></tr><tr><td>Aloisi</td><td>164</td></tr><tr><td>Gulla</td><td>164</td></tr><tr><td>Pero</td><td>164</td></tr><tr><td>Esteva</td><td>164</td></tr><tr><td>Moehrke</td><td>164</td></tr><tr><td>Hagimont</td><td>164</td></tr><tr><td>Soloway</td><td>164</td></tr><tr><td>Ginesta</td><td>164</td></tr><tr><td>Porotnikoff</td><td>164</td></tr><tr><td>Bresenham</td><td>164</td></tr><tr><td>Veccia</td><td>164</td></tr><tr><td>Wilharm</td><td>164</td></tr><tr><td>Hegner</td><td>164</td></tr><tr><td>Luks</td><td>164</td></tr><tr><td>Reeker</td><td>164</td></tr><tr><td>Sury</td><td>164</td></tr><tr><td>Macedo</td><td>164</td></tr><tr><td>Zhang</td><td>163</td></tr><tr><td>Skogmar</td><td>163</td></tr><tr><td>Waleschkowski</td><td>163</td></tr><tr><td>Niizuma</td><td>163</td></tr><tr><td>Kroha</td><td>163</td></tr><tr><td>Luef</td><td>163</td></tr><tr><td>Usdin</td><td>163</td></tr><tr><td>Karlin</td><td>163</td></tr><tr><td>Kading</td><td>163</td></tr><tr><td>Zedlitz</td><td>163</td></tr><tr><td>Georgakopoulos</td><td>163</td></tr><tr><td>Matzel</td><td>163</td></tr><tr><td>Velardi</td><td>163</td></tr><tr><td>Kadhim</td><td>163</td></tr><tr><td>Pluym</td><td>163</td></tr><tr><td>Kragelund</td><td>163</td></tr><tr><td>Bierbaum</td><td>163</td></tr><tr><td>Slaats</td><td>163</td></tr><tr><td>Guerreiro</td><td>163</td></tr><tr><td>Leijenhorst</td><td>163</td></tr><tr><td>Oehlmann</td><td>163</td></tr><tr><td>Sidje</td><td>163</td></tr><tr><td>Copas</td><td>163</td></tr><tr><td>Dayana</td><td>163</td></tr><tr><td>Baig</td><td>162</td></tr><tr><td>Mundy</td><td>162</td></tr><tr><td>Couchot</td><td>162</td></tr><tr><td>Merle</td><td>162</td></tr><tr><td>Rehfuss</td><td>162</td></tr><tr><td>Baaleh</td><td>162</td></tr><tr><td>Stemann</td><td>162</td></tr><tr><td>Bisiani</td><td>162</td></tr><tr><td>Mamelak</td><td>162</td></tr><tr><td>Nittel</td><td>162</td></tr><tr><td>Baik</td><td>162</td></tr><tr><td>Nivat</td><td>162</td></tr><tr><td>VanScheik</td><td>162</td></tr><tr><td>Zobel</td><td>162</td></tr><tr><td>Dalton</td><td>162</td></tr><tr><td>Standera</td><td>161</td></tr><tr><td>Aumann</td><td>161</td></tr><tr><td>Litzkow</td><td>161</td></tr><tr><td>Breugel</td><td>161</td></tr><tr><td>Tempesti</td><td>161</td></tr><tr><td>Slutz</td><td>161</td></tr><tr><td>Erni</td><td>161</td></tr><tr><td>Lorie</td><td>161</td></tr><tr><td>Kopetz</td><td>161</td></tr><tr><td>Levergood</td><td>161</td></tr><tr><td>Swab</td><td>161</td></tr><tr><td>Anguita</td><td>161</td></tr><tr><td>Schnabel</td><td>160</td></tr><tr><td>Pellegrinelli</td><td>160</td></tr><tr><td>Schmezko</td><td>160</td></tr><tr><td>Zastre</td><td>160</td></tr><tr><td>Bharadwaj</td><td>160</td></tr><tr><td>Heijenga</td><td>160</td></tr><tr><td>Munro</td><td>160</td></tr><tr><td>Wielonsky</td><td>160</td></tr><tr><td>Tibblin</td><td>160</td></tr><tr><td>Lyonns</td><td>160</td></tr><tr><td>Ramras</td><td>160</td></tr><tr><td>Marzano</td><td>160</td></tr><tr><td>Baranowski</td><td>160</td></tr><tr><td>Kroon</td><td>160</td></tr><tr><td>Calkin</td><td>160</td></tr><tr><td>Nilsson</td><td>160</td></tr><tr><td>Jansch</td><td>160</td></tr><tr><td>Ananiadou</td><td>160</td></tr><tr><td>Raoux</td><td>160</td></tr><tr><td>Vadhan</td><td>159</td></tr><tr><td>Hmelo</td><td>159</td></tr><tr><td>Mitsuhashi</td><td>159</td></tr><tr><td>Miculan</td><td>159</td></tr><tr><td>Ramalingam</td><td>159</td></tr><tr><td>Stiles</td><td>159</td></tr><tr><td>Nitto</td><td>159</td></tr><tr><td>Schrift</td><td>159</td></tr><tr><td>Pearson</td><td>159</td></tr><tr><td>Krider</td><td>158</td></tr><tr><td>Benner</td><td>158</td></tr><tr><td>Giarratana</td><td>158</td></tr><tr><td>Carrera</td><td>158</td></tr><tr><td>Koprowski</td><td>158</td></tr><tr><td>Lemarechal</td><td>158</td></tr><tr><td>Hennebert</td><td>158</td></tr><tr><td>Leppanen</td><td>157</td></tr><tr><td>Seiwald</td><td>157</td></tr><tr><td>Vieth</td><td>156</td></tr><tr><td>Erva</td><td>156</td></tr><tr><td>Ritcey</td><td>156</td></tr><tr><td>Serov</td><td>156</td></tr><tr><td>Mandelberg</td><td>156</td></tr><tr><td>Terwilliger</td><td>156</td></tr><tr><td>Polupanov</td><td>156</td></tr><tr><td>Ozery</td><td>156</td></tr><tr><td>Dechter</td><td>156</td></tr><tr><td>Bernardinello</td><td>156</td></tr><tr><td>Ravishankar</td><td>155</td></tr><tr><td>Hopewell</td><td>155</td></tr><tr><td>Rosti</td><td>155</td></tr><tr><td>Suessmith</td><td>155</td></tr><tr><td>Baumann</td><td>155</td></tr><tr><td>Axelband</td><td>155</td></tr><tr><td>Ranst</td><td>153</td></tr><tr><td>Kabayashi</td><td>153</td></tr><tr><td>Shigei</td><td>153</td></tr><tr><td>Prampolini</td><td>153</td></tr><tr><td>Sabnani</td><td>152</td></tr><tr><td>Thorelli</td><td>152</td></tr><tr><td>Genin</td><td>152</td></tr><tr><td>Dulli</td><td>151</td></tr><tr><td>Zambonelli</td><td>151</td></tr><tr><td>Nollmann</td><td>151</td></tr><tr><td>Gonthier</td><td>151</td></tr><tr><td>Schwartzbauer</td><td>151</td></tr><tr><td>Provine</td><td>151</td></tr><tr><td>Rosar</td><td>150</td></tr><tr><td>Zykh</td><td>148</td></tr><tr><td>Georgatos</td><td>148</td></tr><tr><td>Guardalben</td><td>148</td></tr><tr><td>Merro</td><td>147</td></tr><tr><td>Sadowsky</td><td>145</td></tr><tr><td>Foolsday</td><td>1</td></tr></table>"
                    },
                    "metadata": {}
                }
            ],
            "execution_count": 1
        },
        {
            "cell_type": "code",
            "source": [
                "-- because there many employees with the same last name, created a query to check\r\n",
                "-- how many employees have the same first and last name, and birth date. Believe it, there are 6.\r\n",
                "-- this could mean a person was 'hired' more than once with gaps in employment\r\n",
                "CREATE VIEW same_employee AS\r\n",
                "SELECT first_name, last_name, birth_date, COUNT(emp_no) AS \"frequency\"\r\n",
                "FROM EmployeesT\r\n",
                "GROUP BY first_name, last_name, birth_date\r\n",
                "HAVING COUNT(emp_no) > 1\r\n",
                "-- this code was executed in the .sql file"
            ],
            "metadata": {
                "language": "sql",
                "azdata_cell_guid": "53b73715-2728-47af-a94b-c75316b2e26f",
                "tags": []
            },
            "outputs": [],
            "execution_count": null
        },
        {
            "cell_type": "code",
            "source": [
                "SELECT * FROM same_employee\r\n",
                "ORDER BY \"frequency\" DESC"
            ],
            "metadata": {
                "language": "sql",
                "azdata_cell_guid": "c22eaae0-948f-4d23-b01f-19e092179aa3"
            },
            "outputs": [
                {
                    "output_type": "display_data",
                    "data": {
                        "text/html": "(6 row(s) affected)"
                    },
                    "metadata": {}
                },
                {
                    "output_type": "display_data",
                    "data": {
                        "text/html": "Total execution time: 00:00:00.367"
                    },
                    "metadata": {}
                },
                {
                    "output_type": "execute_result",
                    "execution_count": 3,
                    "data": {
                        "application/vnd.dataresource+json": {
                            "schema": {
                                "fields": [
                                    {
                                        "name": "first_name"
                                    },
                                    {
                                        "name": "last_name"
                                    },
                                    {
                                        "name": "birth_date"
                                    },
                                    {
                                        "name": "frequency"
                                    }
                                ]
                            },
                            "data": [
                                {
                                    "first_name": "Pragnesh",
                                    "last_name": "Acton",
                                    "birth_date": "1958-05-12",
                                    "frequency": "2"
                                },
                                {
                                    "first_name": "Pintsang",
                                    "last_name": "Granlund",
                                    "birth_date": "1956-11-25",
                                    "frequency": "2"
                                },
                                {
                                    "first_name": "Holgard",
                                    "last_name": "Negoita",
                                    "birth_date": "1963-07-19",
                                    "frequency": "2"
                                },
                                {
                                    "first_name": "Sarita",
                                    "last_name": "Ghalwash",
                                    "birth_date": "1963-12-08",
                                    "frequency": "2"
                                },
                                {
                                    "first_name": "Tonny",
                                    "last_name": "Cromarty",
                                    "birth_date": "1963-05-07",
                                    "frequency": "2"
                                },
                                {
                                    "first_name": "Shim",
                                    "last_name": "Gide",
                                    "birth_date": "1963-07-10",
                                    "frequency": "2"
                                }
                            ]
                        },
                        "text/html": "<table><tr><th>first_name</th><th>last_name</th><th>birth_date</th><th>frequency</th></tr><tr><td>Pragnesh</td><td>Acton</td><td>1958-05-12</td><td>2</td></tr><tr><td>Pintsang</td><td>Granlund</td><td>1956-11-25</td><td>2</td></tr><tr><td>Holgard</td><td>Negoita</td><td>1963-07-19</td><td>2</td></tr><tr><td>Sarita</td><td>Ghalwash</td><td>1963-12-08</td><td>2</td></tr><tr><td>Tonny</td><td>Cromarty</td><td>1963-05-07</td><td>2</td></tr><tr><td>Shim</td><td>Gide</td><td>1963-07-10</td><td>2</td></tr></table>"
                    },
                    "metadata": {}
                }
            ],
            "execution_count": 3
        },
        {
            "cell_type": "code",
            "source": [
                "-- Looked at 2 different employees. When someone is 'rehired' they get a new employee number:\r\n",
                "SELECT  de.dept_no, e.emp_no, e.last_name, e.first_name, e.birth_date, e.hire_date, d.dept_name\r\n",
                "FROM EmployeesT e\r\n",
                "JOIN  Dept_EmpT de\r\n",
                "ON (e.emp_no = de.emp_no)\r\n",
                "JOIN DepartmentsT d\r\n",
                "ON (de.dept_no = d.dept_no)\r\n",
                "WHERE (first_name = 'Pragnesh' AND last_name = 'Acton') or (first_name = 'Shim' AND last_name = 'Gide')"
            ],
            "metadata": {
                "language": "sql",
                "azdata_cell_guid": "3ec650dc-f0bd-4dc4-9560-4d7ced073b14"
            },
            "outputs": [
                {
                    "output_type": "display_data",
                    "data": {
                        "text/html": "(5 row(s) affected)"
                    },
                    "metadata": {}
                },
                {
                    "output_type": "display_data",
                    "data": {
                        "text/html": "Total execution time: 00:00:00.092"
                    },
                    "metadata": {}
                },
                {
                    "output_type": "execute_result",
                    "execution_count": 4,
                    "data": {
                        "application/vnd.dataresource+json": {
                            "schema": {
                                "fields": [
                                    {
                                        "name": "dept_no"
                                    },
                                    {
                                        "name": "emp_no"
                                    },
                                    {
                                        "name": "last_name"
                                    },
                                    {
                                        "name": "first_name"
                                    },
                                    {
                                        "name": "birth_date"
                                    },
                                    {
                                        "name": "hire_date"
                                    },
                                    {
                                        "name": "dept_name"
                                    }
                                ]
                            },
                            "data": [
                                {
                                    "dept_no": "d005",
                                    "emp_no": "285261",
                                    "last_name": "Acton",
                                    "first_name": "Pragnesh",
                                    "birth_date": "1958-05-12",
                                    "hire_date": "1986-11-04",
                                    "dept_name": "Development"
                                },
                                {
                                    "dept_no": "d001",
                                    "emp_no": "106602",
                                    "last_name": "Gide",
                                    "first_name": "Shim",
                                    "birth_date": "1963-07-10",
                                    "hire_date": "1994-09-23",
                                    "dept_name": "Marketing"
                                },
                                {
                                    "dept_no": "d003",
                                    "emp_no": "106602",
                                    "last_name": "Gide",
                                    "first_name": "Shim",
                                    "birth_date": "1963-07-10",
                                    "hire_date": "1994-09-23",
                                    "dept_name": "Human Resources"
                                },
                                {
                                    "dept_no": "d004",
                                    "emp_no": "100278",
                                    "last_name": "Acton",
                                    "first_name": "Pragnesh",
                                    "birth_date": "1958-05-12",
                                    "hire_date": "1987-05-02",
                                    "dept_name": "Production"
                                },
                                {
                                    "dept_no": "d005",
                                    "emp_no": "451837",
                                    "last_name": "Gide",
                                    "first_name": "Shim",
                                    "birth_date": "1963-07-10",
                                    "hire_date": "1989-06-12",
                                    "dept_name": "Development"
                                }
                            ]
                        },
                        "text/html": "<table><tr><th>dept_no</th><th>emp_no</th><th>last_name</th><th>first_name</th><th>birth_date</th><th>hire_date</th><th>dept_name</th></tr><tr><td>d005</td><td>285261</td><td>Acton</td><td>Pragnesh</td><td>1958-05-12</td><td>1986-11-04</td><td>Development</td></tr><tr><td>d001</td><td>106602</td><td>Gide</td><td>Shim</td><td>1963-07-10</td><td>1994-09-23</td><td>Marketing</td></tr><tr><td>d003</td><td>106602</td><td>Gide</td><td>Shim</td><td>1963-07-10</td><td>1994-09-23</td><td>Human Resources</td></tr><tr><td>d004</td><td>100278</td><td>Acton</td><td>Pragnesh</td><td>1958-05-12</td><td>1987-05-02</td><td>Production</td></tr><tr><td>d005</td><td>451837</td><td>Gide</td><td>Shim</td><td>1963-07-10</td><td>1989-06-12</td><td>Development</td></tr></table>"
                    },
                    "metadata": {}
                }
            ],
            "execution_count": 4
        }
    ]
}